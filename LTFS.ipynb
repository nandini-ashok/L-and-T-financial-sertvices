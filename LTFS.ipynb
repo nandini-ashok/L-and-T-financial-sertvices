{
 "cells": [
  {
   "cell_type": "code",
   "execution_count": 1,
   "metadata": {},
   "outputs": [],
   "source": [
    "import pandas as pd\n",
    "import numpy as np\n",
    "import matplotlib.pyplot as plt"
   ]
  },
  {
   "cell_type": "code",
   "execution_count": 2,
   "metadata": {},
   "outputs": [],
   "source": [
    "import datetime as dt"
   ]
  },
  {
   "cell_type": "code",
   "execution_count": 117,
   "metadata": {},
   "outputs": [],
   "source": [
    "train_data=pd.read_csv(\"train.csv\")\n",
    "test_data=pd.read_csv(\"test.csv\")\n",
    "data_dict=pd.read_excel('Data Dictionary.xlsx')"
   ]
  },
  {
   "cell_type": "code",
   "execution_count": 4,
   "metadata": {},
   "outputs": [
    {
     "data": {
      "text/html": [
       "<div>\n",
       "<style scoped>\n",
       "    .dataframe tbody tr th:only-of-type {\n",
       "        vertical-align: middle;\n",
       "    }\n",
       "\n",
       "    .dataframe tbody tr th {\n",
       "        vertical-align: top;\n",
       "    }\n",
       "\n",
       "    .dataframe thead th {\n",
       "        text-align: right;\n",
       "    }\n",
       "</style>\n",
       "<table border=\"1\" class=\"dataframe\">\n",
       "  <thead>\n",
       "    <tr style=\"text-align: right;\">\n",
       "      <th></th>\n",
       "      <th>Variable Name</th>\n",
       "      <th>Description</th>\n",
       "      <th>Unnamed: 2</th>\n",
       "    </tr>\n",
       "  </thead>\n",
       "  <tbody>\n",
       "    <tr>\n",
       "      <th>0</th>\n",
       "      <td>UniqueID</td>\n",
       "      <td>Identifier for customers</td>\n",
       "      <td>NaN</td>\n",
       "    </tr>\n",
       "    <tr>\n",
       "      <th>1</th>\n",
       "      <td>loan_default</td>\n",
       "      <td>Payment default in the first EMI on due date</td>\n",
       "      <td>NaN</td>\n",
       "    </tr>\n",
       "    <tr>\n",
       "      <th>2</th>\n",
       "      <td>disbursed_amount</td>\n",
       "      <td>Amount of Loan disbursed</td>\n",
       "      <td>NaN</td>\n",
       "    </tr>\n",
       "    <tr>\n",
       "      <th>3</th>\n",
       "      <td>asset_cost</td>\n",
       "      <td>Cost of the Asset</td>\n",
       "      <td>NaN</td>\n",
       "    </tr>\n",
       "    <tr>\n",
       "      <th>4</th>\n",
       "      <td>ltv</td>\n",
       "      <td>Loan to Value of the asset</td>\n",
       "      <td>NaN</td>\n",
       "    </tr>\n",
       "    <tr>\n",
       "      <th>5</th>\n",
       "      <td>branch_id</td>\n",
       "      <td>Branch where the loan was disbursed</td>\n",
       "      <td>NaN</td>\n",
       "    </tr>\n",
       "    <tr>\n",
       "      <th>6</th>\n",
       "      <td>supplier_id</td>\n",
       "      <td>Vehicle Dealer where the loan was disbursed</td>\n",
       "      <td>NaN</td>\n",
       "    </tr>\n",
       "    <tr>\n",
       "      <th>7</th>\n",
       "      <td>manufacturer_id</td>\n",
       "      <td>Vehicle manufacturer(Hero, Honda, TVS etc.)</td>\n",
       "      <td>NaN</td>\n",
       "    </tr>\n",
       "    <tr>\n",
       "      <th>8</th>\n",
       "      <td>Current_pincode</td>\n",
       "      <td>Current pincode of the customer</td>\n",
       "      <td>NaN</td>\n",
       "    </tr>\n",
       "    <tr>\n",
       "      <th>9</th>\n",
       "      <td>Date.of.Birth</td>\n",
       "      <td>Date of birth of the customer</td>\n",
       "      <td>NaN</td>\n",
       "    </tr>\n",
       "    <tr>\n",
       "      <th>10</th>\n",
       "      <td>Employment.Type</td>\n",
       "      <td>Employment Type of the customer (Salaried/Self...</td>\n",
       "      <td>NaN</td>\n",
       "    </tr>\n",
       "    <tr>\n",
       "      <th>11</th>\n",
       "      <td>DisbursalDate</td>\n",
       "      <td>Date of disbursement</td>\n",
       "      <td>NaN</td>\n",
       "    </tr>\n",
       "    <tr>\n",
       "      <th>12</th>\n",
       "      <td>State_ID</td>\n",
       "      <td>State of disbursement</td>\n",
       "      <td>NaN</td>\n",
       "    </tr>\n",
       "    <tr>\n",
       "      <th>13</th>\n",
       "      <td>Employee_code_ID</td>\n",
       "      <td>Employee of the organization who logged the di...</td>\n",
       "      <td>NaN</td>\n",
       "    </tr>\n",
       "    <tr>\n",
       "      <th>14</th>\n",
       "      <td>MobileNo_Avl_Flag</td>\n",
       "      <td>if Mobile no. was shared by the customer then ...</td>\n",
       "      <td>NaN</td>\n",
       "    </tr>\n",
       "    <tr>\n",
       "      <th>15</th>\n",
       "      <td>Aadhar_flag</td>\n",
       "      <td>if aadhar was shared by the customer then flag...</td>\n",
       "      <td>NaN</td>\n",
       "    </tr>\n",
       "    <tr>\n",
       "      <th>16</th>\n",
       "      <td>PAN_flag</td>\n",
       "      <td>if pan was shared by the customer then flagged...</td>\n",
       "      <td>NaN</td>\n",
       "    </tr>\n",
       "    <tr>\n",
       "      <th>17</th>\n",
       "      <td>VoterID_flag</td>\n",
       "      <td>if voter  was shared by the customer then flag...</td>\n",
       "      <td>NaN</td>\n",
       "    </tr>\n",
       "    <tr>\n",
       "      <th>18</th>\n",
       "      <td>Driving_flag</td>\n",
       "      <td>if DL was shared by the customer then flagged ...</td>\n",
       "      <td>NaN</td>\n",
       "    </tr>\n",
       "    <tr>\n",
       "      <th>19</th>\n",
       "      <td>Passport_flag</td>\n",
       "      <td>if passport was shared by the customer then fl...</td>\n",
       "      <td>NaN</td>\n",
       "    </tr>\n",
       "    <tr>\n",
       "      <th>20</th>\n",
       "      <td>PERFORM_CNS.SCORE</td>\n",
       "      <td>Bureau Score</td>\n",
       "      <td>NaN</td>\n",
       "    </tr>\n",
       "    <tr>\n",
       "      <th>21</th>\n",
       "      <td>PERFORM_CNS.SCORE.DESCRIPTION</td>\n",
       "      <td>Bureau score description</td>\n",
       "      <td>NaN</td>\n",
       "    </tr>\n",
       "    <tr>\n",
       "      <th>22</th>\n",
       "      <td>PRI.NO.OF.ACCTS</td>\n",
       "      <td>count of total loans taken by the customer at ...</td>\n",
       "      <td>Primary accounts are those which the customer ...</td>\n",
       "    </tr>\n",
       "    <tr>\n",
       "      <th>23</th>\n",
       "      <td>PRI.ACTIVE.ACCTS</td>\n",
       "      <td>count of active loans taken by the customer at...</td>\n",
       "      <td>NaN</td>\n",
       "    </tr>\n",
       "    <tr>\n",
       "      <th>24</th>\n",
       "      <td>PRI.OVERDUE.ACCTS</td>\n",
       "      <td>count of default accounts at the time of disbu...</td>\n",
       "      <td>NaN</td>\n",
       "    </tr>\n",
       "    <tr>\n",
       "      <th>25</th>\n",
       "      <td>PRI.CURRENT.BALANCE</td>\n",
       "      <td>total Principal outstanding amount of the acti...</td>\n",
       "      <td>NaN</td>\n",
       "    </tr>\n",
       "    <tr>\n",
       "      <th>26</th>\n",
       "      <td>PRI.SANCTIONED.AMOUNT</td>\n",
       "      <td>total amount that was sanctioned for all the l...</td>\n",
       "      <td>NaN</td>\n",
       "    </tr>\n",
       "    <tr>\n",
       "      <th>27</th>\n",
       "      <td>PRI.DISBURSED.AMOUNT</td>\n",
       "      <td>total amount that was disbursed for all the lo...</td>\n",
       "      <td>NaN</td>\n",
       "    </tr>\n",
       "    <tr>\n",
       "      <th>28</th>\n",
       "      <td>SEC.NO.OF.ACCTS</td>\n",
       "      <td>count of total loans taken by the customer at ...</td>\n",
       "      <td>Secondary accounts are those which the custome...</td>\n",
       "    </tr>\n",
       "    <tr>\n",
       "      <th>29</th>\n",
       "      <td>SEC.ACTIVE.ACCTS</td>\n",
       "      <td>count of active loans taken by the customer at...</td>\n",
       "      <td>NaN</td>\n",
       "    </tr>\n",
       "    <tr>\n",
       "      <th>30</th>\n",
       "      <td>SEC.OVERDUE.ACCTS</td>\n",
       "      <td>count of default accounts at the time of disbu...</td>\n",
       "      <td>NaN</td>\n",
       "    </tr>\n",
       "    <tr>\n",
       "      <th>31</th>\n",
       "      <td>SEC.CURRENT.BALANCE</td>\n",
       "      <td>total Principal outstanding amount of the acti...</td>\n",
       "      <td>NaN</td>\n",
       "    </tr>\n",
       "    <tr>\n",
       "      <th>32</th>\n",
       "      <td>SEC.SANCTIONED.AMOUNT</td>\n",
       "      <td>total amount that was sanctioned for all the l...</td>\n",
       "      <td>NaN</td>\n",
       "    </tr>\n",
       "    <tr>\n",
       "      <th>33</th>\n",
       "      <td>SEC.DISBURSED.AMOUNT</td>\n",
       "      <td>total amount that was disbursed for all the lo...</td>\n",
       "      <td>NaN</td>\n",
       "    </tr>\n",
       "    <tr>\n",
       "      <th>34</th>\n",
       "      <td>PRIMARY.INSTAL.AMT</td>\n",
       "      <td>EMI Amount of the primary loan</td>\n",
       "      <td>NaN</td>\n",
       "    </tr>\n",
       "    <tr>\n",
       "      <th>35</th>\n",
       "      <td>SEC.INSTAL.AMT</td>\n",
       "      <td>EMI Amount of the secondary loan</td>\n",
       "      <td>NaN</td>\n",
       "    </tr>\n",
       "    <tr>\n",
       "      <th>36</th>\n",
       "      <td>NEW.ACCTS.IN.LAST.SIX.MONTHS</td>\n",
       "      <td>New loans taken by the customer in last 6 mont...</td>\n",
       "      <td>NaN</td>\n",
       "    </tr>\n",
       "    <tr>\n",
       "      <th>37</th>\n",
       "      <td>DELINQUENT.ACCTS.IN.LAST.SIX.MONTHS</td>\n",
       "      <td>Loans defaulted in the last 6 months</td>\n",
       "      <td>NaN</td>\n",
       "    </tr>\n",
       "    <tr>\n",
       "      <th>38</th>\n",
       "      <td>AVERAGE.ACCT.AGE</td>\n",
       "      <td>Average loan tenure</td>\n",
       "      <td>NaN</td>\n",
       "    </tr>\n",
       "    <tr>\n",
       "      <th>39</th>\n",
       "      <td>CREDIT.HISTORY.LENGTH</td>\n",
       "      <td>Time since first loan</td>\n",
       "      <td>NaN</td>\n",
       "    </tr>\n",
       "    <tr>\n",
       "      <th>40</th>\n",
       "      <td>NO.OF_INQUIRIES</td>\n",
       "      <td>Enquries done by the customer for loans</td>\n",
       "      <td>NaN</td>\n",
       "    </tr>\n",
       "  </tbody>\n",
       "</table>\n",
       "</div>"
      ],
      "text/plain": [
       "                          Variable Name  \\\n",
       "0                              UniqueID   \n",
       "1                          loan_default   \n",
       "2                      disbursed_amount   \n",
       "3                            asset_cost   \n",
       "4                                   ltv   \n",
       "5                             branch_id   \n",
       "6                           supplier_id   \n",
       "7                       manufacturer_id   \n",
       "8                       Current_pincode   \n",
       "9                         Date.of.Birth   \n",
       "10                      Employment.Type   \n",
       "11                        DisbursalDate   \n",
       "12                             State_ID   \n",
       "13                     Employee_code_ID   \n",
       "14                    MobileNo_Avl_Flag   \n",
       "15                          Aadhar_flag   \n",
       "16                             PAN_flag   \n",
       "17                         VoterID_flag   \n",
       "18                         Driving_flag   \n",
       "19                        Passport_flag   \n",
       "20                    PERFORM_CNS.SCORE   \n",
       "21        PERFORM_CNS.SCORE.DESCRIPTION   \n",
       "22                      PRI.NO.OF.ACCTS   \n",
       "23                     PRI.ACTIVE.ACCTS   \n",
       "24                    PRI.OVERDUE.ACCTS   \n",
       "25                  PRI.CURRENT.BALANCE   \n",
       "26                PRI.SANCTIONED.AMOUNT   \n",
       "27                 PRI.DISBURSED.AMOUNT   \n",
       "28                      SEC.NO.OF.ACCTS   \n",
       "29                     SEC.ACTIVE.ACCTS   \n",
       "30                    SEC.OVERDUE.ACCTS   \n",
       "31                  SEC.CURRENT.BALANCE   \n",
       "32                SEC.SANCTIONED.AMOUNT   \n",
       "33                 SEC.DISBURSED.AMOUNT   \n",
       "34                   PRIMARY.INSTAL.AMT   \n",
       "35                       SEC.INSTAL.AMT   \n",
       "36         NEW.ACCTS.IN.LAST.SIX.MONTHS   \n",
       "37  DELINQUENT.ACCTS.IN.LAST.SIX.MONTHS   \n",
       "38                     AVERAGE.ACCT.AGE   \n",
       "39                CREDIT.HISTORY.LENGTH   \n",
       "40                      NO.OF_INQUIRIES   \n",
       "\n",
       "                                          Description  \\\n",
       "0                            Identifier for customers   \n",
       "1        Payment default in the first EMI on due date   \n",
       "2                            Amount of Loan disbursed   \n",
       "3                                   Cost of the Asset   \n",
       "4                          Loan to Value of the asset   \n",
       "5                 Branch where the loan was disbursed   \n",
       "6         Vehicle Dealer where the loan was disbursed   \n",
       "7         Vehicle manufacturer(Hero, Honda, TVS etc.)   \n",
       "8                     Current pincode of the customer   \n",
       "9                       Date of birth of the customer   \n",
       "10  Employment Type of the customer (Salaried/Self...   \n",
       "11                               Date of disbursement   \n",
       "12                              State of disbursement   \n",
       "13  Employee of the organization who logged the di...   \n",
       "14  if Mobile no. was shared by the customer then ...   \n",
       "15  if aadhar was shared by the customer then flag...   \n",
       "16  if pan was shared by the customer then flagged...   \n",
       "17  if voter  was shared by the customer then flag...   \n",
       "18  if DL was shared by the customer then flagged ...   \n",
       "19  if passport was shared by the customer then fl...   \n",
       "20                                       Bureau Score   \n",
       "21                           Bureau score description   \n",
       "22  count of total loans taken by the customer at ...   \n",
       "23  count of active loans taken by the customer at...   \n",
       "24  count of default accounts at the time of disbu...   \n",
       "25  total Principal outstanding amount of the acti...   \n",
       "26  total amount that was sanctioned for all the l...   \n",
       "27  total amount that was disbursed for all the lo...   \n",
       "28  count of total loans taken by the customer at ...   \n",
       "29  count of active loans taken by the customer at...   \n",
       "30  count of default accounts at the time of disbu...   \n",
       "31  total Principal outstanding amount of the acti...   \n",
       "32  total amount that was sanctioned for all the l...   \n",
       "33  total amount that was disbursed for all the lo...   \n",
       "34                     EMI Amount of the primary loan   \n",
       "35                   EMI Amount of the secondary loan   \n",
       "36  New loans taken by the customer in last 6 mont...   \n",
       "37               Loans defaulted in the last 6 months   \n",
       "38                                Average loan tenure   \n",
       "39                              Time since first loan   \n",
       "40            Enquries done by the customer for loans   \n",
       "\n",
       "                                           Unnamed: 2  \n",
       "0                                                 NaN  \n",
       "1                                                 NaN  \n",
       "2                                                 NaN  \n",
       "3                                                 NaN  \n",
       "4                                                 NaN  \n",
       "5                                                 NaN  \n",
       "6                                                 NaN  \n",
       "7                                                 NaN  \n",
       "8                                                 NaN  \n",
       "9                                                 NaN  \n",
       "10                                                NaN  \n",
       "11                                                NaN  \n",
       "12                                                NaN  \n",
       "13                                                NaN  \n",
       "14                                                NaN  \n",
       "15                                                NaN  \n",
       "16                                                NaN  \n",
       "17                                                NaN  \n",
       "18                                                NaN  \n",
       "19                                                NaN  \n",
       "20                                                NaN  \n",
       "21                                                NaN  \n",
       "22  Primary accounts are those which the customer ...  \n",
       "23                                                NaN  \n",
       "24                                                NaN  \n",
       "25                                                NaN  \n",
       "26                                                NaN  \n",
       "27                                                NaN  \n",
       "28  Secondary accounts are those which the custome...  \n",
       "29                                                NaN  \n",
       "30                                                NaN  \n",
       "31                                                NaN  \n",
       "32                                                NaN  \n",
       "33                                                NaN  \n",
       "34                                                NaN  \n",
       "35                                                NaN  \n",
       "36                                                NaN  \n",
       "37                                                NaN  \n",
       "38                                                NaN  \n",
       "39                                                NaN  \n",
       "40                                                NaN  "
      ]
     },
     "execution_count": 4,
     "metadata": {},
     "output_type": "execute_result"
    }
   ],
   "source": [
    "data_dict"
   ]
  },
  {
   "cell_type": "code",
   "execution_count": 5,
   "metadata": {},
   "outputs": [
    {
     "data": {
      "text/plain": [
       "((233154, 41), (112392, 40))"
      ]
     },
     "execution_count": 5,
     "metadata": {},
     "output_type": "execute_result"
    }
   ],
   "source": [
    "train_data.shape,test_data.shape"
   ]
  },
  {
   "cell_type": "code",
   "execution_count": 6,
   "metadata": {},
   "outputs": [
    {
     "data": {
      "text/html": [
       "<div>\n",
       "<style scoped>\n",
       "    .dataframe tbody tr th:only-of-type {\n",
       "        vertical-align: middle;\n",
       "    }\n",
       "\n",
       "    .dataframe tbody tr th {\n",
       "        vertical-align: top;\n",
       "    }\n",
       "\n",
       "    .dataframe thead th {\n",
       "        text-align: right;\n",
       "    }\n",
       "</style>\n",
       "<table border=\"1\" class=\"dataframe\">\n",
       "  <thead>\n",
       "    <tr style=\"text-align: right;\">\n",
       "      <th></th>\n",
       "      <th>UniqueID</th>\n",
       "      <th>disbursed_amount</th>\n",
       "      <th>asset_cost</th>\n",
       "      <th>ltv</th>\n",
       "      <th>branch_id</th>\n",
       "      <th>supplier_id</th>\n",
       "      <th>manufacturer_id</th>\n",
       "      <th>Current_pincode_ID</th>\n",
       "      <th>Date.of.Birth</th>\n",
       "      <th>Employment.Type</th>\n",
       "      <th>...</th>\n",
       "      <th>SEC.SANCTIONED.AMOUNT</th>\n",
       "      <th>SEC.DISBURSED.AMOUNT</th>\n",
       "      <th>PRIMARY.INSTAL.AMT</th>\n",
       "      <th>SEC.INSTAL.AMT</th>\n",
       "      <th>NEW.ACCTS.IN.LAST.SIX.MONTHS</th>\n",
       "      <th>DELINQUENT.ACCTS.IN.LAST.SIX.MONTHS</th>\n",
       "      <th>AVERAGE.ACCT.AGE</th>\n",
       "      <th>CREDIT.HISTORY.LENGTH</th>\n",
       "      <th>NO.OF_INQUIRIES</th>\n",
       "      <th>loan_default</th>\n",
       "    </tr>\n",
       "  </thead>\n",
       "  <tbody>\n",
       "    <tr>\n",
       "      <th>0</th>\n",
       "      <td>420825</td>\n",
       "      <td>50578</td>\n",
       "      <td>58400</td>\n",
       "      <td>89.55</td>\n",
       "      <td>67</td>\n",
       "      <td>22807</td>\n",
       "      <td>45</td>\n",
       "      <td>1441</td>\n",
       "      <td>01-01-84</td>\n",
       "      <td>Salaried</td>\n",
       "      <td>...</td>\n",
       "      <td>0</td>\n",
       "      <td>0</td>\n",
       "      <td>0</td>\n",
       "      <td>0</td>\n",
       "      <td>0</td>\n",
       "      <td>0</td>\n",
       "      <td>0yrs 0mon</td>\n",
       "      <td>0yrs 0mon</td>\n",
       "      <td>0</td>\n",
       "      <td>0</td>\n",
       "    </tr>\n",
       "    <tr>\n",
       "      <th>1</th>\n",
       "      <td>537409</td>\n",
       "      <td>47145</td>\n",
       "      <td>65550</td>\n",
       "      <td>73.23</td>\n",
       "      <td>67</td>\n",
       "      <td>22807</td>\n",
       "      <td>45</td>\n",
       "      <td>1502</td>\n",
       "      <td>31-07-85</td>\n",
       "      <td>Self employed</td>\n",
       "      <td>...</td>\n",
       "      <td>0</td>\n",
       "      <td>0</td>\n",
       "      <td>1991</td>\n",
       "      <td>0</td>\n",
       "      <td>0</td>\n",
       "      <td>1</td>\n",
       "      <td>1yrs 11mon</td>\n",
       "      <td>1yrs 11mon</td>\n",
       "      <td>0</td>\n",
       "      <td>1</td>\n",
       "    </tr>\n",
       "    <tr>\n",
       "      <th>2</th>\n",
       "      <td>417566</td>\n",
       "      <td>53278</td>\n",
       "      <td>61360</td>\n",
       "      <td>89.63</td>\n",
       "      <td>67</td>\n",
       "      <td>22807</td>\n",
       "      <td>45</td>\n",
       "      <td>1497</td>\n",
       "      <td>24-08-85</td>\n",
       "      <td>Self employed</td>\n",
       "      <td>...</td>\n",
       "      <td>0</td>\n",
       "      <td>0</td>\n",
       "      <td>0</td>\n",
       "      <td>0</td>\n",
       "      <td>0</td>\n",
       "      <td>0</td>\n",
       "      <td>0yrs 0mon</td>\n",
       "      <td>0yrs 0mon</td>\n",
       "      <td>0</td>\n",
       "      <td>0</td>\n",
       "    </tr>\n",
       "    <tr>\n",
       "      <th>3</th>\n",
       "      <td>624493</td>\n",
       "      <td>57513</td>\n",
       "      <td>66113</td>\n",
       "      <td>88.48</td>\n",
       "      <td>67</td>\n",
       "      <td>22807</td>\n",
       "      <td>45</td>\n",
       "      <td>1501</td>\n",
       "      <td>30-12-93</td>\n",
       "      <td>Self employed</td>\n",
       "      <td>...</td>\n",
       "      <td>0</td>\n",
       "      <td>0</td>\n",
       "      <td>31</td>\n",
       "      <td>0</td>\n",
       "      <td>0</td>\n",
       "      <td>0</td>\n",
       "      <td>0yrs 8mon</td>\n",
       "      <td>1yrs 3mon</td>\n",
       "      <td>1</td>\n",
       "      <td>1</td>\n",
       "    </tr>\n",
       "    <tr>\n",
       "      <th>4</th>\n",
       "      <td>539055</td>\n",
       "      <td>52378</td>\n",
       "      <td>60300</td>\n",
       "      <td>88.39</td>\n",
       "      <td>67</td>\n",
       "      <td>22807</td>\n",
       "      <td>45</td>\n",
       "      <td>1495</td>\n",
       "      <td>09-12-77</td>\n",
       "      <td>Self employed</td>\n",
       "      <td>...</td>\n",
       "      <td>0</td>\n",
       "      <td>0</td>\n",
       "      <td>0</td>\n",
       "      <td>0</td>\n",
       "      <td>0</td>\n",
       "      <td>0</td>\n",
       "      <td>0yrs 0mon</td>\n",
       "      <td>0yrs 0mon</td>\n",
       "      <td>1</td>\n",
       "      <td>1</td>\n",
       "    </tr>\n",
       "  </tbody>\n",
       "</table>\n",
       "<p>5 rows × 41 columns</p>\n",
       "</div>"
      ],
      "text/plain": [
       "   UniqueID  disbursed_amount  asset_cost    ltv  branch_id  supplier_id  \\\n",
       "0    420825             50578       58400  89.55         67        22807   \n",
       "1    537409             47145       65550  73.23         67        22807   \n",
       "2    417566             53278       61360  89.63         67        22807   \n",
       "3    624493             57513       66113  88.48         67        22807   \n",
       "4    539055             52378       60300  88.39         67        22807   \n",
       "\n",
       "   manufacturer_id  Current_pincode_ID Date.of.Birth Employment.Type  \\\n",
       "0               45                1441      01-01-84        Salaried   \n",
       "1               45                1502      31-07-85   Self employed   \n",
       "2               45                1497      24-08-85   Self employed   \n",
       "3               45                1501      30-12-93   Self employed   \n",
       "4               45                1495      09-12-77   Self employed   \n",
       "\n",
       "       ...      SEC.SANCTIONED.AMOUNT  SEC.DISBURSED.AMOUNT  \\\n",
       "0      ...                          0                     0   \n",
       "1      ...                          0                     0   \n",
       "2      ...                          0                     0   \n",
       "3      ...                          0                     0   \n",
       "4      ...                          0                     0   \n",
       "\n",
       "   PRIMARY.INSTAL.AMT  SEC.INSTAL.AMT  NEW.ACCTS.IN.LAST.SIX.MONTHS  \\\n",
       "0                   0               0                             0   \n",
       "1                1991               0                             0   \n",
       "2                   0               0                             0   \n",
       "3                  31               0                             0   \n",
       "4                   0               0                             0   \n",
       "\n",
       "   DELINQUENT.ACCTS.IN.LAST.SIX.MONTHS  AVERAGE.ACCT.AGE  \\\n",
       "0                                    0         0yrs 0mon   \n",
       "1                                    1        1yrs 11mon   \n",
       "2                                    0         0yrs 0mon   \n",
       "3                                    0         0yrs 8mon   \n",
       "4                                    0         0yrs 0mon   \n",
       "\n",
       "   CREDIT.HISTORY.LENGTH  NO.OF_INQUIRIES  loan_default  \n",
       "0              0yrs 0mon                0             0  \n",
       "1             1yrs 11mon                0             1  \n",
       "2              0yrs 0mon                0             0  \n",
       "3              1yrs 3mon                1             1  \n",
       "4              0yrs 0mon                1             1  \n",
       "\n",
       "[5 rows x 41 columns]"
      ]
     },
     "execution_count": 6,
     "metadata": {},
     "output_type": "execute_result"
    }
   ],
   "source": [
    "train_data.head()"
   ]
  },
  {
   "cell_type": "code",
   "execution_count": 7,
   "metadata": {},
   "outputs": [],
   "source": [
    "# separating numericals and categorical\n",
    "cat=[]\n",
    "num=[]\n",
    "for column in train_data.columns:\n",
    "    if (train_data[column].dtype==\"object\")|(len(train_data[column].unique())<=30):\n",
    "        cat.append(column)\n",
    "    else:\n",
    "        num.append(column)\n",
    "new_train_cat=train_data.loc[:,cat]\n",
    "new_train_num=train_data.loc[:,num]"
   ]
  },
  {
   "cell_type": "code",
   "execution_count": 8,
   "metadata": {},
   "outputs": [
    {
     "data": {
      "text/plain": [
       "(233154, 20)"
      ]
     },
     "execution_count": 8,
     "metadata": {},
     "output_type": "execute_result"
    }
   ],
   "source": [
    "new_train_num.shape"
   ]
  },
  {
   "cell_type": "code",
   "execution_count": 9,
   "metadata": {},
   "outputs": [],
   "source": [
    "default = pd.DataFrame(train_data['loan_default'])"
   ]
  },
  {
   "cell_type": "code",
   "execution_count": 10,
   "metadata": {},
   "outputs": [],
   "source": [
    "new_data=pd.concat([new_train_num,default],axis=1)"
   ]
  },
  {
   "cell_type": "code",
   "execution_count": 11,
   "metadata": {},
   "outputs": [
    {
     "data": {
      "text/plain": [
       "(233154, 21)"
      ]
     },
     "execution_count": 11,
     "metadata": {},
     "output_type": "execute_result"
    }
   ],
   "source": [
    "new_data.shape"
   ]
  },
  {
   "cell_type": "code",
   "execution_count": 12,
   "metadata": {},
   "outputs": [],
   "source": [
    "#train_data[\"disbursed_amount\"].value_counts().plot(kind='barh',figsize=(6,4),color='blue',fontsize=13)"
   ]
  },
  {
   "cell_type": "markdown",
   "metadata": {},
   "source": [
    "## Numerical variables examine"
   ]
  },
  {
   "cell_type": "code",
   "execution_count": 13,
   "metadata": {},
   "outputs": [],
   "source": [
    "#checking the correlation of numericals\n",
    "# checking correlation by adding predictor to numerical variables\n",
    "corr = new_data.corr()"
   ]
  },
  {
   "cell_type": "code",
   "execution_count": 14,
   "metadata": {},
   "outputs": [
    {
     "data": {
      "image/png": "[encoded data removed]",
      "text/plain": [
       "<Figure size 864x720 with 2 Axes>"
      ]
     },
     "metadata": {},
     "output_type": "display_data"
    }
   ],
   "source": [
    "import seaborn as sns\n",
    "plt.figure(figsize=(12, 10))\n",
    "\n",
    "sns.heatmap(corr[(corr >= 0.5) | (corr <= -0.4)], \n",
    "            cmap='viridis', vmax=1.0, vmin=-1.0, linewidths=0.1,\n",
    "            annot=True, annot_kws={\"size\": 8}, square=True);"
   ]
  },
  {
   "cell_type": "code",
   "execution_count": 15,
   "metadata": {},
   "outputs": [
    {
     "data": {
      "text/plain": [
       "<matplotlib.axes._subplots.AxesSubplot at 0x16a8ef56278>"
      ]
     },
     "execution_count": 15,
     "metadata": {},
     "output_type": "execute_result"
    },
    {
     "data": {
      "image/png": "[encoded data removed]",
      "text/plain": [
       "<Figure size 720x720 with 2 Axes>"
      ]
     },
     "metadata": {},
     "output_type": "display_data"
    }
   ],
   "source": [
    "plt.figure(figsize=(10,10))\n",
    "cmap = sns.diverging_palette(220,10,as_cmap=True) #220 is for height and 10 is for width\n",
    "sns.heatmap(corr,xticklabels=corr.columns.values,yticklabels=corr.columns.values,cmap=cmap,vmax=.3,center=0,\n",
    "            square=True,linewidths=0.5,cbar_kws={'shrink':.82})"
   ]
  },
  {
   "cell_type": "code",
   "execution_count": 16,
   "metadata": {},
   "outputs": [
    {
     "data": {
      "text/html": [
       "<div>\n",
       "<style scoped>\n",
       "    .dataframe tbody tr th:only-of-type {\n",
       "        vertical-align: middle;\n",
       "    }\n",
       "\n",
       "    .dataframe tbody tr th {\n",
       "        vertical-align: top;\n",
       "    }\n",
       "\n",
       "    .dataframe thead th {\n",
       "        text-align: right;\n",
       "    }\n",
       "</style>\n",
       "<table border=\"1\" class=\"dataframe\">\n",
       "  <thead>\n",
       "    <tr style=\"text-align: right;\">\n",
       "      <th></th>\n",
       "      <th>UniqueID</th>\n",
       "      <th>disbursed_amount</th>\n",
       "      <th>asset_cost</th>\n",
       "      <th>ltv</th>\n",
       "      <th>branch_id</th>\n",
       "      <th>supplier_id</th>\n",
       "      <th>Current_pincode_ID</th>\n",
       "      <th>Employee_code_ID</th>\n",
       "      <th>PERFORM_CNS.SCORE</th>\n",
       "      <th>PRI.NO.OF.ACCTS</th>\n",
       "      <th>...</th>\n",
       "      <th>PRI.CURRENT.BALANCE</th>\n",
       "      <th>PRI.SANCTIONED.AMOUNT</th>\n",
       "      <th>PRI.DISBURSED.AMOUNT</th>\n",
       "      <th>SEC.NO.OF.ACCTS</th>\n",
       "      <th>SEC.CURRENT.BALANCE</th>\n",
       "      <th>SEC.SANCTIONED.AMOUNT</th>\n",
       "      <th>SEC.DISBURSED.AMOUNT</th>\n",
       "      <th>PRIMARY.INSTAL.AMT</th>\n",
       "      <th>SEC.INSTAL.AMT</th>\n",
       "      <th>loan_default</th>\n",
       "    </tr>\n",
       "  </thead>\n",
       "  <tbody>\n",
       "    <tr>\n",
       "      <th>UniqueID</th>\n",
       "      <td>1.000000</td>\n",
       "      <td>0.145575</td>\n",
       "      <td>0.144671</td>\n",
       "      <td>-0.030537</td>\n",
       "      <td>-0.004509</td>\n",
       "      <td>0.025747</td>\n",
       "      <td>0.030500</td>\n",
       "      <td>0.075983</td>\n",
       "      <td>-0.014016</td>\n",
       "      <td>-0.013584</td>\n",
       "      <td>...</td>\n",
       "      <td>-0.007259</td>\n",
       "      <td>-0.002910</td>\n",
       "      <td>-0.002563</td>\n",
       "      <td>-0.044180</td>\n",
       "      <td>-0.013428</td>\n",
       "      <td>-0.017114</td>\n",
       "      <td>-0.016857</td>\n",
       "      <td>-0.009321</td>\n",
       "      <td>-0.013518</td>\n",
       "      <td>0.033848</td>\n",
       "    </tr>\n",
       "    <tr>\n",
       "      <th>disbursed_amount</th>\n",
       "      <td>0.145575</td>\n",
       "      <td>1.000000</td>\n",
       "      <td>0.752668</td>\n",
       "      <td>0.376747</td>\n",
       "      <td>0.018328</td>\n",
       "      <td>0.078596</td>\n",
       "      <td>0.068540</td>\n",
       "      <td>0.010120</td>\n",
       "      <td>0.011409</td>\n",
       "      <td>0.034461</td>\n",
       "      <td>...</td>\n",
       "      <td>0.015713</td>\n",
       "      <td>0.006294</td>\n",
       "      <td>0.006412</td>\n",
       "      <td>-0.014916</td>\n",
       "      <td>-0.004227</td>\n",
       "      <td>-0.005271</td>\n",
       "      <td>-0.005119</td>\n",
       "      <td>0.002350</td>\n",
       "      <td>-0.005525</td>\n",
       "      <td>0.077675</td>\n",
       "    </tr>\n",
       "    <tr>\n",
       "      <th>asset_cost</th>\n",
       "      <td>0.144671</td>\n",
       "      <td>0.752668</td>\n",
       "      <td>1.000000</td>\n",
       "      <td>-0.301188</td>\n",
       "      <td>0.018586</td>\n",
       "      <td>0.150002</td>\n",
       "      <td>0.275878</td>\n",
       "      <td>0.008711</td>\n",
       "      <td>-0.047398</td>\n",
       "      <td>-0.026798</td>\n",
       "      <td>...</td>\n",
       "      <td>-0.004356</td>\n",
       "      <td>-0.001180</td>\n",
       "      <td>-0.001221</td>\n",
       "      <td>-0.022600</td>\n",
       "      <td>-0.008697</td>\n",
       "      <td>-0.010776</td>\n",
       "      <td>-0.010594</td>\n",
       "      <td>-0.004356</td>\n",
       "      <td>-0.005738</td>\n",
       "      <td>0.014261</td>\n",
       "    </tr>\n",
       "    <tr>\n",
       "      <th>ltv</th>\n",
       "      <td>-0.030537</td>\n",
       "      <td>0.376747</td>\n",
       "      <td>-0.301188</td>\n",
       "      <td>1.000000</td>\n",
       "      <td>0.006382</td>\n",
       "      <td>-0.103732</td>\n",
       "      <td>-0.300112</td>\n",
       "      <td>0.004940</td>\n",
       "      <td>0.084993</td>\n",
       "      <td>0.086571</td>\n",
       "      <td>...</td>\n",
       "      <td>0.026714</td>\n",
       "      <td>0.009955</td>\n",
       "      <td>0.010177</td>\n",
       "      <td>0.013019</td>\n",
       "      <td>0.007195</td>\n",
       "      <td>0.008800</td>\n",
       "      <td>0.008733</td>\n",
       "      <td>0.007358</td>\n",
       "      <td>0.000481</td>\n",
       "      <td>0.098208</td>\n",
       "    </tr>\n",
       "    <tr>\n",
       "      <th>branch_id</th>\n",
       "      <td>-0.004509</td>\n",
       "      <td>0.018328</td>\n",
       "      <td>0.018586</td>\n",
       "      <td>0.006382</td>\n",
       "      <td>1.000000</td>\n",
       "      <td>0.225744</td>\n",
       "      <td>0.048192</td>\n",
       "      <td>0.088764</td>\n",
       "      <td>-0.018049</td>\n",
       "      <td>-0.010384</td>\n",
       "      <td>...</td>\n",
       "      <td>-0.004133</td>\n",
       "      <td>-0.003370</td>\n",
       "      <td>-0.003412</td>\n",
       "      <td>-0.003194</td>\n",
       "      <td>0.001418</td>\n",
       "      <td>0.002404</td>\n",
       "      <td>0.002457</td>\n",
       "      <td>0.004955</td>\n",
       "      <td>0.004265</td>\n",
       "      <td>0.030193</td>\n",
       "    </tr>\n",
       "    <tr>\n",
       "      <th>supplier_id</th>\n",
       "      <td>0.025747</td>\n",
       "      <td>0.078596</td>\n",
       "      <td>0.150002</td>\n",
       "      <td>-0.103732</td>\n",
       "      <td>0.225744</td>\n",
       "      <td>1.000000</td>\n",
       "      <td>0.187401</td>\n",
       "      <td>0.095792</td>\n",
       "      <td>-0.077029</td>\n",
       "      <td>-0.070536</td>\n",
       "      <td>...</td>\n",
       "      <td>-0.022582</td>\n",
       "      <td>-0.012959</td>\n",
       "      <td>-0.012950</td>\n",
       "      <td>-0.025809</td>\n",
       "      <td>-0.008729</td>\n",
       "      <td>-0.010175</td>\n",
       "      <td>-0.010031</td>\n",
       "      <td>-0.011953</td>\n",
       "      <td>-0.005826</td>\n",
       "      <td>0.027357</td>\n",
       "    </tr>\n",
       "    <tr>\n",
       "      <th>Current_pincode_ID</th>\n",
       "      <td>0.030500</td>\n",
       "      <td>0.068540</td>\n",
       "      <td>0.275878</td>\n",
       "      <td>-0.300112</td>\n",
       "      <td>0.048192</td>\n",
       "      <td>0.187401</td>\n",
       "      <td>1.000000</td>\n",
       "      <td>-0.042609</td>\n",
       "      <td>-0.161664</td>\n",
       "      <td>-0.084687</td>\n",
       "      <td>...</td>\n",
       "      <td>-0.055948</td>\n",
       "      <td>-0.025843</td>\n",
       "      <td>-0.025697</td>\n",
       "      <td>-0.051766</td>\n",
       "      <td>-0.021048</td>\n",
       "      <td>-0.026059</td>\n",
       "      <td>-0.025630</td>\n",
       "      <td>0.002275</td>\n",
       "      <td>-0.006305</td>\n",
       "      <td>0.028419</td>\n",
       "    </tr>\n",
       "    <tr>\n",
       "      <th>Employee_code_ID</th>\n",
       "      <td>0.075983</td>\n",
       "      <td>0.010120</td>\n",
       "      <td>0.008711</td>\n",
       "      <td>0.004940</td>\n",
       "      <td>0.088764</td>\n",
       "      <td>0.095792</td>\n",
       "      <td>-0.042609</td>\n",
       "      <td>1.000000</td>\n",
       "      <td>-0.005767</td>\n",
       "      <td>0.009197</td>\n",
       "      <td>...</td>\n",
       "      <td>0.003528</td>\n",
       "      <td>-0.001105</td>\n",
       "      <td>-0.001088</td>\n",
       "      <td>-0.001385</td>\n",
       "      <td>-0.003543</td>\n",
       "      <td>-0.002259</td>\n",
       "      <td>-0.002224</td>\n",
       "      <td>0.013470</td>\n",
       "      <td>0.001894</td>\n",
       "      <td>0.020657</td>\n",
       "    </tr>\n",
       "    <tr>\n",
       "      <th>PERFORM_CNS.SCORE</th>\n",
       "      <td>-0.014016</td>\n",
       "      <td>0.011409</td>\n",
       "      <td>-0.047398</td>\n",
       "      <td>0.084993</td>\n",
       "      <td>-0.018049</td>\n",
       "      <td>-0.077029</td>\n",
       "      <td>-0.161664</td>\n",
       "      <td>-0.005767</td>\n",
       "      <td>1.000000</td>\n",
       "      <td>0.424574</td>\n",
       "      <td>...</td>\n",
       "      <td>0.147822</td>\n",
       "      <td>0.079102</td>\n",
       "      <td>0.078451</td>\n",
       "      <td>0.056729</td>\n",
       "      <td>0.020128</td>\n",
       "      <td>0.024365</td>\n",
       "      <td>0.023953</td>\n",
       "      <td>0.071309</td>\n",
       "      <td>0.015655</td>\n",
       "      <td>-0.057929</td>\n",
       "    </tr>\n",
       "    <tr>\n",
       "      <th>PRI.NO.OF.ACCTS</th>\n",
       "      <td>-0.013584</td>\n",
       "      <td>0.034461</td>\n",
       "      <td>-0.026798</td>\n",
       "      <td>0.086571</td>\n",
       "      <td>-0.010384</td>\n",
       "      <td>-0.070536</td>\n",
       "      <td>-0.084687</td>\n",
       "      <td>0.009197</td>\n",
       "      <td>0.424574</td>\n",
       "      <td>1.000000</td>\n",
       "      <td>...</td>\n",
       "      <td>0.302673</td>\n",
       "      <td>0.158455</td>\n",
       "      <td>0.157952</td>\n",
       "      <td>0.056434</td>\n",
       "      <td>0.020945</td>\n",
       "      <td>0.024877</td>\n",
       "      <td>0.024551</td>\n",
       "      <td>0.269546</td>\n",
       "      <td>0.023421</td>\n",
       "      <td>-0.035456</td>\n",
       "    </tr>\n",
       "    <tr>\n",
       "      <th>PRI.ACTIVE.ACCTS</th>\n",
       "      <td>-0.020862</td>\n",
       "      <td>0.039542</td>\n",
       "      <td>-0.021692</td>\n",
       "      <td>0.087929</td>\n",
       "      <td>-0.006403</td>\n",
       "      <td>-0.066930</td>\n",
       "      <td>-0.117882</td>\n",
       "      <td>0.006111</td>\n",
       "      <td>0.472075</td>\n",
       "      <td>0.753565</td>\n",
       "      <td>...</td>\n",
       "      <td>0.416338</td>\n",
       "      <td>0.219774</td>\n",
       "      <td>0.219031</td>\n",
       "      <td>0.062618</td>\n",
       "      <td>0.022018</td>\n",
       "      <td>0.026805</td>\n",
       "      <td>0.026325</td>\n",
       "      <td>0.192397</td>\n",
       "      <td>0.021210</td>\n",
       "      <td>-0.041451</td>\n",
       "    </tr>\n",
       "    <tr>\n",
       "      <th>PRI.CURRENT.BALANCE</th>\n",
       "      <td>-0.007259</td>\n",
       "      <td>0.015713</td>\n",
       "      <td>-0.004356</td>\n",
       "      <td>0.026714</td>\n",
       "      <td>-0.004133</td>\n",
       "      <td>-0.022582</td>\n",
       "      <td>-0.055948</td>\n",
       "      <td>0.003528</td>\n",
       "      <td>0.147822</td>\n",
       "      <td>0.302673</td>\n",
       "      <td>...</td>\n",
       "      <td>1.000000</td>\n",
       "      <td>0.464729</td>\n",
       "      <td>0.470284</td>\n",
       "      <td>0.025388</td>\n",
       "      <td>0.019378</td>\n",
       "      <td>0.021179</td>\n",
       "      <td>0.021152</td>\n",
       "      <td>0.152499</td>\n",
       "      <td>0.006799</td>\n",
       "      <td>-0.027386</td>\n",
       "    </tr>\n",
       "    <tr>\n",
       "      <th>PRI.SANCTIONED.AMOUNT</th>\n",
       "      <td>-0.002910</td>\n",
       "      <td>0.006294</td>\n",
       "      <td>-0.001180</td>\n",
       "      <td>0.009955</td>\n",
       "      <td>-0.003370</td>\n",
       "      <td>-0.012959</td>\n",
       "      <td>-0.025843</td>\n",
       "      <td>-0.001105</td>\n",
       "      <td>0.079102</td>\n",
       "      <td>0.158455</td>\n",
       "      <td>...</td>\n",
       "      <td>0.464729</td>\n",
       "      <td>1.000000</td>\n",
       "      <td>0.998747</td>\n",
       "      <td>0.013162</td>\n",
       "      <td>0.010750</td>\n",
       "      <td>0.011859</td>\n",
       "      <td>0.011843</td>\n",
       "      <td>0.072591</td>\n",
       "      <td>0.003883</td>\n",
       "      <td>-0.011304</td>\n",
       "    </tr>\n",
       "    <tr>\n",
       "      <th>PRI.DISBURSED.AMOUNT</th>\n",
       "      <td>-0.002563</td>\n",
       "      <td>0.006412</td>\n",
       "      <td>-0.001221</td>\n",
       "      <td>0.010177</td>\n",
       "      <td>-0.003412</td>\n",
       "      <td>-0.012950</td>\n",
       "      <td>-0.025697</td>\n",
       "      <td>-0.001088</td>\n",
       "      <td>0.078451</td>\n",
       "      <td>0.157952</td>\n",
       "      <td>...</td>\n",
       "      <td>0.470284</td>\n",
       "      <td>0.998747</td>\n",
       "      <td>1.000000</td>\n",
       "      <td>0.012946</td>\n",
       "      <td>0.010682</td>\n",
       "      <td>0.011771</td>\n",
       "      <td>0.011757</td>\n",
       "      <td>0.073058</td>\n",
       "      <td>0.003806</td>\n",
       "      <td>-0.011155</td>\n",
       "    </tr>\n",
       "    <tr>\n",
       "      <th>SEC.NO.OF.ACCTS</th>\n",
       "      <td>-0.044180</td>\n",
       "      <td>-0.014916</td>\n",
       "      <td>-0.022600</td>\n",
       "      <td>0.013019</td>\n",
       "      <td>-0.003194</td>\n",
       "      <td>-0.025809</td>\n",
       "      <td>-0.051766</td>\n",
       "      <td>-0.001385</td>\n",
       "      <td>0.056729</td>\n",
       "      <td>0.056434</td>\n",
       "      <td>...</td>\n",
       "      <td>0.025388</td>\n",
       "      <td>0.013162</td>\n",
       "      <td>0.012946</td>\n",
       "      <td>1.000000</td>\n",
       "      <td>0.281865</td>\n",
       "      <td>0.359193</td>\n",
       "      <td>0.353330</td>\n",
       "      <td>0.009986</td>\n",
       "      <td>0.235277</td>\n",
       "      <td>-0.008385</td>\n",
       "    </tr>\n",
       "    <tr>\n",
       "      <th>SEC.CURRENT.BALANCE</th>\n",
       "      <td>-0.013428</td>\n",
       "      <td>-0.004227</td>\n",
       "      <td>-0.008697</td>\n",
       "      <td>0.007195</td>\n",
       "      <td>0.001418</td>\n",
       "      <td>-0.008729</td>\n",
       "      <td>-0.021048</td>\n",
       "      <td>-0.003543</td>\n",
       "      <td>0.020128</td>\n",
       "      <td>0.020945</td>\n",
       "      <td>...</td>\n",
       "      <td>0.019378</td>\n",
       "      <td>0.010750</td>\n",
       "      <td>0.010682</td>\n",
       "      <td>0.281865</td>\n",
       "      <td>1.000000</td>\n",
       "      <td>0.929196</td>\n",
       "      <td>0.929995</td>\n",
       "      <td>0.010393</td>\n",
       "      <td>0.096351</td>\n",
       "      <td>-0.005531</td>\n",
       "    </tr>\n",
       "    <tr>\n",
       "      <th>SEC.SANCTIONED.AMOUNT</th>\n",
       "      <td>-0.017114</td>\n",
       "      <td>-0.005271</td>\n",
       "      <td>-0.010776</td>\n",
       "      <td>0.008800</td>\n",
       "      <td>0.002404</td>\n",
       "      <td>-0.010175</td>\n",
       "      <td>-0.026059</td>\n",
       "      <td>-0.002259</td>\n",
       "      <td>0.024365</td>\n",
       "      <td>0.024877</td>\n",
       "      <td>...</td>\n",
       "      <td>0.021179</td>\n",
       "      <td>0.011859</td>\n",
       "      <td>0.011771</td>\n",
       "      <td>0.359193</td>\n",
       "      <td>0.929196</td>\n",
       "      <td>1.000000</td>\n",
       "      <td>0.999646</td>\n",
       "      <td>0.011448</td>\n",
       "      <td>0.113395</td>\n",
       "      <td>-0.006354</td>\n",
       "    </tr>\n",
       "    <tr>\n",
       "      <th>SEC.DISBURSED.AMOUNT</th>\n",
       "      <td>-0.016857</td>\n",
       "      <td>-0.005119</td>\n",
       "      <td>-0.010594</td>\n",
       "      <td>0.008733</td>\n",
       "      <td>0.002457</td>\n",
       "      <td>-0.010031</td>\n",
       "      <td>-0.025630</td>\n",
       "      <td>-0.002224</td>\n",
       "      <td>0.023953</td>\n",
       "      <td>0.024551</td>\n",
       "      <td>...</td>\n",
       "      <td>0.021152</td>\n",
       "      <td>0.011843</td>\n",
       "      <td>0.011757</td>\n",
       "      <td>0.353330</td>\n",
       "      <td>0.929995</td>\n",
       "      <td>0.999646</td>\n",
       "      <td>1.000000</td>\n",
       "      <td>0.011469</td>\n",
       "      <td>0.112880</td>\n",
       "      <td>-0.006248</td>\n",
       "    </tr>\n",
       "    <tr>\n",
       "      <th>PRIMARY.INSTAL.AMT</th>\n",
       "      <td>-0.009321</td>\n",
       "      <td>0.002350</td>\n",
       "      <td>-0.004356</td>\n",
       "      <td>0.007358</td>\n",
       "      <td>0.004955</td>\n",
       "      <td>-0.011953</td>\n",
       "      <td>0.002275</td>\n",
       "      <td>0.013470</td>\n",
       "      <td>0.071309</td>\n",
       "      <td>0.269546</td>\n",
       "      <td>...</td>\n",
       "      <td>0.152499</td>\n",
       "      <td>0.072591</td>\n",
       "      <td>0.073058</td>\n",
       "      <td>0.009986</td>\n",
       "      <td>0.010393</td>\n",
       "      <td>0.011448</td>\n",
       "      <td>0.011469</td>\n",
       "      <td>1.000000</td>\n",
       "      <td>0.010849</td>\n",
       "      <td>-0.010616</td>\n",
       "    </tr>\n",
       "    <tr>\n",
       "      <th>SEC.INSTAL.AMT</th>\n",
       "      <td>-0.013518</td>\n",
       "      <td>-0.005525</td>\n",
       "      <td>-0.005738</td>\n",
       "      <td>0.000481</td>\n",
       "      <td>0.004265</td>\n",
       "      <td>-0.005826</td>\n",
       "      <td>-0.006305</td>\n",
       "      <td>0.001894</td>\n",
       "      <td>0.015655</td>\n",
       "      <td>0.023421</td>\n",
       "      <td>...</td>\n",
       "      <td>0.006799</td>\n",
       "      <td>0.003883</td>\n",
       "      <td>0.003806</td>\n",
       "      <td>0.235277</td>\n",
       "      <td>0.096351</td>\n",
       "      <td>0.113395</td>\n",
       "      <td>0.112880</td>\n",
       "      <td>0.010849</td>\n",
       "      <td>1.000000</td>\n",
       "      <td>-0.001548</td>\n",
       "    </tr>\n",
       "    <tr>\n",
       "      <th>loan_default</th>\n",
       "      <td>0.033848</td>\n",
       "      <td>0.077675</td>\n",
       "      <td>0.014261</td>\n",
       "      <td>0.098208</td>\n",
       "      <td>0.030193</td>\n",
       "      <td>0.027357</td>\n",
       "      <td>0.028419</td>\n",
       "      <td>0.020657</td>\n",
       "      <td>-0.057929</td>\n",
       "      <td>-0.035456</td>\n",
       "      <td>...</td>\n",
       "      <td>-0.027386</td>\n",
       "      <td>-0.011304</td>\n",
       "      <td>-0.011155</td>\n",
       "      <td>-0.008385</td>\n",
       "      <td>-0.005531</td>\n",
       "      <td>-0.006354</td>\n",
       "      <td>-0.006248</td>\n",
       "      <td>-0.010616</td>\n",
       "      <td>-0.001548</td>\n",
       "      <td>1.000000</td>\n",
       "    </tr>\n",
       "  </tbody>\n",
       "</table>\n",
       "<p>21 rows × 21 columns</p>\n",
       "</div>"
      ],
      "text/plain": [
       "                       UniqueID  disbursed_amount  asset_cost       ltv  \\\n",
       "UniqueID               1.000000          0.145575    0.144671 -0.030537   \n",
       "disbursed_amount       0.145575          1.000000    0.752668  0.376747   \n",
       "asset_cost             0.144671          0.752668    1.000000 -0.301188   \n",
       "ltv                   -0.030537          0.376747   -0.301188  1.000000   \n",
       "branch_id             -0.004509          0.018328    0.018586  0.006382   \n",
       "supplier_id            0.025747          0.078596    0.150002 -0.103732   \n",
       "Current_pincode_ID     0.030500          0.068540    0.275878 -0.300112   \n",
       "Employee_code_ID       0.075983          0.010120    0.008711  0.004940   \n",
       "PERFORM_CNS.SCORE     -0.014016          0.011409   -0.047398  0.084993   \n",
       "PRI.NO.OF.ACCTS       -0.013584          0.034461   -0.026798  0.086571   \n",
       "PRI.ACTIVE.ACCTS      -0.020862          0.039542   -0.021692  0.087929   \n",
       "PRI.CURRENT.BALANCE   -0.007259          0.015713   -0.004356  0.026714   \n",
       "PRI.SANCTIONED.AMOUNT -0.002910          0.006294   -0.001180  0.009955   \n",
       "PRI.DISBURSED.AMOUNT  -0.002563          0.006412   -0.001221  0.010177   \n",
       "SEC.NO.OF.ACCTS       -0.044180         -0.014916   -0.022600  0.013019   \n",
       "SEC.CURRENT.BALANCE   -0.013428         -0.004227   -0.008697  0.007195   \n",
       "SEC.SANCTIONED.AMOUNT -0.017114         -0.005271   -0.010776  0.008800   \n",
       "SEC.DISBURSED.AMOUNT  -0.016857         -0.005119   -0.010594  0.008733   \n",
       "PRIMARY.INSTAL.AMT    -0.009321          0.002350   -0.004356  0.007358   \n",
       "SEC.INSTAL.AMT        -0.013518         -0.005525   -0.005738  0.000481   \n",
       "loan_default           0.033848          0.077675    0.014261  0.098208   \n",
       "\n",
       "                       branch_id  supplier_id  Current_pincode_ID  \\\n",
       "UniqueID               -0.004509     0.025747            0.030500   \n",
       "disbursed_amount        0.018328     0.078596            0.068540   \n",
       "asset_cost              0.018586     0.150002            0.275878   \n",
       "ltv                     0.006382    -0.103732           -0.300112   \n",
       "branch_id               1.000000     0.225744            0.048192   \n",
       "supplier_id             0.225744     1.000000            0.187401   \n",
       "Current_pincode_ID      0.048192     0.187401            1.000000   \n",
       "Employee_code_ID        0.088764     0.095792           -0.042609   \n",
       "PERFORM_CNS.SCORE      -0.018049    -0.077029           -0.161664   \n",
       "PRI.NO.OF.ACCTS        -0.010384    -0.070536           -0.084687   \n",
       "PRI.ACTIVE.ACCTS       -0.006403    -0.066930           -0.117882   \n",
       "PRI.CURRENT.BALANCE    -0.004133    -0.022582           -0.055948   \n",
       "PRI.SANCTIONED.AMOUNT  -0.003370    -0.012959           -0.025843   \n",
       "PRI.DISBURSED.AMOUNT   -0.003412    -0.012950           -0.025697   \n",
       "SEC.NO.OF.ACCTS        -0.003194    -0.025809           -0.051766   \n",
       "SEC.CURRENT.BALANCE     0.001418    -0.008729           -0.021048   \n",
       "SEC.SANCTIONED.AMOUNT   0.002404    -0.010175           -0.026059   \n",
       "SEC.DISBURSED.AMOUNT    0.002457    -0.010031           -0.025630   \n",
       "PRIMARY.INSTAL.AMT      0.004955    -0.011953            0.002275   \n",
       "SEC.INSTAL.AMT          0.004265    -0.005826           -0.006305   \n",
       "loan_default            0.030193     0.027357            0.028419   \n",
       "\n",
       "                       Employee_code_ID  PERFORM_CNS.SCORE  PRI.NO.OF.ACCTS  \\\n",
       "UniqueID                       0.075983          -0.014016        -0.013584   \n",
       "disbursed_amount               0.010120           0.011409         0.034461   \n",
       "asset_cost                     0.008711          -0.047398        -0.026798   \n",
       "ltv                            0.004940           0.084993         0.086571   \n",
       "branch_id                      0.088764          -0.018049        -0.010384   \n",
       "supplier_id                    0.095792          -0.077029        -0.070536   \n",
       "Current_pincode_ID            -0.042609          -0.161664        -0.084687   \n",
       "Employee_code_ID               1.000000          -0.005767         0.009197   \n",
       "PERFORM_CNS.SCORE             -0.005767           1.000000         0.424574   \n",
       "PRI.NO.OF.ACCTS                0.009197           0.424574         1.000000   \n",
       "PRI.ACTIVE.ACCTS               0.006111           0.472075         0.753565   \n",
       "PRI.CURRENT.BALANCE            0.003528           0.147822         0.302673   \n",
       "PRI.SANCTIONED.AMOUNT         -0.001105           0.079102         0.158455   \n",
       "PRI.DISBURSED.AMOUNT          -0.001088           0.078451         0.157952   \n",
       "SEC.NO.OF.ACCTS               -0.001385           0.056729         0.056434   \n",
       "SEC.CURRENT.BALANCE           -0.003543           0.020128         0.020945   \n",
       "SEC.SANCTIONED.AMOUNT         -0.002259           0.024365         0.024877   \n",
       "SEC.DISBURSED.AMOUNT          -0.002224           0.023953         0.024551   \n",
       "PRIMARY.INSTAL.AMT             0.013470           0.071309         0.269546   \n",
       "SEC.INSTAL.AMT                 0.001894           0.015655         0.023421   \n",
       "loan_default                   0.020657          -0.057929        -0.035456   \n",
       "\n",
       "                           ...       PRI.CURRENT.BALANCE  \\\n",
       "UniqueID                   ...                 -0.007259   \n",
       "disbursed_amount           ...                  0.015713   \n",
       "asset_cost                 ...                 -0.004356   \n",
       "ltv                        ...                  0.026714   \n",
       "branch_id                  ...                 -0.004133   \n",
       "supplier_id                ...                 -0.022582   \n",
       "Current_pincode_ID         ...                 -0.055948   \n",
       "Employee_code_ID           ...                  0.003528   \n",
       "PERFORM_CNS.SCORE          ...                  0.147822   \n",
       "PRI.NO.OF.ACCTS            ...                  0.302673   \n",
       "PRI.ACTIVE.ACCTS           ...                  0.416338   \n",
       "PRI.CURRENT.BALANCE        ...                  1.000000   \n",
       "PRI.SANCTIONED.AMOUNT      ...                  0.464729   \n",
       "PRI.DISBURSED.AMOUNT       ...                  0.470284   \n",
       "SEC.NO.OF.ACCTS            ...                  0.025388   \n",
       "SEC.CURRENT.BALANCE        ...                  0.019378   \n",
       "SEC.SANCTIONED.AMOUNT      ...                  0.021179   \n",
       "SEC.DISBURSED.AMOUNT       ...                  0.021152   \n",
       "PRIMARY.INSTAL.AMT         ...                  0.152499   \n",
       "SEC.INSTAL.AMT             ...                  0.006799   \n",
       "loan_default               ...                 -0.027386   \n",
       "\n",
       "                       PRI.SANCTIONED.AMOUNT  PRI.DISBURSED.AMOUNT  \\\n",
       "UniqueID                           -0.002910             -0.002563   \n",
       "disbursed_amount                    0.006294              0.006412   \n",
       "asset_cost                         -0.001180             -0.001221   \n",
       "ltv                                 0.009955              0.010177   \n",
       "branch_id                          -0.003370             -0.003412   \n",
       "supplier_id                        -0.012959             -0.012950   \n",
       "Current_pincode_ID                 -0.025843             -0.025697   \n",
       "Employee_code_ID                   -0.001105             -0.001088   \n",
       "PERFORM_CNS.SCORE                   0.079102              0.078451   \n",
       "PRI.NO.OF.ACCTS                     0.158455              0.157952   \n",
       "PRI.ACTIVE.ACCTS                    0.219774              0.219031   \n",
       "PRI.CURRENT.BALANCE                 0.464729              0.470284   \n",
       "PRI.SANCTIONED.AMOUNT               1.000000              0.998747   \n",
       "PRI.DISBURSED.AMOUNT                0.998747              1.000000   \n",
       "SEC.NO.OF.ACCTS                     0.013162              0.012946   \n",
       "SEC.CURRENT.BALANCE                 0.010750              0.010682   \n",
       "SEC.SANCTIONED.AMOUNT               0.011859              0.011771   \n",
       "SEC.DISBURSED.AMOUNT                0.011843              0.011757   \n",
       "PRIMARY.INSTAL.AMT                  0.072591              0.073058   \n",
       "SEC.INSTAL.AMT                      0.003883              0.003806   \n",
       "loan_default                       -0.011304             -0.011155   \n",
       "\n",
       "                       SEC.NO.OF.ACCTS  SEC.CURRENT.BALANCE  \\\n",
       "UniqueID                     -0.044180            -0.013428   \n",
       "disbursed_amount             -0.014916            -0.004227   \n",
       "asset_cost                   -0.022600            -0.008697   \n",
       "ltv                           0.013019             0.007195   \n",
       "branch_id                    -0.003194             0.001418   \n",
       "supplier_id                  -0.025809            -0.008729   \n",
       "Current_pincode_ID           -0.051766            -0.021048   \n",
       "Employee_code_ID             -0.001385            -0.003543   \n",
       "PERFORM_CNS.SCORE             0.056729             0.020128   \n",
       "PRI.NO.OF.ACCTS               0.056434             0.020945   \n",
       "PRI.ACTIVE.ACCTS              0.062618             0.022018   \n",
       "PRI.CURRENT.BALANCE           0.025388             0.019378   \n",
       "PRI.SANCTIONED.AMOUNT         0.013162             0.010750   \n",
       "PRI.DISBURSED.AMOUNT          0.012946             0.010682   \n",
       "SEC.NO.OF.ACCTS               1.000000             0.281865   \n",
       "SEC.CURRENT.BALANCE           0.281865             1.000000   \n",
       "SEC.SANCTIONED.AMOUNT         0.359193             0.929196   \n",
       "SEC.DISBURSED.AMOUNT          0.353330             0.929995   \n",
       "PRIMARY.INSTAL.AMT            0.009986             0.010393   \n",
       "SEC.INSTAL.AMT                0.235277             0.096351   \n",
       "loan_default                 -0.008385            -0.005531   \n",
       "\n",
       "                       SEC.SANCTIONED.AMOUNT  SEC.DISBURSED.AMOUNT  \\\n",
       "UniqueID                           -0.017114             -0.016857   \n",
       "disbursed_amount                   -0.005271             -0.005119   \n",
       "asset_cost                         -0.010776             -0.010594   \n",
       "ltv                                 0.008800              0.008733   \n",
       "branch_id                           0.002404              0.002457   \n",
       "supplier_id                        -0.010175             -0.010031   \n",
       "Current_pincode_ID                 -0.026059             -0.025630   \n",
       "Employee_code_ID                   -0.002259             -0.002224   \n",
       "PERFORM_CNS.SCORE                   0.024365              0.023953   \n",
       "PRI.NO.OF.ACCTS                     0.024877              0.024551   \n",
       "PRI.ACTIVE.ACCTS                    0.026805              0.026325   \n",
       "PRI.CURRENT.BALANCE                 0.021179              0.021152   \n",
       "PRI.SANCTIONED.AMOUNT               0.011859              0.011843   \n",
       "PRI.DISBURSED.AMOUNT                0.011771              0.011757   \n",
       "SEC.NO.OF.ACCTS                     0.359193              0.353330   \n",
       "SEC.CURRENT.BALANCE                 0.929196              0.929995   \n",
       "SEC.SANCTIONED.AMOUNT               1.000000              0.999646   \n",
       "SEC.DISBURSED.AMOUNT                0.999646              1.000000   \n",
       "PRIMARY.INSTAL.AMT                  0.011448              0.011469   \n",
       "SEC.INSTAL.AMT                      0.113395              0.112880   \n",
       "loan_default                       -0.006354             -0.006248   \n",
       "\n",
       "                       PRIMARY.INSTAL.AMT  SEC.INSTAL.AMT  loan_default  \n",
       "UniqueID                        -0.009321       -0.013518      0.033848  \n",
       "disbursed_amount                 0.002350       -0.005525      0.077675  \n",
       "asset_cost                      -0.004356       -0.005738      0.014261  \n",
       "ltv                              0.007358        0.000481      0.098208  \n",
       "branch_id                        0.004955        0.004265      0.030193  \n",
       "supplier_id                     -0.011953       -0.005826      0.027357  \n",
       "Current_pincode_ID               0.002275       -0.006305      0.028419  \n",
       "Employee_code_ID                 0.013470        0.001894      0.020657  \n",
       "PERFORM_CNS.SCORE                0.071309        0.015655     -0.057929  \n",
       "PRI.NO.OF.ACCTS                  0.269546        0.023421     -0.035456  \n",
       "PRI.ACTIVE.ACCTS                 0.192397        0.021210     -0.041451  \n",
       "PRI.CURRENT.BALANCE              0.152499        0.006799     -0.027386  \n",
       "PRI.SANCTIONED.AMOUNT            0.072591        0.003883     -0.011304  \n",
       "PRI.DISBURSED.AMOUNT             0.073058        0.003806     -0.011155  \n",
       "SEC.NO.OF.ACCTS                  0.009986        0.235277     -0.008385  \n",
       "SEC.CURRENT.BALANCE              0.010393        0.096351     -0.005531  \n",
       "SEC.SANCTIONED.AMOUNT            0.011448        0.113395     -0.006354  \n",
       "SEC.DISBURSED.AMOUNT             0.011469        0.112880     -0.006248  \n",
       "PRIMARY.INSTAL.AMT               1.000000        0.010849     -0.010616  \n",
       "SEC.INSTAL.AMT                   0.010849        1.000000     -0.001548  \n",
       "loan_default                    -0.010616       -0.001548      1.000000  \n",
       "\n",
       "[21 rows x 21 columns]"
      ]
     },
     "execution_count": 16,
     "metadata": {},
     "output_type": "execute_result"
    }
   ],
   "source": [
    "new_data.corr()"
   ]
  },
  {
   "cell_type": "code",
   "execution_count": 17,
   "metadata": {},
   "outputs": [
    {
     "data": {
      "image/png": "[encoded data removed]",
      "text/plain": [
       "<Figure size 1152x1440 with 25 Axes>"
      ]
     },
     "metadata": {},
     "output_type": "display_data"
    }
   ],
   "source": [
    "new_data.hist(figsize=(16, 20), bins=50, xlabelsize=8, ylabelsize=8); \n",
    "# ; avoid having the matplotlib verbose informations"
   ]
  },
  {
   "cell_type": "markdown",
   "metadata": {},
   "source": [
    "for i in range(0, len(new_data.columns), 5):\n",
    "    sns.pairplot(data=new_data,\n",
    "                x_vars=new_data.columns[i:i+5],\n",
    "                y_vars=['loan_default'])"
   ]
  },
  {
   "cell_type": "markdown",
   "metadata": {},
   "source": [
    "### catgorical variables examine"
   ]
  },
  {
   "cell_type": "code",
   "execution_count": 18,
   "metadata": {},
   "outputs": [
    {
     "data": {
      "text/html": [
       "<div>\n",
       "<style scoped>\n",
       "    .dataframe tbody tr th:only-of-type {\n",
       "        vertical-align: middle;\n",
       "    }\n",
       "\n",
       "    .dataframe tbody tr th {\n",
       "        vertical-align: top;\n",
       "    }\n",
       "\n",
       "    .dataframe thead th {\n",
       "        text-align: right;\n",
       "    }\n",
       "</style>\n",
       "<table border=\"1\" class=\"dataframe\">\n",
       "  <thead>\n",
       "    <tr style=\"text-align: right;\">\n",
       "      <th></th>\n",
       "      <th>manufacturer_id</th>\n",
       "      <th>Date.of.Birth</th>\n",
       "      <th>Employment.Type</th>\n",
       "      <th>DisbursalDate</th>\n",
       "      <th>State_ID</th>\n",
       "      <th>MobileNo_Avl_Flag</th>\n",
       "      <th>Aadhar_flag</th>\n",
       "      <th>PAN_flag</th>\n",
       "      <th>VoterID_flag</th>\n",
       "      <th>Driving_flag</th>\n",
       "      <th>...</th>\n",
       "      <th>PERFORM_CNS.SCORE.DESCRIPTION</th>\n",
       "      <th>PRI.OVERDUE.ACCTS</th>\n",
       "      <th>SEC.ACTIVE.ACCTS</th>\n",
       "      <th>SEC.OVERDUE.ACCTS</th>\n",
       "      <th>NEW.ACCTS.IN.LAST.SIX.MONTHS</th>\n",
       "      <th>DELINQUENT.ACCTS.IN.LAST.SIX.MONTHS</th>\n",
       "      <th>AVERAGE.ACCT.AGE</th>\n",
       "      <th>CREDIT.HISTORY.LENGTH</th>\n",
       "      <th>NO.OF_INQUIRIES</th>\n",
       "      <th>loan_default</th>\n",
       "    </tr>\n",
       "  </thead>\n",
       "  <tbody>\n",
       "    <tr>\n",
       "      <th>0</th>\n",
       "      <td>45</td>\n",
       "      <td>01-01-84</td>\n",
       "      <td>Salaried</td>\n",
       "      <td>03-08-18</td>\n",
       "      <td>6</td>\n",
       "      <td>1</td>\n",
       "      <td>1</td>\n",
       "      <td>0</td>\n",
       "      <td>0</td>\n",
       "      <td>0</td>\n",
       "      <td>...</td>\n",
       "      <td>No Bureau History Available</td>\n",
       "      <td>0</td>\n",
       "      <td>0</td>\n",
       "      <td>0</td>\n",
       "      <td>0</td>\n",
       "      <td>0</td>\n",
       "      <td>0yrs 0mon</td>\n",
       "      <td>0yrs 0mon</td>\n",
       "      <td>0</td>\n",
       "      <td>0</td>\n",
       "    </tr>\n",
       "    <tr>\n",
       "      <th>1</th>\n",
       "      <td>45</td>\n",
       "      <td>31-07-85</td>\n",
       "      <td>Self employed</td>\n",
       "      <td>26-09-18</td>\n",
       "      <td>6</td>\n",
       "      <td>1</td>\n",
       "      <td>1</td>\n",
       "      <td>0</td>\n",
       "      <td>0</td>\n",
       "      <td>0</td>\n",
       "      <td>...</td>\n",
       "      <td>I-Medium Risk</td>\n",
       "      <td>1</td>\n",
       "      <td>0</td>\n",
       "      <td>0</td>\n",
       "      <td>0</td>\n",
       "      <td>1</td>\n",
       "      <td>1yrs 11mon</td>\n",
       "      <td>1yrs 11mon</td>\n",
       "      <td>0</td>\n",
       "      <td>1</td>\n",
       "    </tr>\n",
       "    <tr>\n",
       "      <th>2</th>\n",
       "      <td>45</td>\n",
       "      <td>24-08-85</td>\n",
       "      <td>Self employed</td>\n",
       "      <td>01-08-18</td>\n",
       "      <td>6</td>\n",
       "      <td>1</td>\n",
       "      <td>1</td>\n",
       "      <td>0</td>\n",
       "      <td>0</td>\n",
       "      <td>0</td>\n",
       "      <td>...</td>\n",
       "      <td>No Bureau History Available</td>\n",
       "      <td>0</td>\n",
       "      <td>0</td>\n",
       "      <td>0</td>\n",
       "      <td>0</td>\n",
       "      <td>0</td>\n",
       "      <td>0yrs 0mon</td>\n",
       "      <td>0yrs 0mon</td>\n",
       "      <td>0</td>\n",
       "      <td>0</td>\n",
       "    </tr>\n",
       "    <tr>\n",
       "      <th>3</th>\n",
       "      <td>45</td>\n",
       "      <td>30-12-93</td>\n",
       "      <td>Self employed</td>\n",
       "      <td>26-10-18</td>\n",
       "      <td>6</td>\n",
       "      <td>1</td>\n",
       "      <td>1</td>\n",
       "      <td>0</td>\n",
       "      <td>0</td>\n",
       "      <td>0</td>\n",
       "      <td>...</td>\n",
       "      <td>L-Very High Risk</td>\n",
       "      <td>0</td>\n",
       "      <td>0</td>\n",
       "      <td>0</td>\n",
       "      <td>0</td>\n",
       "      <td>0</td>\n",
       "      <td>0yrs 8mon</td>\n",
       "      <td>1yrs 3mon</td>\n",
       "      <td>1</td>\n",
       "      <td>1</td>\n",
       "    </tr>\n",
       "    <tr>\n",
       "      <th>4</th>\n",
       "      <td>45</td>\n",
       "      <td>09-12-77</td>\n",
       "      <td>Self employed</td>\n",
       "      <td>26-09-18</td>\n",
       "      <td>6</td>\n",
       "      <td>1</td>\n",
       "      <td>1</td>\n",
       "      <td>0</td>\n",
       "      <td>0</td>\n",
       "      <td>0</td>\n",
       "      <td>...</td>\n",
       "      <td>No Bureau History Available</td>\n",
       "      <td>0</td>\n",
       "      <td>0</td>\n",
       "      <td>0</td>\n",
       "      <td>0</td>\n",
       "      <td>0</td>\n",
       "      <td>0yrs 0mon</td>\n",
       "      <td>0yrs 0mon</td>\n",
       "      <td>1</td>\n",
       "      <td>1</td>\n",
       "    </tr>\n",
       "  </tbody>\n",
       "</table>\n",
       "<p>5 rows × 21 columns</p>\n",
       "</div>"
      ],
      "text/plain": [
       "   manufacturer_id Date.of.Birth Employment.Type DisbursalDate  State_ID  \\\n",
       "0               45      01-01-84        Salaried      03-08-18         6   \n",
       "1               45      31-07-85   Self employed      26-09-18         6   \n",
       "2               45      24-08-85   Self employed      01-08-18         6   \n",
       "3               45      30-12-93   Self employed      26-10-18         6   \n",
       "4               45      09-12-77   Self employed      26-09-18         6   \n",
       "\n",
       "   MobileNo_Avl_Flag  Aadhar_flag  PAN_flag  VoterID_flag  Driving_flag  \\\n",
       "0                  1            1         0             0             0   \n",
       "1                  1            1         0             0             0   \n",
       "2                  1            1         0             0             0   \n",
       "3                  1            1         0             0             0   \n",
       "4                  1            1         0             0             0   \n",
       "\n",
       "       ...       PERFORM_CNS.SCORE.DESCRIPTION PRI.OVERDUE.ACCTS  \\\n",
       "0      ...         No Bureau History Available                 0   \n",
       "1      ...                       I-Medium Risk                 1   \n",
       "2      ...         No Bureau History Available                 0   \n",
       "3      ...                    L-Very High Risk                 0   \n",
       "4      ...         No Bureau History Available                 0   \n",
       "\n",
       "   SEC.ACTIVE.ACCTS  SEC.OVERDUE.ACCTS  NEW.ACCTS.IN.LAST.SIX.MONTHS  \\\n",
       "0                 0                  0                             0   \n",
       "1                 0                  0                             0   \n",
       "2                 0                  0                             0   \n",
       "3                 0                  0                             0   \n",
       "4                 0                  0                             0   \n",
       "\n",
       "   DELINQUENT.ACCTS.IN.LAST.SIX.MONTHS  AVERAGE.ACCT.AGE  \\\n",
       "0                                    0         0yrs 0mon   \n",
       "1                                    1        1yrs 11mon   \n",
       "2                                    0         0yrs 0mon   \n",
       "3                                    0         0yrs 8mon   \n",
       "4                                    0         0yrs 0mon   \n",
       "\n",
       "  CREDIT.HISTORY.LENGTH NO.OF_INQUIRIES  loan_default  \n",
       "0             0yrs 0mon               0             0  \n",
       "1            1yrs 11mon               0             1  \n",
       "2             0yrs 0mon               0             0  \n",
       "3             1yrs 3mon               1             1  \n",
       "4             0yrs 0mon               1             1  \n",
       "\n",
       "[5 rows x 21 columns]"
      ]
     },
     "execution_count": 18,
     "metadata": {},
     "output_type": "execute_result"
    }
   ],
   "source": [
    "new_train_cat.head()"
   ]
  },
  {
   "cell_type": "code",
   "execution_count": 19,
   "metadata": {},
   "outputs": [],
   "source": [
    "new_train_cat[\"Date.of.Birth\"]=pd.to_datetime(new_train_cat[\"Date.of.Birth\"],format='%d-%m-%y')"
   ]
  },
  {
   "cell_type": "code",
   "execution_count": 20,
   "metadata": {},
   "outputs": [],
   "source": [
    "new_train_cat[\"DisbursalDate\"]=pd.to_datetime(new_train_cat['DisbursalDate'],format='%d-%m-%y')"
   ]
  },
  {
   "cell_type": "code",
   "execution_count": 21,
   "metadata": {},
   "outputs": [],
   "source": [
    "new_train_cat['AGE']=dt.datetime.now().year-new_train_cat[\"Date.of.Birth\"].dt.year"
   ]
  },
  {
   "cell_type": "code",
   "execution_count": 22,
   "metadata": {},
   "outputs": [],
   "source": [
    "today_month=dt.datetime.now().month\n",
    "#train['DisbursedMonth']=(today_month-train['DisbursalDate'].dt.month)+12"
   ]
  },
  {
   "cell_type": "code",
   "execution_count": 23,
   "metadata": {},
   "outputs": [
    {
     "data": {
      "text/plain": [
       "4"
      ]
     },
     "execution_count": 23,
     "metadata": {},
     "output_type": "execute_result"
    }
   ],
   "source": [
    "today_month"
   ]
  },
  {
   "cell_type": "code",
   "execution_count": 24,
   "metadata": {},
   "outputs": [
    {
     "data": {
      "text/plain": [
       "dtype('<M8[ns]')"
      ]
     },
     "execution_count": 24,
     "metadata": {},
     "output_type": "execute_result"
    }
   ],
   "source": [
    "new_train_cat[\"DisbursalDate\"].dtype"
   ]
  },
  {
   "cell_type": "code",
   "execution_count": 25,
   "metadata": {},
   "outputs": [],
   "source": [
    "new_train_cat['DisbursedMonth']=(today_month-new_train_cat['DisbursalDate'].dt.month)+12"
   ]
  },
  {
   "cell_type": "code",
   "execution_count": 26,
   "metadata": {},
   "outputs": [
    {
     "data": {
      "text/plain": [
       "Index(['manufacturer_id', 'Employment.Type', 'State_ID', 'MobileNo_Avl_Flag',\n",
       "       'Aadhar_flag', 'PAN_flag', 'VoterID_flag', 'Driving_flag',\n",
       "       'Passport_flag', 'PERFORM_CNS.SCORE.DESCRIPTION', 'PRI.OVERDUE.ACCTS',\n",
       "       'SEC.ACTIVE.ACCTS', 'SEC.OVERDUE.ACCTS', 'NEW.ACCTS.IN.LAST.SIX.MONTHS',\n",
       "       'DELINQUENT.ACCTS.IN.LAST.SIX.MONTHS', 'AVERAGE.ACCT.AGE',\n",
       "       'CREDIT.HISTORY.LENGTH', 'NO.OF_INQUIRIES', 'AGE', 'DisbursedMonth'],\n",
       "      dtype='object')"
      ]
     },
     "execution_count": 26,
     "metadata": {},
     "output_type": "execute_result"
    }
   ],
   "source": [
    "new_train=new_train_cat.drop(['Date.of.Birth','DisbursalDate','loan_default'],axis=1)\n",
    "new_train.columns"
   ]
  },
  {
   "cell_type": "code",
   "execution_count": 27,
   "metadata": {},
   "outputs": [
    {
     "data": {
      "text/plain": [
       "Index(['UniqueID', 'disbursed_amount', 'asset_cost', 'ltv', 'branch_id',\n",
       "       'supplier_id', 'Current_pincode_ID', 'Employee_code_ID',\n",
       "       'PERFORM_CNS.SCORE', 'PRI.NO.OF.ACCTS', 'PRI.ACTIVE.ACCTS',\n",
       "       'PRI.CURRENT.BALANCE', 'PRI.SANCTIONED.AMOUNT', 'PRI.DISBURSED.AMOUNT',\n",
       "       'SEC.NO.OF.ACCTS', 'SEC.CURRENT.BALANCE', 'SEC.SANCTIONED.AMOUNT',\n",
       "       'SEC.DISBURSED.AMOUNT', 'PRIMARY.INSTAL.AMT', 'SEC.INSTAL.AMT',\n",
       "       'loan_default'],\n",
       "      dtype='object')"
      ]
     },
     "execution_count": 27,
     "metadata": {},
     "output_type": "execute_result"
    }
   ],
   "source": [
    "new_data.columns"
   ]
  },
  {
   "cell_type": "code",
   "execution_count": 28,
   "metadata": {},
   "outputs": [
    {
     "data": {
      "text/plain": [
       "((233154, 20), (233154, 21))"
      ]
     },
     "execution_count": 28,
     "metadata": {},
     "output_type": "execute_result"
    }
   ],
   "source": [
    "new_train.shape,new_data.shape"
   ]
  },
  {
   "cell_type": "code",
   "execution_count": 29,
   "metadata": {},
   "outputs": [
    {
     "data": {
      "text/html": [
       "<div>\n",
       "<style scoped>\n",
       "    .dataframe tbody tr th:only-of-type {\n",
       "        vertical-align: middle;\n",
       "    }\n",
       "\n",
       "    .dataframe tbody tr th {\n",
       "        vertical-align: top;\n",
       "    }\n",
       "\n",
       "    .dataframe thead th {\n",
       "        text-align: right;\n",
       "    }\n",
       "</style>\n",
       "<table border=\"1\" class=\"dataframe\">\n",
       "  <thead>\n",
       "    <tr style=\"text-align: right;\">\n",
       "      <th></th>\n",
       "      <th>manufacturer_id</th>\n",
       "      <th>Employment.Type</th>\n",
       "      <th>State_ID</th>\n",
       "      <th>MobileNo_Avl_Flag</th>\n",
       "      <th>Aadhar_flag</th>\n",
       "      <th>PAN_flag</th>\n",
       "      <th>VoterID_flag</th>\n",
       "      <th>Driving_flag</th>\n",
       "      <th>Passport_flag</th>\n",
       "      <th>PERFORM_CNS.SCORE.DESCRIPTION</th>\n",
       "      <th>PRI.OVERDUE.ACCTS</th>\n",
       "      <th>SEC.ACTIVE.ACCTS</th>\n",
       "      <th>SEC.OVERDUE.ACCTS</th>\n",
       "      <th>NEW.ACCTS.IN.LAST.SIX.MONTHS</th>\n",
       "      <th>DELINQUENT.ACCTS.IN.LAST.SIX.MONTHS</th>\n",
       "      <th>AVERAGE.ACCT.AGE</th>\n",
       "      <th>CREDIT.HISTORY.LENGTH</th>\n",
       "      <th>NO.OF_INQUIRIES</th>\n",
       "      <th>AGE</th>\n",
       "      <th>DisbursedMonth</th>\n",
       "    </tr>\n",
       "  </thead>\n",
       "  <tbody>\n",
       "    <tr>\n",
       "      <th>0</th>\n",
       "      <td>45</td>\n",
       "      <td>Salaried</td>\n",
       "      <td>6</td>\n",
       "      <td>1</td>\n",
       "      <td>1</td>\n",
       "      <td>0</td>\n",
       "      <td>0</td>\n",
       "      <td>0</td>\n",
       "      <td>0</td>\n",
       "      <td>No Bureau History Available</td>\n",
       "      <td>0</td>\n",
       "      <td>0</td>\n",
       "      <td>0</td>\n",
       "      <td>0</td>\n",
       "      <td>0</td>\n",
       "      <td>0yrs 0mon</td>\n",
       "      <td>0yrs 0mon</td>\n",
       "      <td>0</td>\n",
       "      <td>35</td>\n",
       "      <td>8</td>\n",
       "    </tr>\n",
       "    <tr>\n",
       "      <th>1</th>\n",
       "      <td>45</td>\n",
       "      <td>Self employed</td>\n",
       "      <td>6</td>\n",
       "      <td>1</td>\n",
       "      <td>1</td>\n",
       "      <td>0</td>\n",
       "      <td>0</td>\n",
       "      <td>0</td>\n",
       "      <td>0</td>\n",
       "      <td>I-Medium Risk</td>\n",
       "      <td>1</td>\n",
       "      <td>0</td>\n",
       "      <td>0</td>\n",
       "      <td>0</td>\n",
       "      <td>1</td>\n",
       "      <td>1yrs 11mon</td>\n",
       "      <td>1yrs 11mon</td>\n",
       "      <td>0</td>\n",
       "      <td>34</td>\n",
       "      <td>7</td>\n",
       "    </tr>\n",
       "    <tr>\n",
       "      <th>2</th>\n",
       "      <td>45</td>\n",
       "      <td>Self employed</td>\n",
       "      <td>6</td>\n",
       "      <td>1</td>\n",
       "      <td>1</td>\n",
       "      <td>0</td>\n",
       "      <td>0</td>\n",
       "      <td>0</td>\n",
       "      <td>0</td>\n",
       "      <td>No Bureau History Available</td>\n",
       "      <td>0</td>\n",
       "      <td>0</td>\n",
       "      <td>0</td>\n",
       "      <td>0</td>\n",
       "      <td>0</td>\n",
       "      <td>0yrs 0mon</td>\n",
       "      <td>0yrs 0mon</td>\n",
       "      <td>0</td>\n",
       "      <td>34</td>\n",
       "      <td>8</td>\n",
       "    </tr>\n",
       "    <tr>\n",
       "      <th>3</th>\n",
       "      <td>45</td>\n",
       "      <td>Self employed</td>\n",
       "      <td>6</td>\n",
       "      <td>1</td>\n",
       "      <td>1</td>\n",
       "      <td>0</td>\n",
       "      <td>0</td>\n",
       "      <td>0</td>\n",
       "      <td>0</td>\n",
       "      <td>L-Very High Risk</td>\n",
       "      <td>0</td>\n",
       "      <td>0</td>\n",
       "      <td>0</td>\n",
       "      <td>0</td>\n",
       "      <td>0</td>\n",
       "      <td>0yrs 8mon</td>\n",
       "      <td>1yrs 3mon</td>\n",
       "      <td>1</td>\n",
       "      <td>26</td>\n",
       "      <td>6</td>\n",
       "    </tr>\n",
       "    <tr>\n",
       "      <th>4</th>\n",
       "      <td>45</td>\n",
       "      <td>Self employed</td>\n",
       "      <td>6</td>\n",
       "      <td>1</td>\n",
       "      <td>1</td>\n",
       "      <td>0</td>\n",
       "      <td>0</td>\n",
       "      <td>0</td>\n",
       "      <td>0</td>\n",
       "      <td>No Bureau History Available</td>\n",
       "      <td>0</td>\n",
       "      <td>0</td>\n",
       "      <td>0</td>\n",
       "      <td>0</td>\n",
       "      <td>0</td>\n",
       "      <td>0yrs 0mon</td>\n",
       "      <td>0yrs 0mon</td>\n",
       "      <td>1</td>\n",
       "      <td>42</td>\n",
       "      <td>7</td>\n",
       "    </tr>\n",
       "  </tbody>\n",
       "</table>\n",
       "</div>"
      ],
      "text/plain": [
       "   manufacturer_id Employment.Type  State_ID  MobileNo_Avl_Flag  Aadhar_flag  \\\n",
       "0               45        Salaried         6                  1            1   \n",
       "1               45   Self employed         6                  1            1   \n",
       "2               45   Self employed         6                  1            1   \n",
       "3               45   Self employed         6                  1            1   \n",
       "4               45   Self employed         6                  1            1   \n",
       "\n",
       "   PAN_flag  VoterID_flag  Driving_flag  Passport_flag  \\\n",
       "0         0             0             0              0   \n",
       "1         0             0             0              0   \n",
       "2         0             0             0              0   \n",
       "3         0             0             0              0   \n",
       "4         0             0             0              0   \n",
       "\n",
       "  PERFORM_CNS.SCORE.DESCRIPTION  PRI.OVERDUE.ACCTS  SEC.ACTIVE.ACCTS  \\\n",
       "0   No Bureau History Available                  0                 0   \n",
       "1                 I-Medium Risk                  1                 0   \n",
       "2   No Bureau History Available                  0                 0   \n",
       "3              L-Very High Risk                  0                 0   \n",
       "4   No Bureau History Available                  0                 0   \n",
       "\n",
       "   SEC.OVERDUE.ACCTS  NEW.ACCTS.IN.LAST.SIX.MONTHS  \\\n",
       "0                  0                             0   \n",
       "1                  0                             0   \n",
       "2                  0                             0   \n",
       "3                  0                             0   \n",
       "4                  0                             0   \n",
       "\n",
       "   DELINQUENT.ACCTS.IN.LAST.SIX.MONTHS AVERAGE.ACCT.AGE CREDIT.HISTORY.LENGTH  \\\n",
       "0                                    0        0yrs 0mon             0yrs 0mon   \n",
       "1                                    1       1yrs 11mon            1yrs 11mon   \n",
       "2                                    0        0yrs 0mon             0yrs 0mon   \n",
       "3                                    0        0yrs 8mon             1yrs 3mon   \n",
       "4                                    0        0yrs 0mon             0yrs 0mon   \n",
       "\n",
       "   NO.OF_INQUIRIES  AGE  DisbursedMonth  \n",
       "0                0   35               8  \n",
       "1                0   34               7  \n",
       "2                0   34               8  \n",
       "3                1   26               6  \n",
       "4                1   42               7  "
      ]
     },
     "execution_count": 29,
     "metadata": {},
     "output_type": "execute_result"
    }
   ],
   "source": [
    "new_train.head()"
   ]
  },
  {
   "cell_type": "code",
   "execution_count": 30,
   "metadata": {},
   "outputs": [
    {
     "data": {
      "text/plain": [
       "manufacturer_id                           0\n",
       "Employment.Type                        7661\n",
       "State_ID                                  0\n",
       "MobileNo_Avl_Flag                         0\n",
       "Aadhar_flag                               0\n",
       "PAN_flag                                  0\n",
       "VoterID_flag                              0\n",
       "Driving_flag                              0\n",
       "Passport_flag                             0\n",
       "PERFORM_CNS.SCORE.DESCRIPTION             0\n",
       "PRI.OVERDUE.ACCTS                         0\n",
       "SEC.ACTIVE.ACCTS                          0\n",
       "SEC.OVERDUE.ACCTS                         0\n",
       "NEW.ACCTS.IN.LAST.SIX.MONTHS              0\n",
       "DELINQUENT.ACCTS.IN.LAST.SIX.MONTHS       0\n",
       "AVERAGE.ACCT.AGE                          0\n",
       "CREDIT.HISTORY.LENGTH                     0\n",
       "NO.OF_INQUIRIES                           0\n",
       "AGE                                       0\n",
       "DisbursedMonth                            0\n",
       "dtype: int64"
      ]
     },
     "execution_count": 30,
     "metadata": {},
     "output_type": "execute_result"
    }
   ],
   "source": [
    "new_train.isnull().sum()"
   ]
  },
  {
   "cell_type": "code",
   "execution_count": 31,
   "metadata": {},
   "outputs": [
    {
     "data": {
      "text/plain": [
       "manufacturer_id                         int64\n",
       "Employment.Type                        object\n",
       "State_ID                                int64\n",
       "MobileNo_Avl_Flag                       int64\n",
       "Aadhar_flag                             int64\n",
       "PAN_flag                                int64\n",
       "VoterID_flag                            int64\n",
       "Driving_flag                            int64\n",
       "Passport_flag                           int64\n",
       "PERFORM_CNS.SCORE.DESCRIPTION          object\n",
       "PRI.OVERDUE.ACCTS                       int64\n",
       "SEC.ACTIVE.ACCTS                        int64\n",
       "SEC.OVERDUE.ACCTS                       int64\n",
       "NEW.ACCTS.IN.LAST.SIX.MONTHS            int64\n",
       "DELINQUENT.ACCTS.IN.LAST.SIX.MONTHS     int64\n",
       "AVERAGE.ACCT.AGE                       object\n",
       "CREDIT.HISTORY.LENGTH                  object\n",
       "NO.OF_INQUIRIES                         int64\n",
       "AGE                                     int64\n",
       "DisbursedMonth                          int64\n",
       "dtype: object"
      ]
     },
     "execution_count": 31,
     "metadata": {},
     "output_type": "execute_result"
    }
   ],
   "source": [
    "new_train.dtypes"
   ]
  },
  {
   "cell_type": "code",
   "execution_count": 32,
   "metadata": {},
   "outputs": [],
   "source": [
    "# imputing missing values of employe type with mode\n",
    "new_train['Employment.Type'].fillna(new_train['Employment.Type'].mode()[0],inplace=True)"
   ]
  },
  {
   "cell_type": "code",
   "execution_count": 33,
   "metadata": {},
   "outputs": [
    {
     "data": {
      "text/plain": [
       "<matplotlib.axes._subplots.AxesSubplot at 0x16a8f81b550>"
      ]
     },
     "execution_count": 33,
     "metadata": {},
     "output_type": "execute_result"
    },
    {
     "data": {
      "image/png": "[encoded data removed]",
      "text/plain": [
       "<Figure size 432x288 with 1 Axes>"
      ]
     },
     "metadata": {},
     "output_type": "display_data"
    }
   ],
   "source": [
    "loan_emp=pd.crosstab(new_train['Employment.Type'],new_data['loan_default'])\n",
    "loan_emp.plot(kind='bar')"
   ]
  },
  {
   "cell_type": "code",
   "execution_count": 34,
   "metadata": {},
   "outputs": [
    {
     "data": {
      "text/plain": [
       "<matplotlib.axes._subplots.AxesSubplot at 0x16a907f7390>"
      ]
     },
     "execution_count": 34,
     "metadata": {},
     "output_type": "execute_result"
    },
    {
     "data": {
      "image/png": "[encoded data removed]",
      "text/plain": [
       "<Figure size 432x288 with 1 Axes>"
      ]
     },
     "metadata": {},
     "output_type": "display_data"
    }
   ],
   "source": [
    "loan_adhar=pd.crosstab(new_data['loan_default'],new_train['Aadhar_flag'])\n",
    "loan_adhar.plot(kind='bar')"
   ]
  },
  {
   "cell_type": "code",
   "execution_count": 35,
   "metadata": {},
   "outputs": [
    {
     "data": {
      "text/plain": [
       "<matplotlib.axes._subplots.AxesSubplot at 0x16a900b6048>"
      ]
     },
     "execution_count": 35,
     "metadata": {},
     "output_type": "execute_result"
    },
    {
     "data": {
      "image/png": "[encoded data removed]",
      "text/plain": [
       "<Figure size 432x288 with 1 Axes>"
      ]
     },
     "metadata": {},
     "output_type": "display_data"
    }
   ],
   "source": [
    "loan_manufacturer=pd.crosstab(new_train['manufacturer_id'],new_data['loan_default'])\n",
    "loan_manufacturer.plot(kind='bar')"
   ]
  },
  {
   "cell_type": "code",
   "execution_count": 36,
   "metadata": {},
   "outputs": [
    {
     "data": {
      "text/plain": [
       "<matplotlib.axes._subplots.AxesSubplot at 0x16a90121da0>"
      ]
     },
     "execution_count": 36,
     "metadata": {},
     "output_type": "execute_result"
    },
    {
     "data": {
      "image/png": "[encoded data removed]",
      "text/plain": [
       "<Figure size 432x288 with 1 Axes>"
      ]
     },
     "metadata": {},
     "output_type": "display_data"
    }
   ],
   "source": [
    "loan_pan=pd.crosstab(new_train['PAN_flag'],new_data['loan_default'])\n",
    "loan_pan.plot(kind='bar')"
   ]
  },
  {
   "cell_type": "code",
   "execution_count": 37,
   "metadata": {},
   "outputs": [
    {
     "data": {
      "text/plain": [
       "<matplotlib.axes._subplots.AxesSubplot at 0x16a90042438>"
      ]
     },
     "execution_count": 37,
     "metadata": {},
     "output_type": "execute_result"
    },
    {
     "data": {
      "image/png": "[encoded data removed]",
      "text/plain": [
       "<Figure size 432x288 with 1 Axes>"
      ]
     },
     "metadata": {},
     "output_type": "display_data"
    }
   ],
   "source": [
    "loan_passport=pd.crosstab(new_train['Passport_flag'],new_data['loan_default'])\n",
    "loan_passport.plot(kind='bar')"
   ]
  },
  {
   "cell_type": "code",
   "execution_count": 38,
   "metadata": {},
   "outputs": [
    {
     "data": {
      "text/plain": [
       "(array([182543.,      0.,      0.,      0.,      0.,      0.,      0.,\n",
       "             0.,      0.,  50611.]),\n",
       " array([0. , 0.1, 0.2, 0.3, 0.4, 0.5, 0.6, 0.7, 0.8, 0.9, 1. ]),\n",
       " <a list of 10 Patch objects>)"
      ]
     },
     "execution_count": 38,
     "metadata": {},
     "output_type": "execute_result"
    },
    {
     "data": {
      "image/png": "[encoded data removed]",
      "text/plain": [
       "<Figure size 432x288 with 1 Axes>"
      ]
     },
     "metadata": {},
     "output_type": "display_data"
    }
   ],
   "source": [
    "import seaborn as sns\n",
    "\n",
    "plt.hist(new_data['loan_default'],color='red')"
   ]
  },
  {
   "cell_type": "code",
   "execution_count": 39,
   "metadata": {},
   "outputs": [],
   "source": [
    "from sklearn.preprocessing import LabelEncoder\n",
    "le=LabelEncoder()"
   ]
  },
  {
   "cell_type": "code",
   "execution_count": 40,
   "metadata": {},
   "outputs": [
    {
     "name": "stderr",
     "output_type": "stream",
     "text": [
      "C:\\Users\\paarthiv\\Anaconda3\\lib\\site-packages\\sklearn\\preprocessing\\label.py:111: DataConversionWarning: A column-vector y was passed when a 1d array was expected. Please change the shape of y to (n_samples, ), for example using ravel().\n",
      "  y = column_or_1d(y, warn=True)\n"
     ]
    }
   ],
   "source": [
    "new_train['PERFORM_CNS.SCORE.DESCRIPTION'] = le.fit_transform(new_train[['PERFORM_CNS.SCORE.DESCRIPTION']])"
   ]
  },
  {
   "cell_type": "code",
   "execution_count": 41,
   "metadata": {},
   "outputs": [],
   "source": [
    "#changing cat of month and credit to number\n",
    "MONTH=[]\n",
    "for i in range (len(new_train[\"AVERAGE.ACCT.AGE\"])):\n",
    "    MONTH.append((int(new_train['AVERAGE.ACCT.AGE'][i].split(\" \")[0][:-3])*12)+int(new_train['AVERAGE.ACCT.AGE'][i].split(\" \")[1][:-3]))\n",
    "CREDIT=[]\n",
    "for i in range (len(new_train[\"AVERAGE.ACCT.AGE\"])):\n",
    "    CREDIT.append((int(new_train['CREDIT.HISTORY.LENGTH'][i].split(\" \")[0][:-3])*12)+int(new_train['CREDIT.HISTORY.LENGTH'][i].split(\" \")[1][:-3]))\n",
    "new_train[\"AVERAGE.ACCT.AGE\"]=MONTH\n",
    "new_train['CREDIT.HISTORY.LENGTH']=CREDIT"
   ]
  },
  {
   "cell_type": "code",
   "execution_count": 42,
   "metadata": {},
   "outputs": [],
   "source": [
    "new_train['Employment.Type']=new_train[\"Employment.Type\"].replace({'Self employed':0,'Salaried':1})"
   ]
  },
  {
   "cell_type": "code",
   "execution_count": 43,
   "metadata": {},
   "outputs": [
    {
     "data": {
      "text/plain": [
       "array([<matplotlib.axes._subplots.AxesSubplot object at 0x0000016A8F003940>,\n",
       "       <matplotlib.axes._subplots.AxesSubplot object at 0x0000016A8F02BE10>],\n",
       "      dtype=object)"
      ]
     },
     "execution_count": 43,
     "metadata": {},
     "output_type": "execute_result"
    },
    {
     "data": {
      "image/png": "[encoded data removed]",
      "text/plain": [
       "<Figure size 576x432 with 2 Axes>"
      ]
     },
     "metadata": {},
     "output_type": "display_data"
    }
   ],
   "source": [
    "#Side by Side boxplot\n",
    "# compare in categorial and numeriacal we are using box plot\n",
    "train_data.hist(column=\"loan_default\",figsize=(8,6),\n",
    "             by=\"Employment.Type\",\n",
    "             grid=False, # to get notch means the mean look clear in boxplot\n",
    "             )"
   ]
  },
  {
   "cell_type": "code",
   "execution_count": null,
   "metadata": {},
   "outputs": [],
   "source": [
    "train_data.hist(column=\"disbursed_amount\",figsize=(8,6),\n",
    "             by=\"Employment.Type\",color='pink',\n",
    "             grid=False, # to get notch means the mean look clear in boxplot\n",
    "             )"
   ]
  },
  {
   "cell_type": "code",
   "execution_count": 44,
   "metadata": {},
   "outputs": [
    {
     "data": {
      "text/plain": [
       "<matplotlib.axes._subplots.AxesSubplot at 0x16a8f1556d8>"
      ]
     },
     "execution_count": 44,
     "metadata": {},
     "output_type": "execute_result"
    },
    {
     "data": {
      "image/png": "[encoded data removed]",
      "text/plain": [
       "<Figure size 432x288 with 1 Axes>"
      ]
     },
     "metadata": {},
     "output_type": "display_data"
    }
   ],
   "source": [
    "new_train[\"Employment.Type\"].value_counts().plot(kind='bar',figsize=(6,4),color='red',fontsize=13)"
   ]
  },
  {
   "cell_type": "code",
   "execution_count": 45,
   "metadata": {},
   "outputs": [
    {
     "data": {
      "text/html": [
       "<div>\n",
       "<style scoped>\n",
       "    .dataframe tbody tr th:only-of-type {\n",
       "        vertical-align: middle;\n",
       "    }\n",
       "\n",
       "    .dataframe tbody tr th {\n",
       "        vertical-align: top;\n",
       "    }\n",
       "\n",
       "    .dataframe thead th {\n",
       "        text-align: right;\n",
       "    }\n",
       "</style>\n",
       "<table border=\"1\" class=\"dataframe\">\n",
       "  <thead>\n",
       "    <tr style=\"text-align: right;\">\n",
       "      <th></th>\n",
       "      <th>UniqueID</th>\n",
       "      <th>disbursed_amount</th>\n",
       "      <th>asset_cost</th>\n",
       "      <th>ltv</th>\n",
       "      <th>branch_id</th>\n",
       "      <th>supplier_id</th>\n",
       "      <th>Current_pincode_ID</th>\n",
       "      <th>Employee_code_ID</th>\n",
       "      <th>PERFORM_CNS.SCORE</th>\n",
       "      <th>PRI.NO.OF.ACCTS</th>\n",
       "      <th>...</th>\n",
       "      <th>PRI.OVERDUE.ACCTS</th>\n",
       "      <th>SEC.ACTIVE.ACCTS</th>\n",
       "      <th>SEC.OVERDUE.ACCTS</th>\n",
       "      <th>NEW.ACCTS.IN.LAST.SIX.MONTHS</th>\n",
       "      <th>DELINQUENT.ACCTS.IN.LAST.SIX.MONTHS</th>\n",
       "      <th>AVERAGE.ACCT.AGE</th>\n",
       "      <th>CREDIT.HISTORY.LENGTH</th>\n",
       "      <th>NO.OF_INQUIRIES</th>\n",
       "      <th>AGE</th>\n",
       "      <th>DisbursedMonth</th>\n",
       "    </tr>\n",
       "  </thead>\n",
       "  <tbody>\n",
       "    <tr>\n",
       "      <th>0</th>\n",
       "      <td>420825</td>\n",
       "      <td>50578</td>\n",
       "      <td>58400</td>\n",
       "      <td>89.55</td>\n",
       "      <td>67</td>\n",
       "      <td>22807</td>\n",
       "      <td>1441</td>\n",
       "      <td>1998</td>\n",
       "      <td>0</td>\n",
       "      <td>0</td>\n",
       "      <td>...</td>\n",
       "      <td>0</td>\n",
       "      <td>0</td>\n",
       "      <td>0</td>\n",
       "      <td>0</td>\n",
       "      <td>0</td>\n",
       "      <td>0</td>\n",
       "      <td>0</td>\n",
       "      <td>0</td>\n",
       "      <td>35</td>\n",
       "      <td>8</td>\n",
       "    </tr>\n",
       "    <tr>\n",
       "      <th>1</th>\n",
       "      <td>537409</td>\n",
       "      <td>47145</td>\n",
       "      <td>65550</td>\n",
       "      <td>73.23</td>\n",
       "      <td>67</td>\n",
       "      <td>22807</td>\n",
       "      <td>1502</td>\n",
       "      <td>1998</td>\n",
       "      <td>598</td>\n",
       "      <td>1</td>\n",
       "      <td>...</td>\n",
       "      <td>1</td>\n",
       "      <td>0</td>\n",
       "      <td>0</td>\n",
       "      <td>0</td>\n",
       "      <td>1</td>\n",
       "      <td>23</td>\n",
       "      <td>23</td>\n",
       "      <td>0</td>\n",
       "      <td>34</td>\n",
       "      <td>7</td>\n",
       "    </tr>\n",
       "    <tr>\n",
       "      <th>2</th>\n",
       "      <td>417566</td>\n",
       "      <td>53278</td>\n",
       "      <td>61360</td>\n",
       "      <td>89.63</td>\n",
       "      <td>67</td>\n",
       "      <td>22807</td>\n",
       "      <td>1497</td>\n",
       "      <td>1998</td>\n",
       "      <td>0</td>\n",
       "      <td>0</td>\n",
       "      <td>...</td>\n",
       "      <td>0</td>\n",
       "      <td>0</td>\n",
       "      <td>0</td>\n",
       "      <td>0</td>\n",
       "      <td>0</td>\n",
       "      <td>0</td>\n",
       "      <td>0</td>\n",
       "      <td>0</td>\n",
       "      <td>34</td>\n",
       "      <td>8</td>\n",
       "    </tr>\n",
       "    <tr>\n",
       "      <th>3</th>\n",
       "      <td>624493</td>\n",
       "      <td>57513</td>\n",
       "      <td>66113</td>\n",
       "      <td>88.48</td>\n",
       "      <td>67</td>\n",
       "      <td>22807</td>\n",
       "      <td>1501</td>\n",
       "      <td>1998</td>\n",
       "      <td>305</td>\n",
       "      <td>3</td>\n",
       "      <td>...</td>\n",
       "      <td>0</td>\n",
       "      <td>0</td>\n",
       "      <td>0</td>\n",
       "      <td>0</td>\n",
       "      <td>0</td>\n",
       "      <td>8</td>\n",
       "      <td>15</td>\n",
       "      <td>1</td>\n",
       "      <td>26</td>\n",
       "      <td>6</td>\n",
       "    </tr>\n",
       "    <tr>\n",
       "      <th>4</th>\n",
       "      <td>539055</td>\n",
       "      <td>52378</td>\n",
       "      <td>60300</td>\n",
       "      <td>88.39</td>\n",
       "      <td>67</td>\n",
       "      <td>22807</td>\n",
       "      <td>1495</td>\n",
       "      <td>1998</td>\n",
       "      <td>0</td>\n",
       "      <td>0</td>\n",
       "      <td>...</td>\n",
       "      <td>0</td>\n",
       "      <td>0</td>\n",
       "      <td>0</td>\n",
       "      <td>0</td>\n",
       "      <td>0</td>\n",
       "      <td>0</td>\n",
       "      <td>0</td>\n",
       "      <td>1</td>\n",
       "      <td>42</td>\n",
       "      <td>7</td>\n",
       "    </tr>\n",
       "  </tbody>\n",
       "</table>\n",
       "<p>5 rows × 41 columns</p>\n",
       "</div>"
      ],
      "text/plain": [
       "   UniqueID  disbursed_amount  asset_cost    ltv  branch_id  supplier_id  \\\n",
       "0    420825             50578       58400  89.55         67        22807   \n",
       "1    537409             47145       65550  73.23         67        22807   \n",
       "2    417566             53278       61360  89.63         67        22807   \n",
       "3    624493             57513       66113  88.48         67        22807   \n",
       "4    539055             52378       60300  88.39         67        22807   \n",
       "\n",
       "   Current_pincode_ID  Employee_code_ID  PERFORM_CNS.SCORE  PRI.NO.OF.ACCTS  \\\n",
       "0                1441              1998                  0                0   \n",
       "1                1502              1998                598                1   \n",
       "2                1497              1998                  0                0   \n",
       "3                1501              1998                305                3   \n",
       "4                1495              1998                  0                0   \n",
       "\n",
       "        ...        PRI.OVERDUE.ACCTS  SEC.ACTIVE.ACCTS  SEC.OVERDUE.ACCTS  \\\n",
       "0       ...                        0                 0                  0   \n",
       "1       ...                        1                 0                  0   \n",
       "2       ...                        0                 0                  0   \n",
       "3       ...                        0                 0                  0   \n",
       "4       ...                        0                 0                  0   \n",
       "\n",
       "   NEW.ACCTS.IN.LAST.SIX.MONTHS  DELINQUENT.ACCTS.IN.LAST.SIX.MONTHS  \\\n",
       "0                             0                                    0   \n",
       "1                             0                                    1   \n",
       "2                             0                                    0   \n",
       "3                             0                                    0   \n",
       "4                             0                                    0   \n",
       "\n",
       "   AVERAGE.ACCT.AGE  CREDIT.HISTORY.LENGTH  NO.OF_INQUIRIES  AGE  \\\n",
       "0                 0                      0                0   35   \n",
       "1                23                     23                0   34   \n",
       "2                 0                      0                0   34   \n",
       "3                 8                     15                1   26   \n",
       "4                 0                      0                1   42   \n",
       "\n",
       "   DisbursedMonth  \n",
       "0               8  \n",
       "1               7  \n",
       "2               8  \n",
       "3               6  \n",
       "4               7  \n",
       "\n",
       "[5 rows x 41 columns]"
      ]
     },
     "execution_count": 45,
     "metadata": {},
     "output_type": "execute_result"
    }
   ],
   "source": [
    "# after doing EDA analysing creating a new set by using concat after categorical variables to\n",
    "#numericals\n",
    "\n",
    "train1=pd.concat([new_data,new_train],axis=1)\n",
    "train1.head()"
   ]
  },
  {
   "cell_type": "markdown",
   "metadata": {},
   "source": [
    "# Decision tree for only numerical variables"
   ]
  },
  {
   "cell_type": "code",
   "execution_count": 46,
   "metadata": {},
   "outputs": [],
   "source": [
    "from sklearn.tree import DecisionTreeClassifier\n",
    "from sklearn.metrics import accuracy_score, cohen_kappa_score,roc_curve,auc\n",
    "from sklearn.model_selection import train_test_split"
   ]
  },
  {
   "cell_type": "code",
   "execution_count": 47,
   "metadata": {},
   "outputs": [
    {
     "data": {
      "text/plain": [
       "(233154, 21)"
      ]
     },
     "execution_count": 47,
     "metadata": {},
     "output_type": "execute_result"
    }
   ],
   "source": [
    "new_data.shape"
   ]
  },
  {
   "cell_type": "code",
   "execution_count": 48,
   "metadata": {},
   "outputs": [],
   "source": [
    "x_train = new_data.drop(['loan_default'],axis=1)"
   ]
  },
  {
   "cell_type": "code",
   "execution_count": 49,
   "metadata": {},
   "outputs": [],
   "source": [
    "y_train=new_data['loan_default']"
   ]
  },
  {
   "cell_type": "code",
   "execution_count": 50,
   "metadata": {},
   "outputs": [
    {
     "data": {
      "text/plain": [
       "((233154, 20), (233154,))"
      ]
     },
     "execution_count": 50,
     "metadata": {},
     "output_type": "execute_result"
    }
   ],
   "source": [
    "x_train.shape,y_train.shape"
   ]
  },
  {
   "cell_type": "code",
   "execution_count": 51,
   "metadata": {},
   "outputs": [],
   "source": [
    "X_train,X_test,Y_train,Y_test = train_test_split(x_train,y_train,test_size=0.3,random_state=1234)"
   ]
  },
  {
   "cell_type": "code",
   "execution_count": 52,
   "metadata": {},
   "outputs": [
    {
     "data": {
      "text/plain": [
       "((163207, 20), (163207,), (69947, 20), (69947,))"
      ]
     },
     "execution_count": 52,
     "metadata": {},
     "output_type": "execute_result"
    }
   ],
   "source": [
    "X_train.shape,Y_train.shape,X_test.shape,Y_test.shape"
   ]
  },
  {
   "cell_type": "code",
   "execution_count": 53,
   "metadata": {},
   "outputs": [],
   "source": [
    "model1 = DecisionTreeClassifier()"
   ]
  },
  {
   "cell_type": "code",
   "execution_count": 54,
   "metadata": {},
   "outputs": [
    {
     "data": {
      "text/plain": [
       "DecisionTreeClassifier(class_weight=None, criterion='gini', max_depth=None,\n",
       "            max_features=None, max_leaf_nodes=None,\n",
       "            min_impurity_decrease=0.0, min_impurity_split=None,\n",
       "            min_samples_leaf=1, min_samples_split=2,\n",
       "            min_weight_fraction_leaf=0.0, presort=False, random_state=None,\n",
       "            splitter='best')"
      ]
     },
     "execution_count": 54,
     "metadata": {},
     "output_type": "execute_result"
    }
   ],
   "source": [
    "model1.fit(X_train,Y_train)"
   ]
  },
  {
   "cell_type": "code",
   "execution_count": 55,
   "metadata": {},
   "outputs": [],
   "source": [
    "predict_tree = model1.predict(X_test)"
   ]
  },
  {
   "cell_type": "code",
   "execution_count": 56,
   "metadata": {},
   "outputs": [
    {
     "data": {
      "text/plain": [
       "0.6713797589603557"
      ]
     },
     "execution_count": 56,
     "metadata": {},
     "output_type": "execute_result"
    }
   ],
   "source": [
    "accuracy_score(Y_test,predict_tree)"
   ]
  },
  {
   "cell_type": "code",
   "execution_count": 57,
   "metadata": {},
   "outputs": [
    {
     "data": {
      "text/plain": [
       "0.0608795168860129"
      ]
     },
     "execution_count": 57,
     "metadata": {},
     "output_type": "execute_result"
    }
   ],
   "source": [
    "cohen_kappa_score(Y_test,predict_tree)"
   ]
  },
  {
   "cell_type": "code",
   "execution_count": 58,
   "metadata": {},
   "outputs": [],
   "source": [
    "import sklearn.metrics as metrics"
   ]
  },
  {
   "cell_type": "code",
   "execution_count": 59,
   "metadata": {},
   "outputs": [],
   "source": [
    "probs = model1.predict_proba(X_test)"
   ]
  },
  {
   "cell_type": "code",
   "execution_count": 60,
   "metadata": {},
   "outputs": [],
   "source": [
    "preds = probs[:,1]\n",
    "fpr, tpr, threshold = metrics.roc_curve(Y_test, preds)\n",
    "roc_auc = metrics.auc(fpr, tpr)"
   ]
  },
  {
   "cell_type": "code",
   "execution_count": 61,
   "metadata": {},
   "outputs": [
    {
     "data": {
      "image/png": "[encoded data removed]",
      "text/plain": [
       "<Figure size 432x288 with 1 Axes>"
      ]
     },
     "metadata": {},
     "output_type": "display_data"
    }
   ],
   "source": [
    "plt.title('Receiver Operating Characteristic')\n",
    "plt.plot(fpr, tpr, 'b', label = 'AUC = %0.2f' % roc_auc)\n",
    "plt.legend(loc = 'lower right')\n",
    "plt.plot([0, 1], [0, 1],'r--')\n",
    "plt.xlim([0, 1])\n",
    "plt.ylim([0, 1])\n",
    "plt.ylabel('True Positive Rate')\n",
    "plt.xlabel('False Positive Rate')\n",
    "plt.show()\n"
   ]
  },
  {
   "cell_type": "code",
   "execution_count": 62,
   "metadata": {},
   "outputs": [
    {
     "data": {
      "text/plain": [
       "(array([0.        , 0.22110011, 1.        ]),\n",
       " array([0.        , 0.28375798, 1.        ]),\n",
       " array([2, 1, 0], dtype=int64))"
      ]
     },
     "execution_count": 62,
     "metadata": {},
     "output_type": "execute_result"
    }
   ],
   "source": [
    "roc=metrics.roc_curve(Y_test,predict_tree)\n",
    "roc"
   ]
  },
  {
   "cell_type": "code",
   "execution_count": 63,
   "metadata": {},
   "outputs": [
    {
     "name": "stderr",
     "output_type": "stream",
     "text": [
      "C:\\Users\\paarthiv\\Anaconda3\\lib\\site-packages\\sklearn\\ensemble\\weight_boosting.py:29: DeprecationWarning: numpy.core.umath_tests is an internal NumPy module and should not be imported. It will be removed in a future NumPy release.\n",
      "  from numpy.core.umath_tests import inner1d\n"
     ]
    }
   ],
   "source": [
    "# applying randomforest by remiving some variable new created traing set of data\n",
    "import xgboost\n",
    "from sklearn.ensemble import AdaBoostClassifier, BaggingClassifier, GradientBoostingClassifier,RandomForestClassifier"
   ]
  },
  {
   "cell_type": "code",
   "execution_count": 64,
   "metadata": {},
   "outputs": [
    {
     "data": {
      "text/plain": [
       "(Index(['UniqueID', 'disbursed_amount', 'asset_cost', 'ltv', 'branch_id',\n",
       "        'supplier_id', 'Current_pincode_ID', 'Employee_code_ID',\n",
       "        'PERFORM_CNS.SCORE', 'PRI.NO.OF.ACCTS', 'PRI.ACTIVE.ACCTS',\n",
       "        'PRI.CURRENT.BALANCE', 'PRI.SANCTIONED.AMOUNT', 'PRI.DISBURSED.AMOUNT',\n",
       "        'SEC.NO.OF.ACCTS', 'SEC.CURRENT.BALANCE', 'SEC.SANCTIONED.AMOUNT',\n",
       "        'SEC.DISBURSED.AMOUNT', 'PRIMARY.INSTAL.AMT', 'SEC.INSTAL.AMT',\n",
       "        'loan_default', 'manufacturer_id', 'Employment.Type', 'State_ID',\n",
       "        'MobileNo_Avl_Flag', 'Aadhar_flag', 'PAN_flag', 'VoterID_flag',\n",
       "        'Driving_flag', 'Passport_flag', 'PERFORM_CNS.SCORE.DESCRIPTION',\n",
       "        'PRI.OVERDUE.ACCTS', 'SEC.ACTIVE.ACCTS', 'SEC.OVERDUE.ACCTS',\n",
       "        'NEW.ACCTS.IN.LAST.SIX.MONTHS', 'DELINQUENT.ACCTS.IN.LAST.SIX.MONTHS',\n",
       "        'AVERAGE.ACCT.AGE', 'CREDIT.HISTORY.LENGTH', 'NO.OF_INQUIRIES', 'AGE',\n",
       "        'DisbursedMonth'],\n",
       "       dtype='object'), (233154, 41))"
      ]
     },
     "execution_count": 64,
     "metadata": {},
     "output_type": "execute_result"
    }
   ],
   "source": [
    "train1.columns,train1.shape"
   ]
  },
  {
   "cell_type": "code",
   "execution_count": 65,
   "metadata": {},
   "outputs": [
    {
     "data": {
      "text/html": [
       "<div>\n",
       "<style scoped>\n",
       "    .dataframe tbody tr th:only-of-type {\n",
       "        vertical-align: middle;\n",
       "    }\n",
       "\n",
       "    .dataframe tbody tr th {\n",
       "        vertical-align: top;\n",
       "    }\n",
       "\n",
       "    .dataframe thead th {\n",
       "        text-align: right;\n",
       "    }\n",
       "</style>\n",
       "<table border=\"1\" class=\"dataframe\">\n",
       "  <thead>\n",
       "    <tr style=\"text-align: right;\">\n",
       "      <th></th>\n",
       "      <th>UniqueID</th>\n",
       "      <th>disbursed_amount</th>\n",
       "      <th>asset_cost</th>\n",
       "      <th>ltv</th>\n",
       "      <th>branch_id</th>\n",
       "      <th>supplier_id</th>\n",
       "      <th>Current_pincode_ID</th>\n",
       "      <th>Employee_code_ID</th>\n",
       "      <th>PRI.CURRENT.BALANCE</th>\n",
       "      <th>PRI.SANCTIONED.AMOUNT</th>\n",
       "      <th>...</th>\n",
       "      <th>PRI.OVERDUE.ACCTS</th>\n",
       "      <th>SEC.ACTIVE.ACCTS</th>\n",
       "      <th>SEC.OVERDUE.ACCTS</th>\n",
       "      <th>NEW.ACCTS.IN.LAST.SIX.MONTHS</th>\n",
       "      <th>DELINQUENT.ACCTS.IN.LAST.SIX.MONTHS</th>\n",
       "      <th>AVERAGE.ACCT.AGE</th>\n",
       "      <th>CREDIT.HISTORY.LENGTH</th>\n",
       "      <th>NO.OF_INQUIRIES</th>\n",
       "      <th>AGE</th>\n",
       "      <th>DisbursedMonth</th>\n",
       "    </tr>\n",
       "  </thead>\n",
       "  <tbody>\n",
       "    <tr>\n",
       "      <th>0</th>\n",
       "      <td>420825</td>\n",
       "      <td>50578</td>\n",
       "      <td>58400</td>\n",
       "      <td>89.55</td>\n",
       "      <td>67</td>\n",
       "      <td>22807</td>\n",
       "      <td>1441</td>\n",
       "      <td>1998</td>\n",
       "      <td>0</td>\n",
       "      <td>0</td>\n",
       "      <td>...</td>\n",
       "      <td>0</td>\n",
       "      <td>0</td>\n",
       "      <td>0</td>\n",
       "      <td>0</td>\n",
       "      <td>0</td>\n",
       "      <td>0</td>\n",
       "      <td>0</td>\n",
       "      <td>0</td>\n",
       "      <td>35</td>\n",
       "      <td>8</td>\n",
       "    </tr>\n",
       "    <tr>\n",
       "      <th>1</th>\n",
       "      <td>537409</td>\n",
       "      <td>47145</td>\n",
       "      <td>65550</td>\n",
       "      <td>73.23</td>\n",
       "      <td>67</td>\n",
       "      <td>22807</td>\n",
       "      <td>1502</td>\n",
       "      <td>1998</td>\n",
       "      <td>27600</td>\n",
       "      <td>50200</td>\n",
       "      <td>...</td>\n",
       "      <td>1</td>\n",
       "      <td>0</td>\n",
       "      <td>0</td>\n",
       "      <td>0</td>\n",
       "      <td>1</td>\n",
       "      <td>23</td>\n",
       "      <td>23</td>\n",
       "      <td>0</td>\n",
       "      <td>34</td>\n",
       "      <td>7</td>\n",
       "    </tr>\n",
       "    <tr>\n",
       "      <th>2</th>\n",
       "      <td>417566</td>\n",
       "      <td>53278</td>\n",
       "      <td>61360</td>\n",
       "      <td>89.63</td>\n",
       "      <td>67</td>\n",
       "      <td>22807</td>\n",
       "      <td>1497</td>\n",
       "      <td>1998</td>\n",
       "      <td>0</td>\n",
       "      <td>0</td>\n",
       "      <td>...</td>\n",
       "      <td>0</td>\n",
       "      <td>0</td>\n",
       "      <td>0</td>\n",
       "      <td>0</td>\n",
       "      <td>0</td>\n",
       "      <td>0</td>\n",
       "      <td>0</td>\n",
       "      <td>0</td>\n",
       "      <td>34</td>\n",
       "      <td>8</td>\n",
       "    </tr>\n",
       "    <tr>\n",
       "      <th>3</th>\n",
       "      <td>624493</td>\n",
       "      <td>57513</td>\n",
       "      <td>66113</td>\n",
       "      <td>88.48</td>\n",
       "      <td>67</td>\n",
       "      <td>22807</td>\n",
       "      <td>1501</td>\n",
       "      <td>1998</td>\n",
       "      <td>0</td>\n",
       "      <td>0</td>\n",
       "      <td>...</td>\n",
       "      <td>0</td>\n",
       "      <td>0</td>\n",
       "      <td>0</td>\n",
       "      <td>0</td>\n",
       "      <td>0</td>\n",
       "      <td>8</td>\n",
       "      <td>15</td>\n",
       "      <td>1</td>\n",
       "      <td>26</td>\n",
       "      <td>6</td>\n",
       "    </tr>\n",
       "    <tr>\n",
       "      <th>4</th>\n",
       "      <td>539055</td>\n",
       "      <td>52378</td>\n",
       "      <td>60300</td>\n",
       "      <td>88.39</td>\n",
       "      <td>67</td>\n",
       "      <td>22807</td>\n",
       "      <td>1495</td>\n",
       "      <td>1998</td>\n",
       "      <td>0</td>\n",
       "      <td>0</td>\n",
       "      <td>...</td>\n",
       "      <td>0</td>\n",
       "      <td>0</td>\n",
       "      <td>0</td>\n",
       "      <td>0</td>\n",
       "      <td>0</td>\n",
       "      <td>0</td>\n",
       "      <td>0</td>\n",
       "      <td>1</td>\n",
       "      <td>42</td>\n",
       "      <td>7</td>\n",
       "    </tr>\n",
       "  </tbody>\n",
       "</table>\n",
       "<p>5 rows × 38 columns</p>\n",
       "</div>"
      ],
      "text/plain": [
       "   UniqueID  disbursed_amount  asset_cost    ltv  branch_id  supplier_id  \\\n",
       "0    420825             50578       58400  89.55         67        22807   \n",
       "1    537409             47145       65550  73.23         67        22807   \n",
       "2    417566             53278       61360  89.63         67        22807   \n",
       "3    624493             57513       66113  88.48         67        22807   \n",
       "4    539055             52378       60300  88.39         67        22807   \n",
       "\n",
       "   Current_pincode_ID  Employee_code_ID  PRI.CURRENT.BALANCE  \\\n",
       "0                1441              1998                    0   \n",
       "1                1502              1998                27600   \n",
       "2                1497              1998                    0   \n",
       "3                1501              1998                    0   \n",
       "4                1495              1998                    0   \n",
       "\n",
       "   PRI.SANCTIONED.AMOUNT       ...        PRI.OVERDUE.ACCTS  SEC.ACTIVE.ACCTS  \\\n",
       "0                      0       ...                        0                 0   \n",
       "1                  50200       ...                        1                 0   \n",
       "2                      0       ...                        0                 0   \n",
       "3                      0       ...                        0                 0   \n",
       "4                      0       ...                        0                 0   \n",
       "\n",
       "   SEC.OVERDUE.ACCTS  NEW.ACCTS.IN.LAST.SIX.MONTHS  \\\n",
       "0                  0                             0   \n",
       "1                  0                             0   \n",
       "2                  0                             0   \n",
       "3                  0                             0   \n",
       "4                  0                             0   \n",
       "\n",
       "   DELINQUENT.ACCTS.IN.LAST.SIX.MONTHS  AVERAGE.ACCT.AGE  \\\n",
       "0                                    0                 0   \n",
       "1                                    1                23   \n",
       "2                                    0                 0   \n",
       "3                                    0                 8   \n",
       "4                                    0                 0   \n",
       "\n",
       "   CREDIT.HISTORY.LENGTH  NO.OF_INQUIRIES  AGE  DisbursedMonth  \n",
       "0                      0                0   35               8  \n",
       "1                     23                0   34               7  \n",
       "2                      0                0   34               8  \n",
       "3                     15                1   26               6  \n",
       "4                      0                1   42               7  \n",
       "\n",
       "[5 rows x 38 columns]"
      ]
     },
     "execution_count": 65,
     "metadata": {},
     "output_type": "execute_result"
    }
   ],
   "source": [
    "train1.drop(['PERFORM_CNS.SCORE','PRI.NO.OF.ACCTS', 'PRI.ACTIVE.ACCTS'],axis=1).head()"
   ]
  },
  {
   "cell_type": "code",
   "execution_count": 66,
   "metadata": {},
   "outputs": [],
   "source": [
    "X=train1.drop(['loan_default','PERFORM_CNS.SCORE','PRI.NO.OF.ACCTS', 'PRI.ACTIVE.ACCTS'],axis=1)\n"
   ]
  },
  {
   "cell_type": "code",
   "execution_count": 67,
   "metadata": {},
   "outputs": [],
   "source": [
    "y=train1['loan_default']"
   ]
  },
  {
   "cell_type": "code",
   "execution_count": 68,
   "metadata": {},
   "outputs": [
    {
     "data": {
      "text/plain": [
       "((233154, 37), (233154,))"
      ]
     },
     "execution_count": 68,
     "metadata": {},
     "output_type": "execute_result"
    }
   ],
   "source": [
    "X.shape,y.shape"
   ]
  },
  {
   "cell_type": "code",
   "execution_count": 69,
   "metadata": {},
   "outputs": [],
   "source": [
    "X_train,X_test,Y_train,Y_test = train_test_split(X,y,test_size=0.3,random_state=1234)"
   ]
  },
  {
   "cell_type": "code",
   "execution_count": 70,
   "metadata": {},
   "outputs": [
    {
     "data": {
      "text/plain": [
       "((163207, 37), (163207,), (69947, 37), (69947,))"
      ]
     },
     "execution_count": 70,
     "metadata": {},
     "output_type": "execute_result"
    }
   ],
   "source": [
    "X_train.shape,Y_train.shape,X_test.shape,Y_test.shape"
   ]
  },
  {
   "cell_type": "markdown",
   "metadata": {},
   "source": [
    "#### Randomforest_baggedeclassifier"
   ]
  },
  {
   "cell_type": "code",
   "execution_count": 71,
   "metadata": {},
   "outputs": [],
   "source": [
    "rf_base=RandomForestClassifier()"
   ]
  },
  {
   "cell_type": "code",
   "execution_count": 72,
   "metadata": {},
   "outputs": [],
   "source": [
    "rf_bagged=BaggingClassifier(base_estimator=rf_base,n_estimators=10,random_state=1234)"
   ]
  },
  {
   "cell_type": "code",
   "execution_count": 73,
   "metadata": {},
   "outputs": [
    {
     "data": {
      "text/plain": [
       "BaggingClassifier(base_estimator=RandomForestClassifier(bootstrap=True, class_weight=None, criterion='gini',\n",
       "            max_depth=None, max_features='auto', max_leaf_nodes=None,\n",
       "            min_impurity_decrease=0.0, min_impurity_split=None,\n",
       "            min_samples_leaf=1, min_samples_split=2,\n",
       "            min_weight_fraction_leaf=0.0, n_estimators=10, n_jobs=1,\n",
       "            oob_score=False, random_state=None, verbose=0,\n",
       "            warm_start=False),\n",
       "         bootstrap=True, bootstrap_features=False, max_features=1.0,\n",
       "         max_samples=1.0, n_estimators=10, n_jobs=1, oob_score=False,\n",
       "         random_state=1234, verbose=0, warm_start=False)"
      ]
     },
     "execution_count": 73,
     "metadata": {},
     "output_type": "execute_result"
    }
   ],
   "source": [
    "rf_bagged"
   ]
  },
  {
   "cell_type": "code",
   "execution_count": 74,
   "metadata": {},
   "outputs": [
    {
     "data": {
      "text/plain": [
       "BaggingClassifier(base_estimator=RandomForestClassifier(bootstrap=True, class_weight=None, criterion='gini',\n",
       "            max_depth=None, max_features='auto', max_leaf_nodes=None,\n",
       "            min_impurity_decrease=0.0, min_impurity_split=None,\n",
       "            min_samples_leaf=1, min_samples_split=2,\n",
       "            min_weight_fraction_leaf=0.0, n_estimators=10, n_jobs=1,\n",
       "            oob_score=False, random_state=None, verbose=0,\n",
       "            warm_start=False),\n",
       "         bootstrap=True, bootstrap_features=False, max_features=1.0,\n",
       "         max_samples=1.0, n_estimators=10, n_jobs=1, oob_score=False,\n",
       "         random_state=1234, verbose=0, warm_start=False)"
      ]
     },
     "execution_count": 74,
     "metadata": {},
     "output_type": "execute_result"
    }
   ],
   "source": [
    "rf_bagged.fit(X=X_train,y=Y_train)"
   ]
  },
  {
   "cell_type": "code",
   "execution_count": 75,
   "metadata": {},
   "outputs": [],
   "source": [
    "pred_rf_bagged=rf_bagged.predict(X=X_test)"
   ]
  },
  {
   "cell_type": "code",
   "execution_count": 76,
   "metadata": {},
   "outputs": [
    {
     "data": {
      "text/plain": [
       "0.7833216578266402"
      ]
     },
     "execution_count": 76,
     "metadata": {},
     "output_type": "execute_result"
    }
   ],
   "source": [
    "accuracy_score(Y_test,pred_rf_bagged)"
   ]
  },
  {
   "cell_type": "code",
   "execution_count": 77,
   "metadata": {},
   "outputs": [
    {
     "data": {
      "text/plain": [
       "0.031988184733434344"
      ]
     },
     "execution_count": 77,
     "metadata": {},
     "output_type": "execute_result"
    }
   ],
   "source": [
    "cohen_kappa_score(Y_test,pred_rf_bagged)"
   ]
  },
  {
   "cell_type": "code",
   "execution_count": 78,
   "metadata": {},
   "outputs": [],
   "source": [
    "probs1 = rf_bagged.predict_proba(X_test)"
   ]
  },
  {
   "cell_type": "code",
   "execution_count": 79,
   "metadata": {},
   "outputs": [],
   "source": [
    "preds1 = probs1[:,1]\n",
    "fpr, tpr, threshold = metrics.roc_curve(Y_test, preds1)\n",
    "roc_auc1 = metrics.auc(fpr, tpr)"
   ]
  },
  {
   "cell_type": "code",
   "execution_count": 80,
   "metadata": {},
   "outputs": [
    {
     "data": {
      "image/png": "[encoded data removed]",
      "text/plain": [
       "<Figure size 432x288 with 1 Axes>"
      ]
     },
     "metadata": {},
     "output_type": "display_data"
    }
   ],
   "source": [
    "plt.title('Receiver Operating Characteristic 1')\n",
    "plt.plot(fpr, tpr, 'b', label = 'AUC = %0.2f' % roc_auc1)\n",
    "plt.legend(loc = 'lower right')\n",
    "plt.plot([0, 1], [0, 1],'r--')\n",
    "plt.xlim([0, 1])\n",
    "plt.ylim([0, 1])\n",
    "plt.ylabel('True Positive Rate')\n",
    "plt.xlabel('False Positive Rate')\n",
    "plt.show()"
   ]
  },
  {
   "cell_type": "markdown",
   "metadata": {},
   "source": [
    "#### XG BOOST CLASSIFIER"
   ]
  },
  {
   "cell_type": "code",
   "execution_count": 81,
   "metadata": {},
   "outputs": [],
   "source": [
    "xgb_class = xgboost.XGBClassifier()"
   ]
  },
  {
   "cell_type": "code",
   "execution_count": 82,
   "metadata": {},
   "outputs": [],
   "source": [
    "from sklearn.model_selection import GridSearchCV,cross_val_score"
   ]
  },
  {
   "cell_type": "code",
   "execution_count": null,
   "metadata": {},
   "outputs": [],
   "source": [
    "model = xgboost.XGBClassifier()\n",
    "model.fit(X_train, y_train)"
   ]
  },
  {
   "cell_type": "code",
   "execution_count": 83,
   "metadata": {},
   "outputs": [],
   "source": [
    "xgb_class_cv = GridSearchCV(xgb_class, param_grid={'n_estimators':[100,200,300,400,500]}, n_jobs = -1)"
   ]
  },
  {
   "cell_type": "code",
   "execution_count": null,
   "metadata": {},
   "outputs": [],
   "source": [
    "# xgb_class_CV =xgboost.XGBClassifier(xgb_class,n_estimators=10,random_state=1234)"
   ]
  },
  {
   "cell_type": "code",
   "execution_count": 85,
   "metadata": {},
   "outputs": [
    {
     "data": {
      "text/plain": [
       "GridSearchCV(cv=None, error_score='raise',\n",
       "       estimator=XGBClassifier(base_score=0.5, booster='gbtree', colsample_bylevel=1,\n",
       "       colsample_bytree=1, gamma=0, learning_rate=0.1, max_delta_step=0,\n",
       "       max_depth=3, min_child_weight=1, missing=None, n_estimators=100,\n",
       "       n_jobs=1, nthread=None, objective='binary:logistic', random_state=0,\n",
       "       reg_alpha=0, reg_lambda=1, scale_pos_weight=1, seed=None,\n",
       "       silent=True, subsample=1),\n",
       "       fit_params=None, iid=True, n_jobs=-1,\n",
       "       param_grid={'n_estimators': [100, 200, 300, 400, 500]},\n",
       "       pre_dispatch='2*n_jobs', refit=True, return_train_score='warn',\n",
       "       scoring=None, verbose=0)"
      ]
     },
     "execution_count": 85,
     "metadata": {},
     "output_type": "execute_result"
    }
   ],
   "source": [
    "xgb_class_cv.fit(X=X_train,y=Y_train)"
   ]
  },
  {
   "cell_type": "code",
   "execution_count": 86,
   "metadata": {},
   "outputs": [
    {
     "name": "stderr",
     "output_type": "stream",
     "text": [
      "C:\\Users\\paarthiv\\Anaconda3\\lib\\site-packages\\sklearn\\preprocessing\\label.py:151: DeprecationWarning: The truth value of an empty array is ambiguous. Returning False, but in future this will result in an error. Use `array.size > 0` to check that an array is not empty.\n",
      "  if diff:\n"
     ]
    }
   ],
   "source": [
    "pred_xgb=xgb_class_cv.predict(X=X_test)"
   ]
  },
  {
   "cell_type": "code",
   "execution_count": 87,
   "metadata": {},
   "outputs": [
    {
     "data": {
      "text/plain": [
       "0.7832644716714083"
      ]
     },
     "execution_count": 87,
     "metadata": {},
     "output_type": "execute_result"
    }
   ],
   "source": [
    "accuracy_score(Y_test,pred_xgb)"
   ]
  },
  {
   "cell_type": "code",
   "execution_count": 88,
   "metadata": {},
   "outputs": [
    {
     "data": {
      "text/plain": [
       "0.005280587205921727"
      ]
     },
     "execution_count": 88,
     "metadata": {},
     "output_type": "execute_result"
    }
   ],
   "source": [
    "cohen_kappa_score(Y_test,pred_xgb)"
   ]
  },
  {
   "cell_type": "code",
   "execution_count": 90,
   "metadata": {},
   "outputs": [],
   "source": [
    "probs2 =xgb_class_cv.predict_proba(X_test)"
   ]
  },
  {
   "cell_type": "code",
   "execution_count": 91,
   "metadata": {},
   "outputs": [],
   "source": [
    "preds2 = probs2[:,1]\n",
    "fpr, tpr, threshold = metrics.roc_curve(Y_test, preds2)\n",
    "roc_auc2 = metrics.auc(fpr, tpr)"
   ]
  },
  {
   "cell_type": "code",
   "execution_count": 92,
   "metadata": {},
   "outputs": [
    {
     "data": {
      "image/png": "[encoded data removed]",
      "text/plain": [
       "<Figure size 432x288 with 1 Axes>"
      ]
     },
     "metadata": {},
     "output_type": "display_data"
    }
   ],
   "source": [
    "plt.title('Receiver Operating Characteristic 2')\n",
    "plt.plot(fpr, tpr, 'b', label = 'AUC = %0.2f' % roc_auc2)\n",
    "plt.legend(loc = 'lower right')\n",
    "plt.plot([0, 1], [0, 1],'r--')\n",
    "plt.xlim([0, 1])\n",
    "plt.ylim([0, 1])\n",
    "plt.ylabel('True Positive Rate')\n",
    "plt.xlabel('False Positive Rate')\n",
    "plt.show()"
   ]
  },
  {
   "cell_type": "markdown",
   "metadata": {},
   "source": [
    "#### ADAboosting"
   ]
  },
  {
   "cell_type": "code",
   "execution_count": 93,
   "metadata": {},
   "outputs": [],
   "source": [
    "adaboost = AdaBoostClassifier()\n",
    "\n"
   ]
  },
  {
   "cell_type": "code",
   "execution_count": 94,
   "metadata": {},
   "outputs": [],
   "source": [
    "adaboost_CV = GridSearchCV(adaboost, param_grid={'n_estimators':[300,400,500,1000], 'learning_rate':[0.4,0.5,0.6,0.7,0.8]},n_jobs=-1)"
   ]
  },
  {
   "cell_type": "code",
   "execution_count": 95,
   "metadata": {},
   "outputs": [
    {
     "data": {
      "text/plain": [
       "GridSearchCV(cv=None, error_score='raise',\n",
       "       estimator=AdaBoostClassifier(algorithm='SAMME.R', base_estimator=None,\n",
       "          learning_rate=1.0, n_estimators=50, random_state=None),\n",
       "       fit_params=None, iid=True, n_jobs=-1,\n",
       "       param_grid={'n_estimators': [300, 400, 500, 1000], 'learning_rate': [0.4, 0.5, 0.6, 0.7, 0.8]},\n",
       "       pre_dispatch='2*n_jobs', refit=True, return_train_score='warn',\n",
       "       scoring=None, verbose=0)"
      ]
     },
     "execution_count": 95,
     "metadata": {},
     "output_type": "execute_result"
    }
   ],
   "source": [
    "adaboost_CV.fit(X_train,Y_train)"
   ]
  },
  {
   "cell_type": "code",
   "execution_count": 97,
   "metadata": {},
   "outputs": [],
   "source": [
    "pred_adaboost = adaboost_CV.predict(X=X_test)"
   ]
  },
  {
   "cell_type": "code",
   "execution_count": 98,
   "metadata": {},
   "outputs": [
    {
     "data": {
      "text/plain": [
       "0.7831929889773686"
      ]
     },
     "execution_count": 98,
     "metadata": {},
     "output_type": "execute_result"
    }
   ],
   "source": [
    "accuracy_score(Y_test,pred_adaboost)"
   ]
  },
  {
   "cell_type": "code",
   "execution_count": 99,
   "metadata": {},
   "outputs": [
    {
     "data": {
      "text/plain": [
       "0.012030151979433024"
      ]
     },
     "execution_count": 99,
     "metadata": {},
     "output_type": "execute_result"
    }
   ],
   "source": [
    "cohen_kappa_score(Y_test,pred_adaboost)"
   ]
  },
  {
   "cell_type": "code",
   "execution_count": 100,
   "metadata": {},
   "outputs": [],
   "source": [
    "probs3 =adaboost_CV.predict_proba(X_test)"
   ]
  },
  {
   "cell_type": "code",
   "execution_count": 103,
   "metadata": {},
   "outputs": [],
   "source": [
    "preds3 = probs3[:,1]\n",
    "fpr, tpr, threshold = metrics.roc_curve(Y_test, preds3)\n",
    "roc_auc3 = metrics.auc(fpr, tpr)"
   ]
  },
  {
   "cell_type": "code",
   "execution_count": 104,
   "metadata": {},
   "outputs": [
    {
     "data": {
      "image/png": "[encoded data removed]",
      "text/plain": [
       "<Figure size 432x288 with 1 Axes>"
      ]
     },
     "metadata": {},
     "output_type": "display_data"
    }
   ],
   "source": [
    "plt.title('Receiver Operating Characteristic 2')\n",
    "plt.plot(fpr, tpr, 'b', label = 'AUC = %0.2f' % roc_auc3)\n",
    "plt.legend(loc = 'lower right')\n",
    "plt.plot([0, 1], [0, 1],'r--')\n",
    "plt.xlim([0, 1])\n",
    "plt.ylim([0, 1])\n",
    "plt.ylabel('True Positive Rate')\n",
    "plt.xlabel('False Positive Rate')\n",
    "plt.show()"
   ]
  },
  {
   "cell_type": "markdown",
   "metadata": {},
   "source": [
    "### Test data"
   ]
  },
  {
   "cell_type": "code",
   "execution_count": 118,
   "metadata": {},
   "outputs": [
    {
     "data": {
      "text/html": [
       "<div>\n",
       "<style scoped>\n",
       "    .dataframe tbody tr th:only-of-type {\n",
       "        vertical-align: middle;\n",
       "    }\n",
       "\n",
       "    .dataframe tbody tr th {\n",
       "        vertical-align: top;\n",
       "    }\n",
       "\n",
       "    .dataframe thead th {\n",
       "        text-align: right;\n",
       "    }\n",
       "</style>\n",
       "<table border=\"1\" class=\"dataframe\">\n",
       "  <thead>\n",
       "    <tr style=\"text-align: right;\">\n",
       "      <th></th>\n",
       "      <th>UniqueID</th>\n",
       "      <th>disbursed_amount</th>\n",
       "      <th>asset_cost</th>\n",
       "      <th>ltv</th>\n",
       "      <th>branch_id</th>\n",
       "      <th>supplier_id</th>\n",
       "      <th>manufacturer_id</th>\n",
       "      <th>Current_pincode_ID</th>\n",
       "      <th>Date.of.Birth</th>\n",
       "      <th>Employment.Type</th>\n",
       "      <th>...</th>\n",
       "      <th>SEC.CURRENT.BALANCE</th>\n",
       "      <th>SEC.SANCTIONED.AMOUNT</th>\n",
       "      <th>SEC.DISBURSED.AMOUNT</th>\n",
       "      <th>PRIMARY.INSTAL.AMT</th>\n",
       "      <th>SEC.INSTAL.AMT</th>\n",
       "      <th>NEW.ACCTS.IN.LAST.SIX.MONTHS</th>\n",
       "      <th>DELINQUENT.ACCTS.IN.LAST.SIX.MONTHS</th>\n",
       "      <th>AVERAGE.ACCT.AGE</th>\n",
       "      <th>CREDIT.HISTORY.LENGTH</th>\n",
       "      <th>NO.OF_INQUIRIES</th>\n",
       "    </tr>\n",
       "  </thead>\n",
       "  <tbody>\n",
       "    <tr>\n",
       "      <th>0</th>\n",
       "      <td>655269</td>\n",
       "      <td>53478</td>\n",
       "      <td>63558</td>\n",
       "      <td>86.54</td>\n",
       "      <td>67</td>\n",
       "      <td>22807</td>\n",
       "      <td>45</td>\n",
       "      <td>1497</td>\n",
       "      <td>01-01-74</td>\n",
       "      <td>Salaried</td>\n",
       "      <td>...</td>\n",
       "      <td>0</td>\n",
       "      <td>0</td>\n",
       "      <td>0</td>\n",
       "      <td>0</td>\n",
       "      <td>0</td>\n",
       "      <td>0</td>\n",
       "      <td>0</td>\n",
       "      <td>0yrs 0mon</td>\n",
       "      <td>0yrs 0mon</td>\n",
       "      <td>0</td>\n",
       "    </tr>\n",
       "    <tr>\n",
       "      <th>1</th>\n",
       "      <td>723482</td>\n",
       "      <td>55513</td>\n",
       "      <td>63163</td>\n",
       "      <td>89.45</td>\n",
       "      <td>67</td>\n",
       "      <td>22807</td>\n",
       "      <td>45</td>\n",
       "      <td>1497</td>\n",
       "      <td>20-05-85</td>\n",
       "      <td>Self employed</td>\n",
       "      <td>...</td>\n",
       "      <td>0</td>\n",
       "      <td>0</td>\n",
       "      <td>0</td>\n",
       "      <td>5605</td>\n",
       "      <td>0</td>\n",
       "      <td>1</td>\n",
       "      <td>0</td>\n",
       "      <td>0yrs 8mon</td>\n",
       "      <td>1yrs 0mon</td>\n",
       "      <td>1</td>\n",
       "    </tr>\n",
       "    <tr>\n",
       "      <th>2</th>\n",
       "      <td>758529</td>\n",
       "      <td>65282</td>\n",
       "      <td>84320</td>\n",
       "      <td>79.93</td>\n",
       "      <td>78</td>\n",
       "      <td>23135</td>\n",
       "      <td>86</td>\n",
       "      <td>2071</td>\n",
       "      <td>14-10-95</td>\n",
       "      <td>Salaried</td>\n",
       "      <td>...</td>\n",
       "      <td>0</td>\n",
       "      <td>0</td>\n",
       "      <td>0</td>\n",
       "      <td>0</td>\n",
       "      <td>0</td>\n",
       "      <td>0</td>\n",
       "      <td>0</td>\n",
       "      <td>0yrs 0mon</td>\n",
       "      <td>0yrs 0mon</td>\n",
       "      <td>0</td>\n",
       "    </tr>\n",
       "    <tr>\n",
       "      <th>3</th>\n",
       "      <td>763449</td>\n",
       "      <td>46905</td>\n",
       "      <td>63896</td>\n",
       "      <td>76.58</td>\n",
       "      <td>78</td>\n",
       "      <td>17014</td>\n",
       "      <td>45</td>\n",
       "      <td>2070</td>\n",
       "      <td>01-06-73</td>\n",
       "      <td>Self employed</td>\n",
       "      <td>...</td>\n",
       "      <td>0</td>\n",
       "      <td>0</td>\n",
       "      <td>0</td>\n",
       "      <td>0</td>\n",
       "      <td>0</td>\n",
       "      <td>0</td>\n",
       "      <td>0</td>\n",
       "      <td>2yrs 5mon</td>\n",
       "      <td>2yrs 5mon</td>\n",
       "      <td>0</td>\n",
       "    </tr>\n",
       "    <tr>\n",
       "      <th>4</th>\n",
       "      <td>708663</td>\n",
       "      <td>51428</td>\n",
       "      <td>63896</td>\n",
       "      <td>86.08</td>\n",
       "      <td>78</td>\n",
       "      <td>17014</td>\n",
       "      <td>45</td>\n",
       "      <td>2069</td>\n",
       "      <td>01-06-72</td>\n",
       "      <td>Salaried</td>\n",
       "      <td>...</td>\n",
       "      <td>0</td>\n",
       "      <td>0</td>\n",
       "      <td>0</td>\n",
       "      <td>0</td>\n",
       "      <td>0</td>\n",
       "      <td>0</td>\n",
       "      <td>0</td>\n",
       "      <td>0yrs 0mon</td>\n",
       "      <td>0yrs 0mon</td>\n",
       "      <td>0</td>\n",
       "    </tr>\n",
       "  </tbody>\n",
       "</table>\n",
       "<p>5 rows × 40 columns</p>\n",
       "</div>"
      ],
      "text/plain": [
       "   UniqueID  disbursed_amount  asset_cost    ltv  branch_id  supplier_id  \\\n",
       "0    655269             53478       63558  86.54         67        22807   \n",
       "1    723482             55513       63163  89.45         67        22807   \n",
       "2    758529             65282       84320  79.93         78        23135   \n",
       "3    763449             46905       63896  76.58         78        17014   \n",
       "4    708663             51428       63896  86.08         78        17014   \n",
       "\n",
       "   manufacturer_id  Current_pincode_ID Date.of.Birth Employment.Type  \\\n",
       "0               45                1497      01-01-74        Salaried   \n",
       "1               45                1497      20-05-85   Self employed   \n",
       "2               86                2071      14-10-95        Salaried   \n",
       "3               45                2070      01-06-73   Self employed   \n",
       "4               45                2069      01-06-72        Salaried   \n",
       "\n",
       "        ...        SEC.CURRENT.BALANCE  SEC.SANCTIONED.AMOUNT  \\\n",
       "0       ...                          0                      0   \n",
       "1       ...                          0                      0   \n",
       "2       ...                          0                      0   \n",
       "3       ...                          0                      0   \n",
       "4       ...                          0                      0   \n",
       "\n",
       "   SEC.DISBURSED.AMOUNT  PRIMARY.INSTAL.AMT  SEC.INSTAL.AMT  \\\n",
       "0                     0                   0               0   \n",
       "1                     0                5605               0   \n",
       "2                     0                   0               0   \n",
       "3                     0                   0               0   \n",
       "4                     0                   0               0   \n",
       "\n",
       "   NEW.ACCTS.IN.LAST.SIX.MONTHS  DELINQUENT.ACCTS.IN.LAST.SIX.MONTHS  \\\n",
       "0                             0                                    0   \n",
       "1                             1                                    0   \n",
       "2                             0                                    0   \n",
       "3                             0                                    0   \n",
       "4                             0                                    0   \n",
       "\n",
       "   AVERAGE.ACCT.AGE  CREDIT.HISTORY.LENGTH  NO.OF_INQUIRIES  \n",
       "0         0yrs 0mon              0yrs 0mon                0  \n",
       "1         0yrs 8mon              1yrs 0mon                1  \n",
       "2         0yrs 0mon              0yrs 0mon                0  \n",
       "3         2yrs 5mon              2yrs 5mon                0  \n",
       "4         0yrs 0mon              0yrs 0mon                0  \n",
       "\n",
       "[5 rows x 40 columns]"
      ]
     },
     "execution_count": 118,
     "metadata": {},
     "output_type": "execute_result"
    }
   ],
   "source": [
    "test_data.head()"
   ]
  },
  {
   "cell_type": "code",
   "execution_count": 121,
   "metadata": {},
   "outputs": [],
   "source": [
    "test_cat=[]\n",
    "test_num=[]\n",
    "for column in test_data.columns:\n",
    "    if (test_data[column].dtype==\"object\")|(len(test_data[column].unique())<=30):\n",
    "        test_cat.append(column)\n",
    "    else:\n",
    "        test_num.append(column)\n",
    "new_test_cat=test_data.loc[:,test_cat]\n",
    "new_test_num=test_data.loc[:,test_num]"
   ]
  },
  {
   "cell_type": "code",
   "execution_count": 122,
   "metadata": {},
   "outputs": [
    {
     "data": {
      "text/plain": [
       "((112392, 21), (112392, 19))"
      ]
     },
     "execution_count": 122,
     "metadata": {},
     "output_type": "execute_result"
    }
   ],
   "source": [
    "new_test_cat.shape,new_test_num.shape"
   ]
  },
  {
   "cell_type": "code",
   "execution_count": 123,
   "metadata": {},
   "outputs": [
    {
     "data": {
      "text/plain": [
       "manufacturer_id                         int64\n",
       "Date.of.Birth                          object\n",
       "Employment.Type                        object\n",
       "DisbursalDate                          object\n",
       "State_ID                                int64\n",
       "MobileNo_Avl_Flag                       int64\n",
       "Aadhar_flag                             int64\n",
       "PAN_flag                                int64\n",
       "VoterID_flag                            int64\n",
       "Driving_flag                            int64\n",
       "Passport_flag                           int64\n",
       "PERFORM_CNS.SCORE.DESCRIPTION          object\n",
       "PRI.OVERDUE.ACCTS                       int64\n",
       "SEC.NO.OF.ACCTS                         int64\n",
       "SEC.ACTIVE.ACCTS                        int64\n",
       "SEC.OVERDUE.ACCTS                       int64\n",
       "NEW.ACCTS.IN.LAST.SIX.MONTHS            int64\n",
       "DELINQUENT.ACCTS.IN.LAST.SIX.MONTHS     int64\n",
       "AVERAGE.ACCT.AGE                       object\n",
       "CREDIT.HISTORY.LENGTH                  object\n",
       "NO.OF_INQUIRIES                         int64\n",
       "dtype: object"
      ]
     },
     "execution_count": 123,
     "metadata": {},
     "output_type": "execute_result"
    }
   ],
   "source": [
    "new_test_cat.dtypes"
   ]
  },
  {
   "cell_type": "code",
   "execution_count": 124,
   "metadata": {},
   "outputs": [],
   "source": [
    "#checking the correlation of numericals\n",
    "# checking correlation to numerical variables\n",
    "corr1 = new_test_num.corr()"
   ]
  },
  {
   "cell_type": "code",
   "execution_count": 125,
   "metadata": {},
   "outputs": [
    {
     "data": {
      "image/png": "[encoded data removed]",
      "text/plain": [
       "<Figure size 864x720 with 2 Axes>"
      ]
     },
     "metadata": {},
     "output_type": "display_data"
    }
   ],
   "source": [
    "plt.figure(figsize=(12, 10))\n",
    "\n",
    "sns.heatmap(corr1[(corr1 >= 0.5) | (corr1 <= -0.4)], \n",
    "            cmap='viridis', vmax=1.0, vmin=-1.0, linewidths=0.1,\n",
    "            annot=True, annot_kws={\"size\": 8}, square=True);"
   ]
  },
  {
   "cell_type": "markdown",
   "metadata": {},
   "source": [
    "##### test catgorical variables"
   ]
  },
  {
   "cell_type": "code",
   "execution_count": 126,
   "metadata": {},
   "outputs": [
    {
     "data": {
      "text/html": [
       "<div>\n",
       "<style scoped>\n",
       "    .dataframe tbody tr th:only-of-type {\n",
       "        vertical-align: middle;\n",
       "    }\n",
       "\n",
       "    .dataframe tbody tr th {\n",
       "        vertical-align: top;\n",
       "    }\n",
       "\n",
       "    .dataframe thead th {\n",
       "        text-align: right;\n",
       "    }\n",
       "</style>\n",
       "<table border=\"1\" class=\"dataframe\">\n",
       "  <thead>\n",
       "    <tr style=\"text-align: right;\">\n",
       "      <th></th>\n",
       "      <th>manufacturer_id</th>\n",
       "      <th>Date.of.Birth</th>\n",
       "      <th>Employment.Type</th>\n",
       "      <th>DisbursalDate</th>\n",
       "      <th>State_ID</th>\n",
       "      <th>MobileNo_Avl_Flag</th>\n",
       "      <th>Aadhar_flag</th>\n",
       "      <th>PAN_flag</th>\n",
       "      <th>VoterID_flag</th>\n",
       "      <th>Driving_flag</th>\n",
       "      <th>...</th>\n",
       "      <th>PERFORM_CNS.SCORE.DESCRIPTION</th>\n",
       "      <th>PRI.OVERDUE.ACCTS</th>\n",
       "      <th>SEC.NO.OF.ACCTS</th>\n",
       "      <th>SEC.ACTIVE.ACCTS</th>\n",
       "      <th>SEC.OVERDUE.ACCTS</th>\n",
       "      <th>NEW.ACCTS.IN.LAST.SIX.MONTHS</th>\n",
       "      <th>DELINQUENT.ACCTS.IN.LAST.SIX.MONTHS</th>\n",
       "      <th>AVERAGE.ACCT.AGE</th>\n",
       "      <th>CREDIT.HISTORY.LENGTH</th>\n",
       "      <th>NO.OF_INQUIRIES</th>\n",
       "    </tr>\n",
       "  </thead>\n",
       "  <tbody>\n",
       "    <tr>\n",
       "      <th>0</th>\n",
       "      <td>45</td>\n",
       "      <td>01-01-74</td>\n",
       "      <td>Salaried</td>\n",
       "      <td>03-11-18</td>\n",
       "      <td>6</td>\n",
       "      <td>1</td>\n",
       "      <td>1</td>\n",
       "      <td>0</td>\n",
       "      <td>0</td>\n",
       "      <td>0</td>\n",
       "      <td>...</td>\n",
       "      <td>No Bureau History Available</td>\n",
       "      <td>0</td>\n",
       "      <td>0</td>\n",
       "      <td>0</td>\n",
       "      <td>0</td>\n",
       "      <td>0</td>\n",
       "      <td>0</td>\n",
       "      <td>0yrs 0mon</td>\n",
       "      <td>0yrs 0mon</td>\n",
       "      <td>0</td>\n",
       "    </tr>\n",
       "    <tr>\n",
       "      <th>1</th>\n",
       "      <td>45</td>\n",
       "      <td>20-05-85</td>\n",
       "      <td>Self employed</td>\n",
       "      <td>20-11-18</td>\n",
       "      <td>6</td>\n",
       "      <td>1</td>\n",
       "      <td>1</td>\n",
       "      <td>0</td>\n",
       "      <td>0</td>\n",
       "      <td>0</td>\n",
       "      <td>...</td>\n",
       "      <td>C-Very Low Risk</td>\n",
       "      <td>0</td>\n",
       "      <td>0</td>\n",
       "      <td>0</td>\n",
       "      <td>0</td>\n",
       "      <td>1</td>\n",
       "      <td>0</td>\n",
       "      <td>0yrs 8mon</td>\n",
       "      <td>1yrs 0mon</td>\n",
       "      <td>1</td>\n",
       "    </tr>\n",
       "    <tr>\n",
       "      <th>2</th>\n",
       "      <td>86</td>\n",
       "      <td>14-10-95</td>\n",
       "      <td>Salaried</td>\n",
       "      <td>29-11-18</td>\n",
       "      <td>4</td>\n",
       "      <td>1</td>\n",
       "      <td>1</td>\n",
       "      <td>1</td>\n",
       "      <td>0</td>\n",
       "      <td>0</td>\n",
       "      <td>...</td>\n",
       "      <td>No Bureau History Available</td>\n",
       "      <td>0</td>\n",
       "      <td>0</td>\n",
       "      <td>0</td>\n",
       "      <td>0</td>\n",
       "      <td>0</td>\n",
       "      <td>0</td>\n",
       "      <td>0yrs 0mon</td>\n",
       "      <td>0yrs 0mon</td>\n",
       "      <td>0</td>\n",
       "    </tr>\n",
       "    <tr>\n",
       "      <th>3</th>\n",
       "      <td>45</td>\n",
       "      <td>01-06-73</td>\n",
       "      <td>Self employed</td>\n",
       "      <td>29-11-18</td>\n",
       "      <td>4</td>\n",
       "      <td>1</td>\n",
       "      <td>1</td>\n",
       "      <td>0</td>\n",
       "      <td>0</td>\n",
       "      <td>0</td>\n",
       "      <td>...</td>\n",
       "      <td>Not Scored: Only a Guarantor</td>\n",
       "      <td>1</td>\n",
       "      <td>0</td>\n",
       "      <td>0</td>\n",
       "      <td>0</td>\n",
       "      <td>0</td>\n",
       "      <td>0</td>\n",
       "      <td>2yrs 5mon</td>\n",
       "      <td>2yrs 5mon</td>\n",
       "      <td>0</td>\n",
       "    </tr>\n",
       "    <tr>\n",
       "      <th>4</th>\n",
       "      <td>45</td>\n",
       "      <td>01-06-72</td>\n",
       "      <td>Salaried</td>\n",
       "      <td>17-11-18</td>\n",
       "      <td>4</td>\n",
       "      <td>1</td>\n",
       "      <td>1</td>\n",
       "      <td>0</td>\n",
       "      <td>0</td>\n",
       "      <td>0</td>\n",
       "      <td>...</td>\n",
       "      <td>No Bureau History Available</td>\n",
       "      <td>0</td>\n",
       "      <td>0</td>\n",
       "      <td>0</td>\n",
       "      <td>0</td>\n",
       "      <td>0</td>\n",
       "      <td>0</td>\n",
       "      <td>0yrs 0mon</td>\n",
       "      <td>0yrs 0mon</td>\n",
       "      <td>0</td>\n",
       "    </tr>\n",
       "  </tbody>\n",
       "</table>\n",
       "<p>5 rows × 21 columns</p>\n",
       "</div>"
      ],
      "text/plain": [
       "   manufacturer_id Date.of.Birth Employment.Type DisbursalDate  State_ID  \\\n",
       "0               45      01-01-74        Salaried      03-11-18         6   \n",
       "1               45      20-05-85   Self employed      20-11-18         6   \n",
       "2               86      14-10-95        Salaried      29-11-18         4   \n",
       "3               45      01-06-73   Self employed      29-11-18         4   \n",
       "4               45      01-06-72        Salaried      17-11-18         4   \n",
       "\n",
       "   MobileNo_Avl_Flag  Aadhar_flag  PAN_flag  VoterID_flag  Driving_flag  \\\n",
       "0                  1            1         0             0             0   \n",
       "1                  1            1         0             0             0   \n",
       "2                  1            1         1             0             0   \n",
       "3                  1            1         0             0             0   \n",
       "4                  1            1         0             0             0   \n",
       "\n",
       "        ...        PERFORM_CNS.SCORE.DESCRIPTION PRI.OVERDUE.ACCTS  \\\n",
       "0       ...          No Bureau History Available                 0   \n",
       "1       ...                      C-Very Low Risk                 0   \n",
       "2       ...          No Bureau History Available                 0   \n",
       "3       ...         Not Scored: Only a Guarantor                 1   \n",
       "4       ...          No Bureau History Available                 0   \n",
       "\n",
       "   SEC.NO.OF.ACCTS  SEC.ACTIVE.ACCTS  SEC.OVERDUE.ACCTS  \\\n",
       "0                0                 0                  0   \n",
       "1                0                 0                  0   \n",
       "2                0                 0                  0   \n",
       "3                0                 0                  0   \n",
       "4                0                 0                  0   \n",
       "\n",
       "   NEW.ACCTS.IN.LAST.SIX.MONTHS  DELINQUENT.ACCTS.IN.LAST.SIX.MONTHS  \\\n",
       "0                             0                                    0   \n",
       "1                             1                                    0   \n",
       "2                             0                                    0   \n",
       "3                             0                                    0   \n",
       "4                             0                                    0   \n",
       "\n",
       "   AVERAGE.ACCT.AGE CREDIT.HISTORY.LENGTH NO.OF_INQUIRIES  \n",
       "0         0yrs 0mon             0yrs 0mon               0  \n",
       "1         0yrs 8mon             1yrs 0mon               1  \n",
       "2         0yrs 0mon             0yrs 0mon               0  \n",
       "3         2yrs 5mon             2yrs 5mon               0  \n",
       "4         0yrs 0mon             0yrs 0mon               0  \n",
       "\n",
       "[5 rows x 21 columns]"
      ]
     },
     "execution_count": 126,
     "metadata": {},
     "output_type": "execute_result"
    }
   ],
   "source": [
    "new_test_cat.head()"
   ]
  },
  {
   "cell_type": "code",
   "execution_count": 127,
   "metadata": {},
   "outputs": [],
   "source": [
    "new_test_cat[\"Date.of.Birth\"]=pd.to_datetime(new_test_cat[\"Date.of.Birth\"],format='%d-%m-%y')"
   ]
  },
  {
   "cell_type": "code",
   "execution_count": 128,
   "metadata": {},
   "outputs": [],
   "source": [
    "new_test_cat[\"DisbursalDate\"]=pd.to_datetime(new_test_cat['DisbursalDate'],format='%d-%m-%y')"
   ]
  },
  {
   "cell_type": "code",
   "execution_count": 129,
   "metadata": {},
   "outputs": [],
   "source": [
    "new_test_cat['AGE']=dt.datetime.now().year-new_test_cat[\"Date.of.Birth\"].dt.year"
   ]
  },
  {
   "cell_type": "code",
   "execution_count": 130,
   "metadata": {},
   "outputs": [],
   "source": [
    "today_month=dt.datetime.now().month\n",
    "#train['DisbursedMonth']=(today_month-train['DisbursalDate'].dt.month)+12"
   ]
  },
  {
   "cell_type": "code",
   "execution_count": 131,
   "metadata": {},
   "outputs": [
    {
     "data": {
      "text/plain": [
       "dtype('<M8[ns]')"
      ]
     },
     "execution_count": 131,
     "metadata": {},
     "output_type": "execute_result"
    }
   ],
   "source": [
    "new_test_cat[\"DisbursalDate\"].dtype"
   ]
  },
  {
   "cell_type": "code",
   "execution_count": 132,
   "metadata": {},
   "outputs": [],
   "source": [
    "new_test_cat['DisbursedMonth']=(today_month-new_test_cat['DisbursalDate'].dt.month)+12"
   ]
  },
  {
   "cell_type": "code",
   "execution_count": 134,
   "metadata": {},
   "outputs": [
    {
     "data": {
      "text/plain": [
       "Index(['manufacturer_id', 'Employment.Type', 'State_ID', 'MobileNo_Avl_Flag',\n",
       "       'Aadhar_flag', 'PAN_flag', 'VoterID_flag', 'Driving_flag',\n",
       "       'Passport_flag', 'PERFORM_CNS.SCORE.DESCRIPTION', 'PRI.OVERDUE.ACCTS',\n",
       "       'SEC.NO.OF.ACCTS', 'SEC.ACTIVE.ACCTS', 'SEC.OVERDUE.ACCTS',\n",
       "       'NEW.ACCTS.IN.LAST.SIX.MONTHS', 'DELINQUENT.ACCTS.IN.LAST.SIX.MONTHS',\n",
       "       'AVERAGE.ACCT.AGE', 'CREDIT.HISTORY.LENGTH', 'NO.OF_INQUIRIES', 'AGE',\n",
       "       'DisbursedMonth'],\n",
       "      dtype='object')"
      ]
     },
     "execution_count": 134,
     "metadata": {},
     "output_type": "execute_result"
    }
   ],
   "source": [
    "new_test=new_test_cat.drop(['Date.of.Birth','DisbursalDate'],axis=1)\n",
    "new_test.columns"
   ]
  },
  {
   "cell_type": "code",
   "execution_count": 135,
   "metadata": {},
   "outputs": [
    {
     "data": {
      "text/plain": [
       "((112392, 21), (112392, 19))"
      ]
     },
     "execution_count": 135,
     "metadata": {},
     "output_type": "execute_result"
    }
   ],
   "source": [
    "new_test.shape,new_test_num.shape"
   ]
  },
  {
   "cell_type": "code",
   "execution_count": 136,
   "metadata": {},
   "outputs": [
    {
     "data": {
      "text/plain": [
       "manufacturer_id                           0\n",
       "Employment.Type                        3443\n",
       "State_ID                                  0\n",
       "MobileNo_Avl_Flag                         0\n",
       "Aadhar_flag                               0\n",
       "PAN_flag                                  0\n",
       "VoterID_flag                              0\n",
       "Driving_flag                              0\n",
       "Passport_flag                             0\n",
       "PERFORM_CNS.SCORE.DESCRIPTION             0\n",
       "PRI.OVERDUE.ACCTS                         0\n",
       "SEC.NO.OF.ACCTS                           0\n",
       "SEC.ACTIVE.ACCTS                          0\n",
       "SEC.OVERDUE.ACCTS                         0\n",
       "NEW.ACCTS.IN.LAST.SIX.MONTHS              0\n",
       "DELINQUENT.ACCTS.IN.LAST.SIX.MONTHS       0\n",
       "AVERAGE.ACCT.AGE                          0\n",
       "CREDIT.HISTORY.LENGTH                     0\n",
       "NO.OF_INQUIRIES                           0\n",
       "AGE                                       0\n",
       "DisbursedMonth                            0\n",
       "dtype: int64"
      ]
     },
     "execution_count": 136,
     "metadata": {},
     "output_type": "execute_result"
    }
   ],
   "source": [
    "new_test.isnull().sum()"
   ]
  },
  {
   "cell_type": "code",
   "execution_count": 137,
   "metadata": {},
   "outputs": [],
   "source": [
    "# imputing missing values of employe type with mode\n",
    "new_test['Employment.Type'].fillna(new_test['Employment.Type'].mode()[0],inplace=True)"
   ]
  },
  {
   "cell_type": "code",
   "execution_count": 138,
   "metadata": {},
   "outputs": [
    {
     "name": "stderr",
     "output_type": "stream",
     "text": [
      "C:\\Users\\paarthiv\\Anaconda3\\lib\\site-packages\\sklearn\\preprocessing\\label.py:111: DataConversionWarning: A column-vector y was passed when a 1d array was expected. Please change the shape of y to (n_samples, ), for example using ravel().\n",
      "  y = column_or_1d(y, warn=True)\n"
     ]
    }
   ],
   "source": [
    "new_test['PERFORM_CNS.SCORE.DESCRIPTION'] = le.fit_transform(new_test[['PERFORM_CNS.SCORE.DESCRIPTION']])"
   ]
  },
  {
   "cell_type": "code",
   "execution_count": 139,
   "metadata": {},
   "outputs": [],
   "source": [
    "#changing cat of month and credit to number\n",
    "MONTH=[]\n",
    "for i in range (len(new_test[\"AVERAGE.ACCT.AGE\"])):\n",
    "    MONTH.append((int(new_test['AVERAGE.ACCT.AGE'][i].split(\" \")[0][:-3])*12)+int(new_test['AVERAGE.ACCT.AGE'][i].split(\" \")[1][:-3]))\n",
    "CREDIT=[]\n",
    "for i in range (len(new_test[\"AVERAGE.ACCT.AGE\"])):\n",
    "    CREDIT.append((int(new_test['CREDIT.HISTORY.LENGTH'][i].split(\" \")[0][:-3])*12)+int(new_test['CREDIT.HISTORY.LENGTH'][i].split(\" \")[1][:-3]))\n",
    "new_test[\"AVERAGE.ACCT.AGE\"]=MONTH\n",
    "new_test['CREDIT.HISTORY.LENGTH']=CREDIT"
   ]
  },
  {
   "cell_type": "code",
   "execution_count": 140,
   "metadata": {},
   "outputs": [],
   "source": [
    "new_test['Employment.Type']=new_test[\"Employment.Type\"].replace({'Self employed':0,'Salaried':1})"
   ]
  },
  {
   "cell_type": "code",
   "execution_count": 143,
   "metadata": {},
   "outputs": [
    {
     "data": {
      "text/plain": [
       "manufacturer_id                        int64\n",
       "Employment.Type                        int64\n",
       "State_ID                               int64\n",
       "MobileNo_Avl_Flag                      int64\n",
       "Aadhar_flag                            int64\n",
       "PAN_flag                               int64\n",
       "VoterID_flag                           int64\n",
       "Driving_flag                           int64\n",
       "Passport_flag                          int64\n",
       "PERFORM_CNS.SCORE.DESCRIPTION          int64\n",
       "PRI.OVERDUE.ACCTS                      int64\n",
       "SEC.NO.OF.ACCTS                        int64\n",
       "SEC.ACTIVE.ACCTS                       int64\n",
       "SEC.OVERDUE.ACCTS                      int64\n",
       "NEW.ACCTS.IN.LAST.SIX.MONTHS           int64\n",
       "DELINQUENT.ACCTS.IN.LAST.SIX.MONTHS    int64\n",
       "AVERAGE.ACCT.AGE                       int64\n",
       "CREDIT.HISTORY.LENGTH                  int64\n",
       "NO.OF_INQUIRIES                        int64\n",
       "AGE                                    int64\n",
       "DisbursedMonth                         int64\n",
       "dtype: object"
      ]
     },
     "execution_count": 143,
     "metadata": {},
     "output_type": "execute_result"
    }
   ],
   "source": [
    "new_test.dtypes"
   ]
  },
  {
   "cell_type": "code",
   "execution_count": 144,
   "metadata": {},
   "outputs": [
    {
     "data": {
      "text/plain": [
       "UniqueID                   int64\n",
       "disbursed_amount           int64\n",
       "asset_cost                 int64\n",
       "ltv                      float64\n",
       "branch_id                  int64\n",
       "supplier_id                int64\n",
       "Current_pincode_ID         int64\n",
       "Employee_code_ID           int64\n",
       "PERFORM_CNS.SCORE          int64\n",
       "PRI.NO.OF.ACCTS            int64\n",
       "PRI.ACTIVE.ACCTS           int64\n",
       "PRI.CURRENT.BALANCE        int64\n",
       "PRI.SANCTIONED.AMOUNT      int64\n",
       "PRI.DISBURSED.AMOUNT       int64\n",
       "SEC.CURRENT.BALANCE        int64\n",
       "SEC.SANCTIONED.AMOUNT      int64\n",
       "SEC.DISBURSED.AMOUNT       int64\n",
       "PRIMARY.INSTAL.AMT         int64\n",
       "SEC.INSTAL.AMT             int64\n",
       "dtype: object"
      ]
     },
     "execution_count": 144,
     "metadata": {},
     "output_type": "execute_result"
    }
   ],
   "source": [
    "new_test_num.dtypes"
   ]
  },
  {
   "cell_type": "code",
   "execution_count": 150,
   "metadata": {},
   "outputs": [],
   "source": [
    "new_num=new_test_num.drop(['PERFORM_CNS.SCORE','PRI.NO.OF.ACCTS', 'PRI.ACTIVE.ACCTS'],axis=1)"
   ]
  },
  {
   "cell_type": "code",
   "execution_count": null,
   "metadata": {},
   "outputs": [],
   "source": []
  },
  {
   "cell_type": "code",
   "execution_count": 151,
   "metadata": {},
   "outputs": [
    {
     "data": {
      "text/html": [
       "<div>\n",
       "<style scoped>\n",
       "    .dataframe tbody tr th:only-of-type {\n",
       "        vertical-align: middle;\n",
       "    }\n",
       "\n",
       "    .dataframe tbody tr th {\n",
       "        vertical-align: top;\n",
       "    }\n",
       "\n",
       "    .dataframe thead th {\n",
       "        text-align: right;\n",
       "    }\n",
       "</style>\n",
       "<table border=\"1\" class=\"dataframe\">\n",
       "  <thead>\n",
       "    <tr style=\"text-align: right;\">\n",
       "      <th></th>\n",
       "      <th>UniqueID</th>\n",
       "      <th>disbursed_amount</th>\n",
       "      <th>asset_cost</th>\n",
       "      <th>ltv</th>\n",
       "      <th>branch_id</th>\n",
       "      <th>supplier_id</th>\n",
       "      <th>Current_pincode_ID</th>\n",
       "      <th>Employee_code_ID</th>\n",
       "      <th>PRI.CURRENT.BALANCE</th>\n",
       "      <th>PRI.SANCTIONED.AMOUNT</th>\n",
       "      <th>...</th>\n",
       "      <th>SEC.NO.OF.ACCTS</th>\n",
       "      <th>SEC.ACTIVE.ACCTS</th>\n",
       "      <th>SEC.OVERDUE.ACCTS</th>\n",
       "      <th>NEW.ACCTS.IN.LAST.SIX.MONTHS</th>\n",
       "      <th>DELINQUENT.ACCTS.IN.LAST.SIX.MONTHS</th>\n",
       "      <th>AVERAGE.ACCT.AGE</th>\n",
       "      <th>CREDIT.HISTORY.LENGTH</th>\n",
       "      <th>NO.OF_INQUIRIES</th>\n",
       "      <th>AGE</th>\n",
       "      <th>DisbursedMonth</th>\n",
       "    </tr>\n",
       "  </thead>\n",
       "  <tbody>\n",
       "    <tr>\n",
       "      <th>0</th>\n",
       "      <td>655269</td>\n",
       "      <td>53478</td>\n",
       "      <td>63558</td>\n",
       "      <td>86.54</td>\n",
       "      <td>67</td>\n",
       "      <td>22807</td>\n",
       "      <td>1497</td>\n",
       "      <td>1998</td>\n",
       "      <td>0</td>\n",
       "      <td>0</td>\n",
       "      <td>...</td>\n",
       "      <td>0</td>\n",
       "      <td>0</td>\n",
       "      <td>0</td>\n",
       "      <td>0</td>\n",
       "      <td>0</td>\n",
       "      <td>0</td>\n",
       "      <td>0</td>\n",
       "      <td>0</td>\n",
       "      <td>45</td>\n",
       "      <td>5</td>\n",
       "    </tr>\n",
       "    <tr>\n",
       "      <th>1</th>\n",
       "      <td>723482</td>\n",
       "      <td>55513</td>\n",
       "      <td>63163</td>\n",
       "      <td>89.45</td>\n",
       "      <td>67</td>\n",
       "      <td>22807</td>\n",
       "      <td>1497</td>\n",
       "      <td>1998</td>\n",
       "      <td>43898</td>\n",
       "      <td>48780</td>\n",
       "      <td>...</td>\n",
       "      <td>0</td>\n",
       "      <td>0</td>\n",
       "      <td>0</td>\n",
       "      <td>1</td>\n",
       "      <td>0</td>\n",
       "      <td>8</td>\n",
       "      <td>12</td>\n",
       "      <td>1</td>\n",
       "      <td>34</td>\n",
       "      <td>5</td>\n",
       "    </tr>\n",
       "    <tr>\n",
       "      <th>2</th>\n",
       "      <td>758529</td>\n",
       "      <td>65282</td>\n",
       "      <td>84320</td>\n",
       "      <td>79.93</td>\n",
       "      <td>78</td>\n",
       "      <td>23135</td>\n",
       "      <td>2071</td>\n",
       "      <td>1646</td>\n",
       "      <td>0</td>\n",
       "      <td>0</td>\n",
       "      <td>...</td>\n",
       "      <td>0</td>\n",
       "      <td>0</td>\n",
       "      <td>0</td>\n",
       "      <td>0</td>\n",
       "      <td>0</td>\n",
       "      <td>0</td>\n",
       "      <td>0</td>\n",
       "      <td>0</td>\n",
       "      <td>24</td>\n",
       "      <td>5</td>\n",
       "    </tr>\n",
       "    <tr>\n",
       "      <th>3</th>\n",
       "      <td>763449</td>\n",
       "      <td>46905</td>\n",
       "      <td>63896</td>\n",
       "      <td>76.58</td>\n",
       "      <td>78</td>\n",
       "      <td>17014</td>\n",
       "      <td>2070</td>\n",
       "      <td>1646</td>\n",
       "      <td>132480</td>\n",
       "      <td>255000</td>\n",
       "      <td>...</td>\n",
       "      <td>0</td>\n",
       "      <td>0</td>\n",
       "      <td>0</td>\n",
       "      <td>0</td>\n",
       "      <td>0</td>\n",
       "      <td>29</td>\n",
       "      <td>29</td>\n",
       "      <td>0</td>\n",
       "      <td>46</td>\n",
       "      <td>5</td>\n",
       "    </tr>\n",
       "    <tr>\n",
       "      <th>4</th>\n",
       "      <td>708663</td>\n",
       "      <td>51428</td>\n",
       "      <td>63896</td>\n",
       "      <td>86.08</td>\n",
       "      <td>78</td>\n",
       "      <td>17014</td>\n",
       "      <td>2069</td>\n",
       "      <td>1646</td>\n",
       "      <td>0</td>\n",
       "      <td>0</td>\n",
       "      <td>...</td>\n",
       "      <td>0</td>\n",
       "      <td>0</td>\n",
       "      <td>0</td>\n",
       "      <td>0</td>\n",
       "      <td>0</td>\n",
       "      <td>0</td>\n",
       "      <td>0</td>\n",
       "      <td>0</td>\n",
       "      <td>47</td>\n",
       "      <td>5</td>\n",
       "    </tr>\n",
       "  </tbody>\n",
       "</table>\n",
       "<p>5 rows × 37 columns</p>\n",
       "</div>"
      ],
      "text/plain": [
       "   UniqueID  disbursed_amount  asset_cost    ltv  branch_id  supplier_id  \\\n",
       "0    655269             53478       63558  86.54         67        22807   \n",
       "1    723482             55513       63163  89.45         67        22807   \n",
       "2    758529             65282       84320  79.93         78        23135   \n",
       "3    763449             46905       63896  76.58         78        17014   \n",
       "4    708663             51428       63896  86.08         78        17014   \n",
       "\n",
       "   Current_pincode_ID  Employee_code_ID  PRI.CURRENT.BALANCE  \\\n",
       "0                1497              1998                    0   \n",
       "1                1497              1998                43898   \n",
       "2                2071              1646                    0   \n",
       "3                2070              1646               132480   \n",
       "4                2069              1646                    0   \n",
       "\n",
       "   PRI.SANCTIONED.AMOUNT       ...        SEC.NO.OF.ACCTS  SEC.ACTIVE.ACCTS  \\\n",
       "0                      0       ...                      0                 0   \n",
       "1                  48780       ...                      0                 0   \n",
       "2                      0       ...                      0                 0   \n",
       "3                 255000       ...                      0                 0   \n",
       "4                      0       ...                      0                 0   \n",
       "\n",
       "   SEC.OVERDUE.ACCTS  NEW.ACCTS.IN.LAST.SIX.MONTHS  \\\n",
       "0                  0                             0   \n",
       "1                  0                             1   \n",
       "2                  0                             0   \n",
       "3                  0                             0   \n",
       "4                  0                             0   \n",
       "\n",
       "   DELINQUENT.ACCTS.IN.LAST.SIX.MONTHS  AVERAGE.ACCT.AGE  \\\n",
       "0                                    0                 0   \n",
       "1                                    0                 8   \n",
       "2                                    0                 0   \n",
       "3                                    0                29   \n",
       "4                                    0                 0   \n",
       "\n",
       "   CREDIT.HISTORY.LENGTH  NO.OF_INQUIRIES  AGE  DisbursedMonth  \n",
       "0                      0                0   45               5  \n",
       "1                     12                1   34               5  \n",
       "2                      0                0   24               5  \n",
       "3                     29                0   46               5  \n",
       "4                      0                0   47               5  \n",
       "\n",
       "[5 rows x 37 columns]"
      ]
     },
     "execution_count": 151,
     "metadata": {},
     "output_type": "execute_result"
    }
   ],
   "source": [
    "test1=pd.concat([new_num,new_test],axis=1)\n",
    "test1.head()"
   ]
  },
  {
   "cell_type": "code",
   "execution_count": 152,
   "metadata": {},
   "outputs": [
    {
     "data": {
      "text/plain": [
       "((163207, 37), (112392, 37))"
      ]
     },
     "execution_count": 152,
     "metadata": {},
     "output_type": "execute_result"
    }
   ],
   "source": [
    "X_train.shape,test1.shape"
   ]
  },
  {
   "cell_type": "code",
   "execution_count": 157,
   "metadata": {},
   "outputs": [
    {
     "data": {
      "text/plain": [
       "(112392,)"
      ]
     },
     "execution_count": 157,
     "metadata": {},
     "output_type": "execute_result"
    }
   ],
   "source": [
    "solution=adaboost_CV.predict(test1)\n",
    "solution.shape"
   ]
  },
  {
   "cell_type": "code",
   "execution_count": 166,
   "metadata": {},
   "outputs": [],
   "source": [
    "sample_submission=pd.read_csv('sample_submission.csv')"
   ]
  },
  {
   "cell_type": "code",
   "execution_count": 167,
   "metadata": {},
   "outputs": [
    {
     "data": {
      "text/plain": [
       "((112392,), (112392, 2))"
      ]
     },
     "execution_count": 167,
     "metadata": {},
     "output_type": "execute_result"
    }
   ],
   "source": [
    "solution.shape,submission.shape"
   ]
  },
  {
   "cell_type": "code",
   "execution_count": 174,
   "metadata": {},
   "outputs": [],
   "source": [
    "#pred2 = pd.DataFrame(solutiontest1['UniqueID'])"
   ]
  },
  {
   "cell_type": "code",
   "execution_count": 175,
   "metadata": {},
   "outputs": [],
   "source": [
    "#pred2.to_csv(r\"C:\\Users\\paarthiv\\Desktop\\pred2.csv\")"
   ]
  },
  {
   "cell_type": "code",
   "execution_count": 169,
   "metadata": {},
   "outputs": [],
   "source": [
    "submission[\"UniqueID\"]=test1[\"UniqueID\"]\n",
    "sample_submission[\"loan_default\"]=solution"
   ]
  },
  {
   "cell_type": "code",
   "execution_count": 170,
   "metadata": {},
   "outputs": [],
   "source": [
    "sample_submission.to_csv(\"Sample_Submission.csv\",index=False)"
   ]
  },
  {
   "cell_type": "code",
   "execution_count": 171,
   "metadata": {},
   "outputs": [
    {
     "data": {
      "text/html": [
       "<div>\n",
       "<style scoped>\n",
       "    .dataframe tbody tr th:only-of-type {\n",
       "        vertical-align: middle;\n",
       "    }\n",
       "\n",
       "    .dataframe tbody tr th {\n",
       "        vertical-align: top;\n",
       "    }\n",
       "\n",
       "    .dataframe thead th {\n",
       "        text-align: right;\n",
       "    }\n",
       "</style>\n",
       "<table border=\"1\" class=\"dataframe\">\n",
       "  <thead>\n",
       "    <tr style=\"text-align: right;\">\n",
       "      <th></th>\n",
       "      <th>UniqueID</th>\n",
       "      <th>loan_default</th>\n",
       "    </tr>\n",
       "  </thead>\n",
       "  <tbody>\n",
       "    <tr>\n",
       "      <th>0</th>\n",
       "      <td>655269</td>\n",
       "      <td>0</td>\n",
       "    </tr>\n",
       "    <tr>\n",
       "      <th>1</th>\n",
       "      <td>723482</td>\n",
       "      <td>0</td>\n",
       "    </tr>\n",
       "    <tr>\n",
       "      <th>2</th>\n",
       "      <td>758529</td>\n",
       "      <td>0</td>\n",
       "    </tr>\n",
       "    <tr>\n",
       "      <th>3</th>\n",
       "      <td>763449</td>\n",
       "      <td>0</td>\n",
       "    </tr>\n",
       "    <tr>\n",
       "      <th>4</th>\n",
       "      <td>708663</td>\n",
       "      <td>0</td>\n",
       "    </tr>\n",
       "    <tr>\n",
       "      <th>5</th>\n",
       "      <td>725530</td>\n",
       "      <td>0</td>\n",
       "    </tr>\n",
       "    <tr>\n",
       "      <th>6</th>\n",
       "      <td>708592</td>\n",
       "      <td>0</td>\n",
       "    </tr>\n",
       "    <tr>\n",
       "      <th>7</th>\n",
       "      <td>714975</td>\n",
       "      <td>0</td>\n",
       "    </tr>\n",
       "    <tr>\n",
       "      <th>8</th>\n",
       "      <td>712795</td>\n",
       "      <td>0</td>\n",
       "    </tr>\n",
       "    <tr>\n",
       "      <th>9</th>\n",
       "      <td>708656</td>\n",
       "      <td>0</td>\n",
       "    </tr>\n",
       "    <tr>\n",
       "      <th>10</th>\n",
       "      <td>712520</td>\n",
       "      <td>0</td>\n",
       "    </tr>\n",
       "    <tr>\n",
       "      <th>11</th>\n",
       "      <td>753695</td>\n",
       "      <td>0</td>\n",
       "    </tr>\n",
       "    <tr>\n",
       "      <th>12</th>\n",
       "      <td>708646</td>\n",
       "      <td>0</td>\n",
       "    </tr>\n",
       "    <tr>\n",
       "      <th>13</th>\n",
       "      <td>730225</td>\n",
       "      <td>0</td>\n",
       "    </tr>\n",
       "    <tr>\n",
       "      <th>14</th>\n",
       "      <td>714877</td>\n",
       "      <td>0</td>\n",
       "    </tr>\n",
       "    <tr>\n",
       "      <th>15</th>\n",
       "      <td>769166</td>\n",
       "      <td>0</td>\n",
       "    </tr>\n",
       "    <tr>\n",
       "      <th>16</th>\n",
       "      <td>710254</td>\n",
       "      <td>0</td>\n",
       "    </tr>\n",
       "    <tr>\n",
       "      <th>17</th>\n",
       "      <td>708812</td>\n",
       "      <td>0</td>\n",
       "    </tr>\n",
       "    <tr>\n",
       "      <th>18</th>\n",
       "      <td>726172</td>\n",
       "      <td>0</td>\n",
       "    </tr>\n",
       "    <tr>\n",
       "      <th>19</th>\n",
       "      <td>716959</td>\n",
       "      <td>0</td>\n",
       "    </tr>\n",
       "    <tr>\n",
       "      <th>20</th>\n",
       "      <td>725935</td>\n",
       "      <td>0</td>\n",
       "    </tr>\n",
       "    <tr>\n",
       "      <th>21</th>\n",
       "      <td>736039</td>\n",
       "      <td>0</td>\n",
       "    </tr>\n",
       "    <tr>\n",
       "      <th>22</th>\n",
       "      <td>748400</td>\n",
       "      <td>0</td>\n",
       "    </tr>\n",
       "    <tr>\n",
       "      <th>23</th>\n",
       "      <td>753652</td>\n",
       "      <td>0</td>\n",
       "    </tr>\n",
       "    <tr>\n",
       "      <th>24</th>\n",
       "      <td>695108</td>\n",
       "      <td>0</td>\n",
       "    </tr>\n",
       "    <tr>\n",
       "      <th>25</th>\n",
       "      <td>695320</td>\n",
       "      <td>0</td>\n",
       "    </tr>\n",
       "    <tr>\n",
       "      <th>26</th>\n",
       "      <td>662145</td>\n",
       "      <td>0</td>\n",
       "    </tr>\n",
       "    <tr>\n",
       "      <th>27</th>\n",
       "      <td>688068</td>\n",
       "      <td>0</td>\n",
       "    </tr>\n",
       "    <tr>\n",
       "      <th>28</th>\n",
       "      <td>662099</td>\n",
       "      <td>0</td>\n",
       "    </tr>\n",
       "    <tr>\n",
       "      <th>29</th>\n",
       "      <td>723985</td>\n",
       "      <td>0</td>\n",
       "    </tr>\n",
       "    <tr>\n",
       "      <th>...</th>\n",
       "      <td>...</td>\n",
       "      <td>...</td>\n",
       "    </tr>\n",
       "    <tr>\n",
       "      <th>112362</th>\n",
       "      <td>752805</td>\n",
       "      <td>0</td>\n",
       "    </tr>\n",
       "    <tr>\n",
       "      <th>112363</th>\n",
       "      <td>717500</td>\n",
       "      <td>0</td>\n",
       "    </tr>\n",
       "    <tr>\n",
       "      <th>112364</th>\n",
       "      <td>724306</td>\n",
       "      <td>0</td>\n",
       "    </tr>\n",
       "    <tr>\n",
       "      <th>112365</th>\n",
       "      <td>711416</td>\n",
       "      <td>0</td>\n",
       "    </tr>\n",
       "    <tr>\n",
       "      <th>112366</th>\n",
       "      <td>748123</td>\n",
       "      <td>0</td>\n",
       "    </tr>\n",
       "    <tr>\n",
       "      <th>112367</th>\n",
       "      <td>693692</td>\n",
       "      <td>0</td>\n",
       "    </tr>\n",
       "    <tr>\n",
       "      <th>112368</th>\n",
       "      <td>755025</td>\n",
       "      <td>0</td>\n",
       "    </tr>\n",
       "    <tr>\n",
       "      <th>112369</th>\n",
       "      <td>736372</td>\n",
       "      <td>0</td>\n",
       "    </tr>\n",
       "    <tr>\n",
       "      <th>112370</th>\n",
       "      <td>742701</td>\n",
       "      <td>0</td>\n",
       "    </tr>\n",
       "    <tr>\n",
       "      <th>112371</th>\n",
       "      <td>693666</td>\n",
       "      <td>0</td>\n",
       "    </tr>\n",
       "    <tr>\n",
       "      <th>112372</th>\n",
       "      <td>756379</td>\n",
       "      <td>0</td>\n",
       "    </tr>\n",
       "    <tr>\n",
       "      <th>112373</th>\n",
       "      <td>684778</td>\n",
       "      <td>0</td>\n",
       "    </tr>\n",
       "    <tr>\n",
       "      <th>112374</th>\n",
       "      <td>764397</td>\n",
       "      <td>0</td>\n",
       "    </tr>\n",
       "    <tr>\n",
       "      <th>112375</th>\n",
       "      <td>755459</td>\n",
       "      <td>0</td>\n",
       "    </tr>\n",
       "    <tr>\n",
       "      <th>112376</th>\n",
       "      <td>703659</td>\n",
       "      <td>0</td>\n",
       "    </tr>\n",
       "    <tr>\n",
       "      <th>112377</th>\n",
       "      <td>760921</td>\n",
       "      <td>0</td>\n",
       "    </tr>\n",
       "    <tr>\n",
       "      <th>112378</th>\n",
       "      <td>670693</td>\n",
       "      <td>0</td>\n",
       "    </tr>\n",
       "    <tr>\n",
       "      <th>112379</th>\n",
       "      <td>741933</td>\n",
       "      <td>0</td>\n",
       "    </tr>\n",
       "    <tr>\n",
       "      <th>112380</th>\n",
       "      <td>742851</td>\n",
       "      <td>0</td>\n",
       "    </tr>\n",
       "    <tr>\n",
       "      <th>112381</th>\n",
       "      <td>699787</td>\n",
       "      <td>0</td>\n",
       "    </tr>\n",
       "    <tr>\n",
       "      <th>112382</th>\n",
       "      <td>669006</td>\n",
       "      <td>0</td>\n",
       "    </tr>\n",
       "    <tr>\n",
       "      <th>112383</th>\n",
       "      <td>708464</td>\n",
       "      <td>0</td>\n",
       "    </tr>\n",
       "    <tr>\n",
       "      <th>112384</th>\n",
       "      <td>762274</td>\n",
       "      <td>0</td>\n",
       "    </tr>\n",
       "    <tr>\n",
       "      <th>112385</th>\n",
       "      <td>767673</td>\n",
       "      <td>0</td>\n",
       "    </tr>\n",
       "    <tr>\n",
       "      <th>112386</th>\n",
       "      <td>743207</td>\n",
       "      <td>0</td>\n",
       "    </tr>\n",
       "    <tr>\n",
       "      <th>112387</th>\n",
       "      <td>755547</td>\n",
       "      <td>0</td>\n",
       "    </tr>\n",
       "    <tr>\n",
       "      <th>112388</th>\n",
       "      <td>716994</td>\n",
       "      <td>0</td>\n",
       "    </tr>\n",
       "    <tr>\n",
       "      <th>112389</th>\n",
       "      <td>709352</td>\n",
       "      <td>0</td>\n",
       "    </tr>\n",
       "    <tr>\n",
       "      <th>112390</th>\n",
       "      <td>699795</td>\n",
       "      <td>0</td>\n",
       "    </tr>\n",
       "    <tr>\n",
       "      <th>112391</th>\n",
       "      <td>755244</td>\n",
       "      <td>0</td>\n",
       "    </tr>\n",
       "  </tbody>\n",
       "</table>\n",
       "<p>112392 rows × 2 columns</p>\n",
       "</div>"
      ],
      "text/plain": [
       "        UniqueID  loan_default\n",
       "0         655269             0\n",
       "1         723482             0\n",
       "2         758529             0\n",
       "3         763449             0\n",
       "4         708663             0\n",
       "5         725530             0\n",
       "6         708592             0\n",
       "7         714975             0\n",
       "8         712795             0\n",
       "9         708656             0\n",
       "10        712520             0\n",
       "11        753695             0\n",
       "12        708646             0\n",
       "13        730225             0\n",
       "14        714877             0\n",
       "15        769166             0\n",
       "16        710254             0\n",
       "17        708812             0\n",
       "18        726172             0\n",
       "19        716959             0\n",
       "20        725935             0\n",
       "21        736039             0\n",
       "22        748400             0\n",
       "23        753652             0\n",
       "24        695108             0\n",
       "25        695320             0\n",
       "26        662145             0\n",
       "27        688068             0\n",
       "28        662099             0\n",
       "29        723985             0\n",
       "...          ...           ...\n",
       "112362    752805             0\n",
       "112363    717500             0\n",
       "112364    724306             0\n",
       "112365    711416             0\n",
       "112366    748123             0\n",
       "112367    693692             0\n",
       "112368    755025             0\n",
       "112369    736372             0\n",
       "112370    742701             0\n",
       "112371    693666             0\n",
       "112372    756379             0\n",
       "112373    684778             0\n",
       "112374    764397             0\n",
       "112375    755459             0\n",
       "112376    703659             0\n",
       "112377    760921             0\n",
       "112378    670693             0\n",
       "112379    741933             0\n",
       "112380    742851             0\n",
       "112381    699787             0\n",
       "112382    669006             0\n",
       "112383    708464             0\n",
       "112384    762274             0\n",
       "112385    767673             0\n",
       "112386    743207             0\n",
       "112387    755547             0\n",
       "112388    716994             0\n",
       "112389    709352             0\n",
       "112390    699795             0\n",
       "112391    755244             0\n",
       "\n",
       "[112392 rows x 2 columns]"
      ]
     },
     "execution_count": 171,
     "metadata": {},
     "output_type": "execute_result"
    }
   ],
   "source": [
    "pd.read_csv(\"Sample_Submission.csv\")"
   ]
  },
  {
   "cell_type": "code",
   "execution_count": null,
   "metadata": {},
   "outputs": [],
   "source": []
  }
 ],
 "metadata": {
  "kernelspec": {
   "display_name": "Python 3",
   "language": "python",
   "name": "python3"
  },
  "language_info": {
   "codemirror_mode": {
    "name": "ipython",
    "version": 3
   },
   "file_extension": ".py",
   "mimetype": "text/x-python",
   "name": "python",
   "nbconvert_exporter": "python",
   "pygments_lexer": "ipython3",
   "version": "3.6.5"
  }
 },
 "nbformat": 4,
 "nbformat_minor": 2
}
